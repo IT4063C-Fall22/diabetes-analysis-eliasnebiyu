{
 "cells": [
  {
   "cell_type": "markdown",
   "metadata": {},
   "source": [
    "# Diabetes Analysis - Machine Learning End-to-End Project\n",
    "\n",
    "This lab is a guided project that will walk you through the process of building a machine learning model to predict whether the progression of diabetes is likely to occur in a patient based on a set of diagnostic measurements. (I'm not a doctor, so I can't tell you what the measurements mean, but you can read more about them [here](https://www4.stat.ncsu.edu/~boos/var.select/diabetes.html).)\n",
    "\n",
    "To a very large extent, this lab follows the module video lectures. If you're stuck at any point, make sure to check out the video lectures for guidance.\n",
    "\n",
    "**Objectives**\n",
    "- Practice building a machine learning project from start to finish\n",
    "\n",
    "**Emojis Legend**\n",
    "- 👨🏻‍💻 - Instructions; Tells you about something specific you need to do.\n",
    "- 🦉 - Tips; Will tell you about some hints, tips and best practices\n",
    "- 📜 - Documentations; provides links to documentations\n",
    "- 🚩 - Checkpoint; marks a good spot for you to commit your code to git\n",
    "- 🕵️ - Tester; Don't modify code blocks starting with this emoji"
   ]
  },
  {
   "cell_type": "markdown",
   "metadata": {},
   "source": [
    "## Setup\n",
    "First, let's import a few common modules, ensure `MatplotLib` plots figures inline. We also ensure that you have the correct version of Python (3.10) installed.\n",
    "\n",
    "- **Task 👨🏻‍💻**: Keep coming back to update this cell as you need to import new packages.\n",
    "- **Task 👨🏻‍💻**: Check what's already been imported here"
   ]
  },
  {
   "cell_type": "code",
   "execution_count": null,
   "metadata": {},
   "outputs": [],
   "source": [
    "# Python ≥3.10 is required\n",
    "import sys\n",
    "assert sys.version_info >= (3, 10)\n",
    "\n",
    "# Common imports\n",
    "import numpy as np\n",
    "import pandas as pd\n",
    "import os\n",
    "\n",
    "# Scikit Learn imports\n",
    "from sklearn.preprocessing import PolynomialFeatures\n",
    "from sklearn.linear_model import LinearRegression\n",
    "from sklearn.pipeline import make_pipeline\n",
    "\n",
    "# To plot pretty figures\n",
    "%matplotlib inline\n",
    "import matplotlib as mpl\n",
    "import matplotlib.pyplot as plt\n",
    "import seaborn as sns\n",
    "\n",
    "mpl.rc('axes', labelsize=14)\n",
    "mpl.rc('xtick', labelsize=12)\n",
    "mpl.rc('ytick', labelsize=12)\n",
    "plt.style.use(\"bmh\")\n",
    "\n",
    "# to make this notebook's output stable across runs\n",
    "np.random.seed(42)"
   ]
  },
  {
   "cell_type": "markdown",
   "metadata": {},
   "source": [
    "## Diabetes Dataset\n",
    "\n",
    "### 1️⃣ Ask\n",
    "\n",
    "This dataset contains several medical predictor variables and one target variable. Predictor Variables include ten baseline variables: age, sex, body mass index, average blood pressure, and six blood serum measurements (more details below) were obtained for each of n = 442 diabetes patients, as well as a quantitative measure of disease progression one year after baseline (target/outcome).\n",
    "\n",
    "| Attribute | Description                                                                           |\n",
    "| --------- | ------------------------------------------------------------------------------------- |\n",
    "| age       | age in years                                                                          |\n",
    "| sex       | 1 - Male, 2- Female                                                                   |\n",
    "| bmi       | body mass index                                                                       |\n",
    "| bp        | average blood pressure                                                                |\n",
    "| s1        | tc, total serum cholesterol                                                           |\n",
    "| s2        | ldl, low-density lipoproteins                                                         |\n",
    "| s3        | hdl, high-density lipoproteins                                                        |\n",
    "| s4        | tch, total cholesterol / HDL                                                          |\n",
    "| s5        | ltg, possibly log of serum triglycerides level                                        |\n",
    "| s6        | glu, blood sugar level                                                                |\n",
    "| s6        | measure of the disease progression after one year of measuring the baseline variables |\n",
    "\n",
    "The project objective is to develop a model that can predict the disease progression based on the above variables.\n"
   ]
  },
  {
   "cell_type": "markdown",
   "metadata": {},
   "source": [
    "### 2️⃣ Prepare\n",
    "Here we will load the dataset and split it into training and test sets. We will also perform some Exploratory Data Analysis to get some insights about the processing steps we'll need to take."
   ]
  },
  {
   "cell_type": "markdown",
   "metadata": {},
   "source": [
    "**Task 👨🏻‍💻** : Load the dataset from `data/diabetes.csv` and store it in a variable called `diabetes`"
   ]
  },
  {
   "cell_type": "code",
   "execution_count": null,
   "metadata": {},
   "outputs": [],
   "source": []
  },
  {
   "cell_type": "markdown",
   "metadata": {},
   "source": [
    "We need to learn about the composition of the dataset. Let's look at the first few rows of the dataset.\n",
    "\n",
    "**Task 👨🏻‍💻** : Use the `head()` method to look at the first few rows of the dataset.\n",
    "\n",
    "<details>\n",
    "  <summary>Output should look like this: (🦉 click me)</summary>\n",
    "  <img width=\"600\" src=\"https://github.com/IT4063C/images/raw/main/diabetes-assignment/dataset.png\" />\n",
    "</details>"
   ]
  },
  {
   "cell_type": "code",
   "execution_count": null,
   "metadata": {},
   "outputs": [],
   "source": []
  },
  {
   "cell_type": "markdown",
   "metadata": {},
   "source": [
    "> 🚩 : Make a git commit here"
   ]
  },
  {
   "cell_type": "markdown",
   "metadata": {},
   "source": [
    "We need to know the number of rows and columns in the dataset. Let's use the `.shape` attribute to find out.\n",
    "\n",
    "**Task 👨🏻‍💻:** Use the `.shape` attribute to find out the number of rows and columns in the dataset.\n",
    "\n",
    "*Hint 🦉 :* \n",
    "- `.shape` is an attribute not a method/function; you don't add `()` at the end of it to execute it.\n",
    "- `.shape` It returns a tuple of the form `(rows, columns)`"
   ]
  },
  {
   "cell_type": "code",
   "execution_count": null,
   "metadata": {},
   "outputs": [],
   "source": []
  },
  {
   "cell_type": "markdown",
   "metadata": {},
   "source": [
    "We need to check if we have any missing values in the dataset. Let's use the `isnull()` method to find out.\n",
    "\n",
    "**Task 👨🏻‍💻** : Use the `isnull()` method to find out if there are any missing values in the dataset.\n",
    "\n",
    "*Hint 🦉 :* \n",
    "- `isnull()` returns a dataframe of the same shape as the original dataframe with boolean values. `True` indicates a missing value and `False` indicates a non-missing value.\n",
    "- because it would be difficult to read a dataframe of boolean values, we can use the `sum()` method to get the total number of missing values in each column. `sum()` returns a series with the column names as the index and the total number of missing values in each column as the values.\n",
    "  - We've done this in a previous lab, so you can refer to that if you need to.\n",
    "\n",
    "<details>\n",
    "  <summary>Output should look like this: (🦉 click me)</summary>\n",
    "  <img width=\"100\" src=\"https://github.com/IT4063C/images/raw/main/diabetes-assignment/missing_fields.png\" />\n",
    "</details>\n"
   ]
  },
  {
   "cell_type": "code",
   "execution_count": null,
   "metadata": {},
   "outputs": [],
   "source": []
  },
  {
   "cell_type": "markdown",
   "metadata": {},
   "source": [
    "We could also use the `info()` method to get a summary of the dataset. Let's use it to find out more about the dataset.\n",
    "\n",
    "**Task 👨🏻‍💻** : Use the `info()` method to get a summary of the dataset.\n",
    "\n",
    "*Hint 🦉 :* \n",
    "- `info()` returns a summary of the dataset. \n",
    "- It includes the number of rows and columns, the number of **non-missing values** in each column, the data type of each column and the memory usage of the dataframe."
   ]
  },
  {
   "cell_type": "code",
   "execution_count": null,
   "metadata": {},
   "outputs": [],
   "source": []
  },
  {
   "cell_type": "markdown",
   "metadata": {},
   "source": [
    "We could also use the `describe()` method to get a summary of the dataset. Let's use it to find out more about the dataset.\n",
    "\n",
    "**Task 👨🏻‍💻** : Use the `describe()` method to get a summary of the dataset."
   ]
  },
  {
   "cell_type": "code",
   "execution_count": null,
   "metadata": {},
   "outputs": [],
   "source": []
  },
  {
   "cell_type": "markdown",
   "metadata": {},
   "source": [
    "> 🚩 : Make a git commit here"
   ]
  },
  {
   "cell_type": "markdown",
   "metadata": {},
   "source": [
    "One of the ways to get a better understanding of the dataset is to look at the distribution of the values in each column. Let's use the `describe()` method to get a summary of the distribution of values in each column.\n",
    "\n",
    "**Task 👨🏻‍💻** : Use the `.hist()` method to plot a histogram of each column in the dataset.\n",
    "\n",
    "*Hint 🦉 :* \n",
    "- use the `figsize` parameter to set the size of the figure to `(20, 15)`\n",
    "- use the `bins` parameter to set the number of bins to `50`\n",
    "\n",
    "<details>\n",
    "  <summary>Output should look like this: (🦉 click me)</summary>\n",
    "  <img width=\"800\" src=\"https://github.com/IT4063C/images/raw/main/diabetes-assignment/diabetes_hist.png\" />\n",
    "</details>"
   ]
  },
  {
   "cell_type": "code",
   "execution_count": null,
   "metadata": {},
   "outputs": [],
   "source": []
  },
  {
   "cell_type": "markdown",
   "metadata": {},
   "source": [
    "> 🚩 : Make a git commit here"
   ]
  },
  {
   "cell_type": "markdown",
   "metadata": {},
   "source": [
    "#### ☕️ Coffee Break\n",
    "Here are some observations we can make from the what we've done so far (usually I would ask you to make these observations):\n",
    "- The dataset has 442 rows and 11 columns. \n",
    "  - n = 422\n",
    "  - m = 10\n",
    "  - outcome/target = 1\n",
    "- There are is a single missing feature for a single row in the dataset. (I purposefully removed it from the dataset so we can practice imputing missing values)\n",
    "- the `SEX` column has only two unique values: 1 and 2. This means that the column is categorical and not numerical.\n",
    "  - We will need to replace the values with `MALE` and `FEMALE` instead of `1` and `2`.\n",
    "  - We will need to use the `OneHotEncoder` to encode this column.\n",
    "- The values in each column are on a different scales. Some ranging from 20 to 80, others from 100 to 400, and so on. We will need to scale the values before we can use them to train a machine learning model.\n"
   ]
  },
  {
   "cell_type": "markdown",
   "metadata": {},
   "source": [
    "#### EDA\n",
    "Let's perform some more data exploration. Let's visualize the relationship between the features and the target."
   ]
  },
  {
   "cell_type": "markdown",
   "metadata": {},
   "source": [
    "**Task 👨🏻‍💻** : Use the `scatter_matrix()` method from the `pandas.plotting` module to plot a scatter plot of each column in the dataset against the target column.\n",
    "\n",
    "<details>\n",
    "  <summary>Output should look like this: (🦉 click me)</summary>\n",
    "  <img width=\"600\" src=\"https://github.com/IT4063C/images/raw/main/diabetes-assignment/scatter_matrix.png\" />\n",
    "</details>"
   ]
  },
  {
   "cell_type": "code",
   "execution_count": null,
   "metadata": {},
   "outputs": [],
   "source": []
  },
  {
   "cell_type": "markdown",
   "metadata": {},
   "source": [
    "> 🚩 : Make a git commit here"
   ]
  },
  {
   "cell_type": "markdown",
   "metadata": {},
   "source": [
    "**✨ Extra Credit Task 👨🏻‍💻**: <u>For 1 point of Extra Credit:</u> plot the same chart again but this time without the `SEX` column.\n",
    "\n",
    "<details>\n",
    "  <summary>Output should look like this: (🦉 click me)</summary>\n",
    "  <img width=\"600\" src=\"https://github.com/IT4063C/images/raw/main/diabetes-assignment/scatter_matrix_no_sex.png\" />\n",
    "</details>"
   ]
  },
  {
   "cell_type": "code",
   "execution_count": null,
   "metadata": {},
   "outputs": [],
   "source": []
  },
  {
   "cell_type": "markdown",
   "metadata": {},
   "source": [
    "> 🚩 : Make a git commit here"
   ]
  },
  {
   "cell_type": "markdown",
   "metadata": {},
   "source": [
    "Let's explore the correlation between the target variable and the the input features\n",
    "\n",
    "**Task 👨🏻‍💻** : Use the `corr()` method to print out the correlation matrix for the `Y` column in this dataset. Sort the values in descending order.\n",
    "\n",
    "<details>\n",
    "  <summary>Output should look like this: (🦉 click me)</summary>\n",
    "  <img width=\"150\" src=\"https://github.com/IT4063C/images/raw/main/diabetes-assignment/Y_corr.png\" />\n",
    "</details>"
   ]
  },
  {
   "cell_type": "code",
   "execution_count": null,
   "metadata": {},
   "outputs": [],
   "source": []
  },
  {
   "cell_type": "markdown",
   "metadata": {},
   "source": [
    "> 🚩 : Make a git commit here"
   ]
  },
  {
   "cell_type": "markdown",
   "metadata": {},
   "source": [
    "**Task 👨🏻‍💻** : what are the top 3 features that are most correlated with the target column? "
   ]
  },
  {
   "cell_type": "raw",
   "metadata": {},
   "source": [
    "Answer the question in this cell."
   ]
  },
  {
   "cell_type": "markdown",
   "metadata": {},
   "source": [
    "> 🚩 : Make a git commit here"
   ]
  },
  {
   "cell_type": "markdown",
   "metadata": {},
   "source": [
    "**✨ Extra Credit Task 👨🏻‍💻**: \n",
    "<u>For 5 Extra Credit Points:</u> Plot the correlation matrix using a heatmap. You can use the `seaborn` module to do this. You can refer to the [documentation](https://seaborn.pydata.org/generated/seaborn.heatmap.html) for more information.\n",
    "\n",
    "*Hint 🦉 :* \n",
    "- use the correlation matrix generated in the previous step to generate the heatmap.\n",
    "- use the `coolwarm` color map to get a similar color scheme to the example.\n",
    "\n",
    "<details>\n",
    "  <summary>Output should look like this: (🦉 click me)</summary>\n",
    "  <img width=\"600\" src=\"https://github.com/IT4063C/images/raw/main/diabetes-assignment/corr_heatmap.png\" />\n",
    "</details>"
   ]
  },
  {
   "cell_type": "code",
   "execution_count": null,
   "metadata": {},
   "outputs": [],
   "source": []
  },
  {
   "cell_type": "markdown",
   "metadata": {},
   "source": [
    "> 🚩 : Make a git commit here"
   ]
  },
  {
   "cell_type": "markdown",
   "metadata": {},
   "source": [
    "#### Split the dataset into training and test sets\n",
    "Now before we go any further, we need to split the dataset we have into two parts:\n",
    "- a training set\n",
    "- a test set\n",
    "\n",
    "This step is important because we need to train our model, then test it against some data that it hasn't seen before. If we don't do this, we won't be able to tell if our model is overfitting or not."
   ]
  },
  {
   "cell_type": "markdown",
   "metadata": {},
   "source": [
    "**Task 👨🏻‍💻** : Use the `train_test_split()` function from the `sklearn.model_selection` package to split the dataset into a training set named `random_train_set` and a test set and `random_test_set`.\n",
    "\n",
    "*Hint 🦉 :* \n",
    "- use the `random_state` parameter to set the random seed to `42` - this will ensure that we get the same results every time we run the code.\n",
    "- use the `test_size` parameter to set the size of the test set to `0.2`; the test set is 20% of the size of the dataset."
   ]
  },
  {
   "cell_type": "code",
   "execution_count": null,
   "metadata": {},
   "outputs": [],
   "source": []
  },
  {
   "cell_type": "markdown",
   "metadata": {},
   "source": [
    "> 🚩 : Make a git commit here"
   ]
  },
  {
   "cell_type": "markdown",
   "metadata": {},
   "source": [
    "Now as mentioned in the lectures, a random split of the data may cause issues of bias. Where one subset of the data maybe overly represented in the training set. This leads misrepresenting model of the data. \n",
    "\n",
    "To avoid this, we can use stratified sampling to ensure that the training set and test set are representative of the original dataset. Usually, a Subject Matter Expert (SME) would be able to tell us which column to use for stratified sampling. \n",
    "\n",
    "In this case, we will use the `SEX` column.\n",
    "\n",
    "**Task 👨🏻‍💻** : Use the `StratifiedShuffleSplit()` function from the `sklearn.model_selection` package to split the dataset into a training set named `sex_strat_train_set` and a test set and `sex_strat_test_set`. Split the data on the `SEX` column.\n",
    "\n",
    "*Hint 🦉 :*\n",
    "- use the `random_state` parameter to set the random seed to `42` - this will ensure that we get the same results every time we run the code. it will also ensure you get similar values to the ones in the screenshots provided in this assignment.\n",
    "- use the `test_size` parameter to set the size of the test set to `0.2`; the test set is 20% of the size of the dataset."
   ]
  },
  {
   "cell_type": "code",
   "execution_count": null,
   "metadata": {},
   "outputs": [],
   "source": []
  },
  {
   "cell_type": "markdown",
   "metadata": {},
   "source": [
    "> 🚩 : Make a git commit here"
   ]
  },
  {
   "cell_type": "markdown",
   "metadata": {},
   "source": [
    "The `SEX` column was an okay choice to stratify the sampling on. However, we can also try to use the `AGE` column. However, we'll need to introduce a categorical representation of the `AGE` column by binning the values into different age groups.\n",
    "\n",
    "**Task 👨🏻‍💻** : Create a new column called `AGE_CAT` and bin the values in the `AGE` column into the following categories:\n",
    "- 10 - 30\n",
    "- 30 - 50\n",
    "- 50 - 70\n",
    "- 70 - 90\n",
    "\n",
    "*Hint 🦉 :* \n",
    "- Use the `pd.cut()` function to bin the values in the `AGE` column into the categories above."
   ]
  },
  {
   "cell_type": "code",
   "execution_count": null,
   "metadata": {},
   "outputs": [],
   "source": []
  },
  {
   "cell_type": "markdown",
   "metadata": {},
   "source": [
    "show the distribution of the values in the `AGE_CAT` column. using the `hist()` method to show a diagram of the distribution of the values in the `AGE_CAT` column.\n",
    "\n",
    "<details>\n",
    "  <summary>Output should look like this: (🦉 click me)</summary>\n",
    "  <img width=\"600\" src=\"https://github.com/IT4063C/images/raw/main/diabetes-assignment/age_cat_hist.png\" />\n",
    "</details>"
   ]
  },
  {
   "cell_type": "code",
   "execution_count": null,
   "metadata": {},
   "outputs": [],
   "source": []
  },
  {
   "cell_type": "markdown",
   "metadata": {},
   "source": [
    "**Task 👨🏻‍💻** : Use the `StratifiedShuffleSplit()` function from the `sklearn.model_selection` package to split the dataset into a training set named `age_sex_strat_train_set` and a test set and `age_sex_strat_test_set`. Split the data on the `AGE_CAT` column.\n",
    "\n",
    "*Hint 🦉 :*\n",
    "- use the `random_state` parameter to set the random seed to `42` - this will ensure that we get the same results every time we run the code. it will also ensure you get similar values to the ones in the screenshots provided in this assignment.\n",
    "- use the `test_size` parameter to set the size of the test set to `0.2`; the test set is 20% of the size of the dataset."
   ]
  },
  {
   "cell_type": "code",
   "execution_count": null,
   "metadata": {},
   "outputs": [],
   "source": []
  },
  {
   "cell_type": "markdown",
   "metadata": {},
   "source": [
    "> 🚩 : Make a git commit here"
   ]
  },
  {
   "cell_type": "markdown",
   "metadata": {},
   "source": [
    "We will use the age-split sets for the rest of the lab. But we need to remember to drop the `AGE_CAT` column from the training set and test set.\n",
    "\n",
    "*Note 🦉:* This doesn't mean that splitting the data by the `SEX` column is wrong. It all depends on the problem you're trying to solve and the data you have. This is usually guided by the Subject Matter Expert (SME)."
   ]
  },
  {
   "cell_type": "markdown",
   "metadata": {},
   "source": [
    "**Task 👨🏻‍💻** : Drop the `AGE_CAT` column from the training set and test set.\n",
    "\n",
    "*Hint 🦉 :* \n",
    "- use the `drop()` method to drop the `AGE_CAT` column from the training set and test set.\n",
    "- you'll need to call it twice, once for the training set `age_sex_strat_train_set` and once for the test set `age_sex_strat_test_set`.\n",
    "- You can use the `inplace` parameter to drop the column in place."
   ]
  },
  {
   "cell_type": "code",
   "execution_count": null,
   "metadata": {},
   "outputs": [],
   "source": []
  },
  {
   "cell_type": "markdown",
   "metadata": {},
   "source": [
    "> 🚩 : Make a git commit here"
   ]
  },
  {
   "cell_type": "markdown",
   "metadata": {},
   "source": [
    "#### Separate the features and labels\n",
    "Let's separate the features `X` from the labels `y`. We'll use the training set for this."
   ]
  },
  {
   "cell_type": "markdown",
   "metadata": {},
   "source": [
    "**Task 👨🏻‍💻** : Create a copy of the training set <u>without</u> the output `y` and store it in a variable called `diabetes_X`, and create a copy of the dataset with <u>Only</u> the column `Y` and name it `diabetes_y`."
   ]
  },
  {
   "cell_type": "code",
   "execution_count": null,
   "metadata": {},
   "outputs": [],
   "source": []
  },
  {
   "cell_type": "markdown",
   "metadata": {},
   "source": [
    "<details>\n",
    "  <summary>Running the following cell, should produce an output that looks like this: (🦉 click me)</summary>\n",
    "  <img width=\"600\" src=\"https://github.com/IT4063C/images/raw/main/diabetes-assignment/prepare-done1.png\" />\n",
    "  <br />\n",
    "  <strong>OR</strong>\n",
    "  <br />\n",
    "  <img width=\"600\" src=\"https://github.com/IT4063C/images/raw/main/diabetes-assignment/prepare-done2.png\" />\n",
    "</details>"
   ]
  },
  {
   "cell_type": "code",
   "execution_count": null,
   "metadata": {},
   "outputs": [],
   "source": [
    "display(diabetes_X.head())\n",
    "display(diabetes_y.head())"
   ]
  },
  {
   "cell_type": "markdown",
   "metadata": {},
   "source": [
    "> 🚩 : Make a git commit here"
   ]
  },
  {
   "cell_type": "markdown",
   "metadata": {},
   "source": [
    "### 🏖 ☕️ Take a break here\n",
    "make sure you understand what we've done so far."
   ]
  },
  {
   "cell_type": "markdown",
   "metadata": {},
   "source": [
    "### 3️⃣ Process\n",
    "In this section, we'll process and clean it in preparation for the model creation and analysis work the data. \n",
    "\n",
    "Here are some of what we will do:\n",
    "- impute missing values (numerical data)\n",
    "- scale numerical features (numerical data)\n",
    "- encode categorical features (categorical data)\n",
    "- combining features into new features\n",
    "\n",
    "We will also compose all of these steps into a single pipeline.\n",
    "\n",
    "Let's start doing them individually."
   ]
  },
  {
   "cell_type": "markdown",
   "metadata": {},
   "source": [
    "#### Impute Missing Values\n",
    "We'll use the `SimpleImputer` class from the `sklearn.impute` package to impute the missing values in the dataset. I, purposefully, removed some values from the dataset so that we can practice imputing missing values.\n",
    "\n",
    "Keep in mind, even if there was no missing values in the dataset, we would still need to implement the imputer. Why? Because we need to make sure that our processing pipeline can be applied to new data that <u>may</u> have missing values."
   ]
  },
  {
   "cell_type": "markdown",
   "metadata": {},
   "source": [
    "Since the imputer applies to <u>numerical</u> features, we'll need to create a copy of the dataset with only the numerical features, and another with only the categorical features.\n",
    "\n",
    "**Task 👨🏻‍💻** : Create a copy of the dataset with only the numerical features and name it `diabetes_X_num`. Create another copy of the dataset with only the categorical features and name it `diabetes_X_cat`. \n",
    "\n",
    "*Hint:*\n",
    "- MAKE SURE you start with the diabetes_X dataframe that we created earlier. not the full dataset."
   ]
  },
  {
   "cell_type": "code",
   "execution_count": null,
   "metadata": {},
   "outputs": [],
   "source": []
  },
  {
   "cell_type": "markdown",
   "metadata": {},
   "source": [
    "<details>\n",
    "  <summary>Running the following cell, should produce an output that looks like this: (🦉 click me)</summary>\n",
    "  <img width=\"600\" src=\"https://github.com/IT4063C/images/raw/main/diabetes-assignment/num-cat.png\" />\n",
    "</details>"
   ]
  },
  {
   "cell_type": "code",
   "execution_count": null,
   "metadata": {},
   "outputs": [],
   "source": [
    "display(diabetes_X_num.head())\n",
    "display(diabetes_X_cat.head())"
   ]
  },
  {
   "cell_type": "markdown",
   "metadata": {},
   "source": [
    "> 🚩 : Make a git commit here"
   ]
  },
  {
   "cell_type": "markdown",
   "metadata": {},
   "source": [
    "**Task 👨🏻‍💻** : Create an instance of the `SimpleImputer` class and name it `imputer`. Use the `mean` value as the imputer strategy.\n",
    "\n",
    "*Hint 🦉 :* \n",
    "- use the `diabetes_X_num` dataframe to create the imputer.\n",
    "- set the `strategy` parameter to `mean`\n",
    "- name the transformed dataset `diabetes_X_num_imputed`"
   ]
  },
  {
   "cell_type": "code",
   "execution_count": null,
   "metadata": {},
   "outputs": [],
   "source": []
  },
  {
   "cell_type": "markdown",
   "metadata": {},
   "source": [
    "Keep in mind, all the `sklearn` transforms return a numpy array. if you want to print the data such that we can see them with the column names as we're used to in `pandas`, we need to convert that back to a DataFrame.\n",
    "\n",
    "<details>\n",
    "  <summary>Output should look like this: (🦉 click me)</summary>\n",
    "  <img width=\"600\" src=\"https://github.com/IT4063C/images/raw/main/diabetes-assignment/data-imputed.png\" />\n",
    "</details>"
   ]
  },
  {
   "cell_type": "code",
   "execution_count": null,
   "metadata": {},
   "outputs": [],
   "source": [
    "# assuming the imputer has been fitted and transformed and the result is stored in X\n",
    "diabetes_X_num_imputed = pd.DataFrame(diabetes_X_num_imputed, columns=diabetes_X_num.columns, index=diabetes_X_num.index)\n",
    "diabetes_X_num_imputed.head()"
   ]
  },
  {
   "cell_type": "markdown",
   "metadata": {},
   "source": [
    "> 🚩 : Make a git commit here"
   ]
  },
  {
   "cell_type": "markdown",
   "metadata": {},
   "source": [
    "#### Scaling and Normalizing Numerical Features\n",
    "<img width=\"500\" src=\"https://github.com/IT4063C/images/raw/main/diabetes-assignment/diabetes_hist.png\" />\n",
    "\n",
    "As you can see from the histograms and the `describe()` output (if you do it), the values in each column are on different scales. This leads the machine learning algorithms giving more weight to the features. We need to scale the values in each column to the same scale. "
   ]
  },
  {
   "cell_type": "markdown",
   "metadata": {},
   "source": [
    "**Task 👨🏻‍💻** : use the `StandardScaler` class to transform/scale the values in each column to the same scale.\n",
    "\n",
    "*Hint 🦉 :* \n",
    "- name the transformed data `diabetes_X_num_scaled`\n",
    "- make sure you use the `diabetes_X_num_imputed` as input to the scaler"
   ]
  },
  {
   "cell_type": "code",
   "execution_count": null,
   "metadata": {},
   "outputs": [],
   "source": []
  },
  {
   "cell_type": "markdown",
   "metadata": {},
   "source": [
    "Similar to we've done above after the imputer, we need to convert the numpy array to a DataFrame.\n",
    "\n",
    "**Task 👨🏻‍💻** convert the numpy array `diabetes_X_num_scaled` back to a pandas DataFrame. \n",
    "\n",
    "*Hint 🦉 :* Look above "
   ]
  },
  {
   "cell_type": "code",
   "execution_count": null,
   "metadata": {},
   "outputs": [],
   "source": []
  },
  {
   "cell_type": "markdown",
   "metadata": {},
   "source": [
    "**Task 👨🏻‍💻** : print the first 5 records of the  use the `diabetes_X_num_scaled`\n",
    "\n",
    "<details>\n",
    "  <summary>Output should look like this: (🦉 click me)</summary>\n",
    "  <img width=\"600\" src=\"https://github.com/IT4063C/images/raw/main/diabetes-assignment/data-scaled.png\" />\n",
    "</details>\n"
   ]
  },
  {
   "cell_type": "code",
   "execution_count": null,
   "metadata": {},
   "outputs": [],
   "source": [
    "diabetes_X_num_scaled.head()"
   ]
  },
  {
   "cell_type": "markdown",
   "metadata": {},
   "source": [
    "> 🚩 : Make a git commit here"
   ]
  },
  {
   "cell_type": "markdown",
   "metadata": {},
   "source": [
    "#### Encode Categorical Features\n",
    "Let's now process and transform the categorical features. In the videos we mentioned 2 types of categorical feature encoders: `OrdinalEncoder` and `OneHotEncoder`. We'll use the `OneHotEncoder` to encode the categorical features in the dataset.\n",
    "\n",
    "**Task 👨🏻‍💻** : Why don't we use the `OrdinalEncoder` to encode the categorical features in the dataset?"
   ]
  },
  {
   "cell_type": "raw",
   "metadata": {},
   "source": [
    "👨🏻‍💻 Answer the question in this cell:\n"
   ]
  },
  {
   "cell_type": "markdown",
   "metadata": {},
   "source": [
    "> 🚩 : Make a git commit here"
   ]
  },
  {
   "cell_type": "markdown",
   "metadata": {},
   "source": [
    "Let's see how many records exist for each category in the `SEX` column."
   ]
  },
  {
   "cell_type": "code",
   "execution_count": null,
   "metadata": {},
   "outputs": [],
   "source": [
    "diabetes_X_cat['SEX'].value_counts()"
   ]
  },
  {
   "cell_type": "markdown",
   "metadata": {},
   "source": [
    "If we encode the data with the current values, the category names would be `1` and `2`.\n",
    "\n",
    "Let's change the values to `male` and `female`.\n",
    "\n",
    "**Task 👨🏻‍💻** : Use the `replace()` method to replace the values in the `SEX` column with `male` and `female`. \n",
    "\n",
    "(done for you; make sure you understand what's happening)"
   ]
  },
  {
   "cell_type": "code",
   "execution_count": null,
   "metadata": {},
   "outputs": [],
   "source": [
    "diabetes_X_cat['SEX'].replace({1: 'MALE', 2: 'FEMALE'}, inplace=True)\n",
    "display(diabetes_X_cat.head())"
   ]
  },
  {
   "cell_type": "markdown",
   "metadata": {},
   "source": [
    "> 🚩 : Make a git commit here"
   ]
  },
  {
   "cell_type": "markdown",
   "metadata": {},
   "source": [
    "**Task 👨🏻‍💻** : Encode the `SEX` column using the `OneHotEncoder` class. and print the `categories_` attribute of the encoder.\n",
    "\n",
    "*Hint 🦉 :* \n",
    "- Create an instance of the `OneHotEncoder` class and name it `cat_encoder`.\n",
    "- use the `diabetes_X_cat` dataframe to `fit` the encoder.\n",
    "- the results of this transformation will be a scipy sparse matrix. this is a more memory efficient way of storing the data. (reference the lecture videos for more info)\n",
    "\n",
    "<details>\n",
    "  <summary>Output should look like this: (🦉 click me)</summary>\n",
    "  <img width=\"400\" src=\"https://github.com/IT4063C/images/raw/main/diabetes-assignment/encoder-cats.png\" />\n",
    "</details>"
   ]
  },
  {
   "cell_type": "code",
   "execution_count": null,
   "metadata": {},
   "outputs": [],
   "source": []
  },
  {
   "cell_type": "markdown",
   "metadata": {},
   "source": [
    "> 🚩 : Make a git commit here"
   ]
  },
  {
   "cell_type": "markdown",
   "metadata": {},
   "source": [
    "#### Pipelines\n",
    "We've seen how to process the data in individual steps. But we need to combine all the steps into a single pipeline. This will make it easier to apply the same transformations to the test set, to new data, and to any other data that we may have in the future.\n",
    "\n",
    "We'll start by creating a pipeline for the numerical features. The numerical pipeline will impute the missing values, and scale the values.\n",
    "\n",
    "**Task 👨🏻‍💻** : Create a pipeline for the numerical features that will impute the missing values, and scale the values in each column to the same scale. Name the pipeline `num_pipeline`."
   ]
  },
  {
   "cell_type": "code",
   "execution_count": null,
   "metadata": {},
   "outputs": [],
   "source": []
  },
  {
   "cell_type": "markdown",
   "metadata": {},
   "source": [
    "> 🚩 : Make a git commit here"
   ]
  },
  {
   "cell_type": "markdown",
   "metadata": {},
   "source": [
    "**Task 👨🏻‍💻** : Create a pipeline for the categorical features that will encode categorical columns using the `OneHotEncoder` Transformer. Name the pipeline `cat_pipeline`."
   ]
  },
  {
   "cell_type": "code",
   "execution_count": null,
   "metadata": {},
   "outputs": [],
   "source": []
  },
  {
   "cell_type": "markdown",
   "metadata": {},
   "source": [
    "> 🚩 : Make a git commit here"
   ]
  },
  {
   "cell_type": "markdown",
   "metadata": {},
   "source": [
    "To combine the numerical and categorical pipelines, we'll use the `ColumnTransformer` class from the `sklearn.compose` package. This ColumnTransformer allows us to apply different transformation pipelines to different columns.\n",
    "\n",
    "**Task 👨🏻‍💻** : Create a `ColumnTransformer` that will apply the `num_pipeline` to the numerical columns, and the `cat_pipeline` to the categorical columns. Name the ColumnTransformer `full_pipeline`.\n",
    "\n",
    "*Hint 🦉 :* \n",
    "- create 2 lists/arrays of the column names for each subset. one for the numerical columns, and one for the categorical columns.\n",
    "- name the transformed dataset `diabetes_X_prepared`"
   ]
  },
  {
   "cell_type": "code",
   "execution_count": null,
   "metadata": {},
   "outputs": [],
   "source": []
  },
  {
   "cell_type": "markdown",
   "metadata": {},
   "source": [
    "> 🚩 : Make a git commit here"
   ]
  },
  {
   "cell_type": "markdown",
   "metadata": {},
   "source": [
    "Again, any output of the `sklearn` transforms is a numpy array. If we want to get the first 5 records of the transformed dataset, we need to do the following:\n",
    "\n",
    "<details>\n",
    "  <summary>Output should look like this: (🦉 click me)</summary>\n",
    "  <img width=\"600\" src=\"https://github.com/IT4063C/images/raw/main/diabetes-assignment/prepared-numpy.png\" />\n",
    "</details>"
   ]
  },
  {
   "cell_type": "code",
   "execution_count": null,
   "metadata": {},
   "outputs": [],
   "source": [
    "diabetes_X_prepared[:5]"
   ]
  },
  {
   "cell_type": "markdown",
   "metadata": {},
   "source": [
    "if we want to convert the numpy array to a DataFrame, we can do the following:\n",
    "\n",
    "- note: the column names are not in the same order as the original dataset. this is because the `OneHotEncoder` class returns the encoded columns in alphabetical order."
   ]
  },
  {
   "cell_type": "code",
   "execution_count": null,
   "metadata": {},
   "outputs": [],
   "source": [
    "# Converting the numpy array to a pandas dataframe\n",
    "all_columns = diabetes_X_num.columns.tolist() + cat_encoder.categories_[0].tolist()\n",
    "\n",
    "\n",
    "diabetes_X_prepared = pd.DataFrame(diabetes_X_prepared, columns=all_columns, index=diabetes_X_num.index)"
   ]
  },
  {
   "cell_type": "markdown",
   "metadata": {},
   "source": [
    "**For 5 Extra Credit Points:**\n",
    "- Create a custom transformer that would a new feature that is the ratio of the `BMI` to the `AGE`. Add this transformer to the `full_pipeline` and make sure it works."
   ]
  },
  {
   "cell_type": "code",
   "execution_count": null,
   "metadata": {},
   "outputs": [],
   "source": []
  },
  {
   "cell_type": "markdown",
   "metadata": {},
   "source": [
    "> 🚩 : Make a git commit here (if you've done the extra credit)"
   ]
  },
  {
   "cell_type": "markdown",
   "metadata": {},
   "source": [
    "🏖 ☕️ Take a break here and make sure you understand what we've done so far."
   ]
  },
  {
   "cell_type": "markdown",
   "metadata": {},
   "source": [
    "### 4️⃣ Analyze\n",
    "In this section, we'll train 2 machine learning models to make predictions about the diabetes progression after 1 year, given a number of predictors.\n",
    "\n",
    "At this stage we should have the following 4 datasets:\n",
    "- `diabetes_X_prepared` - the inputs for the training set\n",
    "- `diabetes_y` - the outputs for the training set\n",
    "- `age_sex_strat_test_set` - the test set (both X and y)"
   ]
  },
  {
   "cell_type": "code",
   "execution_count": null,
   "metadata": {},
   "outputs": [],
   "source": [
    "# ⛔️ Do not uncomment this cell. This is what I used to save a copy of the prepared data to csv files.\n",
    "\n",
    "# diabetes_X_prepared.to_csv('data/train_X_prepared.csv', index=False)\n",
    "# diabetes_y.to_csv('data/trainy.csv', index=False)\n",
    "\n",
    "# age_sex_strat_test_set.to_csv('data/test_X_y.csv', index=False)"
   ]
  },
  {
   "cell_type": "markdown",
   "metadata": {},
   "source": [
    "Now in case you didn't get the prepare and process steps right, you can use the `diabetes_X_prepared` and `diabetes_y` datasets that I've created for you.\n",
    "\n",
    "uncomment the following cell and execute it."
   ]
  },
  {
   "cell_type": "code",
   "execution_count": null,
   "metadata": {},
   "outputs": [],
   "source": [
    "# diabetes_X_prepared = pd.read_csv(\"data/train_X_prepared.csv\")\n",
    "# diabetes_y = pd.read_csv(\"data/train_y.csv\")\n",
    "# age_sex_strat_test_set = pd.read_csv(\"data/test_X_y.csv\")"
   ]
  },
  {
   "cell_type": "markdown",
   "metadata": {},
   "source": [
    "Let's build our linear regression model. We'll use the `LinearRegression` class from the `sklearn.linear_model` package.\n",
    "\n",
    "**Task 👨🏻‍💻** : Create an instance of the `LinearRegression` class and name it `lin_reg`.\n",
    "\n",
    "*Hint*:\n",
    "- the input is the `diabetes_X_prepared` dataset, the output is the `diabetes_y` dataset"
   ]
  },
  {
   "cell_type": "code",
   "execution_count": null,
   "metadata": {},
   "outputs": [],
   "source": []
  },
  {
   "cell_type": "markdown",
   "metadata": {},
   "source": [
    "to test how well the model did, we'll calculate the RMSE on the training set"
   ]
  },
  {
   "cell_type": "code",
   "execution_count": null,
   "metadata": {},
   "outputs": [],
   "source": []
  },
  {
   "cell_type": "markdown",
   "metadata": {},
   "source": [
    "> 🚩 : Make a git commit here"
   ]
  },
  {
   "cell_type": "markdown",
   "metadata": {},
   "source": [
    "Let's create a polynomial regression model. We'll use the `PolynomialFeatures` class from the `sklearn.preprocessing` package to create a new dataset with the polynomial features.\n",
    "\n",
    "**Task 👨🏻‍💻** : \n",
    "- Create an instance of the `PolynomialFeatures` class and name it `poly_features`. Set the `degree` parameter to `2`.\n",
    "- Create a new linear regression model and name it `poly_reg` and train it using the `poly_features`.\n",
    "\n",
    "*Hint*:\n",
    "- you can do this in 2 steps, or you can build a pipeline that will do both steps in one go."
   ]
  },
  {
   "cell_type": "code",
   "execution_count": null,
   "metadata": {},
   "outputs": [],
   "source": []
  },
  {
   "cell_type": "markdown",
   "metadata": {},
   "source": [
    "to test how well the model did, we'll calculate the RMSE on the training set"
   ]
  },
  {
   "cell_type": "code",
   "execution_count": null,
   "metadata": {},
   "outputs": [],
   "source": []
  },
  {
   "cell_type": "markdown",
   "metadata": {},
   "source": [
    "> 🚩 : Make a git commit here"
   ]
  },
  {
   "cell_type": "markdown",
   "metadata": {},
   "source": [
    "Given the following features, predict the diabetes progression after 1 year (Y) using the linear regression and polynomial regression models.\n",
    "\n",
    "Features:\n",
    "- Age:50\n",
    "- Sex: female (2)\n",
    "- BMI: 26.2\n",
    "- BP: 97\n",
    "- S1: 186\n",
    "- S2: 105.4\n",
    "- S3: 49\n",
    "- S4: 4\n",
    "- S5: 5.0626\n",
    "- S6: 88\n",
    "\n",
    "**Task 👨🏻‍💻** : Given the above features, predict the diabetes progression after 1 year (Y) using the linear regression and polynomial regression models.\n",
    "\n",
    "*Hint 🦉 :* \n",
    " - you'll need to create a list/array/DataFrame with the above features.\n",
    " - you will need to transform that input using the `full_pipeline` before passing it to the model.\n",
    " - you can use the `predict()` method to make predictions\n",
    "   - linear regression model gives a prediction of 165.07515659\n",
    "   - polynomial regression model gives a prediction of 156.5625\n",
    " - At this point, the model is trained, and the processing pipelines are trained. Make sure you don't re-train the model again with the input.\n",
    "   - in other words, you should only use `transform()` calls not the `fit_transform()` and certainly not the `fit()`."
   ]
  },
  {
   "cell_type": "code",
   "execution_count": null,
   "metadata": {},
   "outputs": [],
   "source": []
  },
  {
   "cell_type": "markdown",
   "metadata": {},
   "source": [
    "> 🚩 : Make a git commit here"
   ]
  },
  {
   "cell_type": "markdown",
   "metadata": {},
   "source": [
    "## Evaluate against the test set\n",
    "Let's evaluate the models using the test set.\n",
    "\n",
    "**Task 👨🏻‍💻** : Calculate the RMSE on the test set for the linear regression model **AND** the polynomial regression model.\n",
    "\n",
    "*Hint*:\n",
    "- remember to separate the X and y from the test set\n",
    "- remember to transform the X using the `full_pipeline`\n",
    "- I left some print statements. You don't need to change them. Use their output to answer the questions below."
   ]
  },
  {
   "cell_type": "code",
   "execution_count": null,
   "metadata": {},
   "outputs": [],
   "source": []
  },
  {
   "cell_type": "code",
   "execution_count": null,
   "metadata": {},
   "outputs": [],
   "source": [
    "# Don't modify the code below this line\n",
    "print(\"-----------------------------------------------------------------\")\n",
    "print(f\"Linear Regression RMSE on the training set: {lin_rmse}\")\n",
    "print(f\"Linear Regression RMSE on the test set: {test_lin_rmse}\")\n",
    "print(\"-----------------------------------------------------------------\")\n",
    "print(f\"Polynomial Regression RMSE on the training set: {poly_rmse}\")\n",
    "print(f\"Polynomial Regression RMSE on the test set: {test_poly_rmse}\")\n",
    "print(\"-----------------------------------------------------------------\")"
   ]
  },
  {
   "cell_type": "markdown",
   "metadata": {},
   "source": [
    "> 🚩 : Make a git commit here"
   ]
  },
  {
   "cell_type": "markdown",
   "metadata": {},
   "source": [
    "**Task 👨🏻‍💻** :Comparing the RMSE values for the linear Regression and polynomial regression models on the training and test sets, which model performed better?\n",
    "\n",
    "Here's the output I received. You should get similar results.\n",
    "\n",
    "| Model                 | RMSE on Training Set | RMSE on Test Set  |\n",
    "| --------------------- | -------------------- | ----------------- |\n",
    "| Linear Regression     | 53.63500319865106    | 53.11536987833757 |\n",
    "| Polynomial Regression | 47.80449635259552    | 54.2584162004519  |"
   ]
  },
  {
   "cell_type": "raw",
   "metadata": {},
   "source": [
    "Answer the question in this cell:\n"
   ]
  },
  {
   "cell_type": "markdown",
   "metadata": {},
   "source": [
    "> 🚩 : Make a git commit here"
   ]
  },
  {
   "cell_type": "markdown",
   "metadata": {},
   "source": [
    "## Wrap up\n",
    "- **Task 👨🏻‍💻** : Remember to update the self reflection and self evaluations on the `README` file.\n",
    "- **Task 👨🏻‍💻** : Make sure you run the following cell. It converts this Jupyter notebook to a Python script. This allows me to provide feedback on your code.\n"
   ]
  },
  {
   "cell_type": "code",
   "execution_count": null,
   "metadata": {},
   "outputs": [],
   "source": [
    "!jupyter nbconvert --to python diabetes-analysis.ipynb"
   ]
  },
  {
   "cell_type": "markdown",
   "metadata": {},
   "source": [
    "> 🚩 : Make a git commit here"
   ]
  }
 ],
 "metadata": {
  "kernelspec": {
   "display_name": "Python 3.10.6 ('diabetes-analysis-DFCHu6Z8')",
   "language": "python",
   "name": "python3"
  },
  "language_info": {
   "codemirror_mode": {
    "name": "ipython",
    "version": 3
   },
   "file_extension": ".py",
   "mimetype": "text/x-python",
   "name": "python",
   "nbconvert_exporter": "python",
   "pygments_lexer": "ipython3",
   "version": "3.10.6"
  },
  "nav_menu": {
   "height": "279px",
   "width": "309px"
  },
  "toc": {
   "nav_menu": {},
   "number_sections": true,
   "sideBar": true,
   "skip_h1_title": false,
   "toc_cell": false,
   "toc_position": {},
   "toc_section_display": "block",
   "toc_window_display": false
  },
  "vscode": {
   "interpreter": {
    "hash": "2d09845d00feb48d72d3f344c531f7074b03bf2ece09d63e18f0843057d67e34"
   }
  }
 },
 "nbformat": 4,
 "nbformat_minor": 4
}
