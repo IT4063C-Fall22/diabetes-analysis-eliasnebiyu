{
  "cells": [
    {
      "cell_type": "markdown",
      "metadata": {
        "id": "NO7ALoYkuRt_"
      },
      "source": [
        "# Diabetes Analysis - Machine Learning End-to-End Project\n",
        "\n",
        "This lab is a guided project that will walk you through the process of building a machine learning model to predict whether the progression of diabetes is likely to occur in a patient based on a set of diagnostic measurements. (I'm not a doctor, so I can't tell you what the measurements mean, but you can read more about them [here](https://www4.stat.ncsu.edu/~boos/var.select/diabetes.html).)\n",
        "\n",
        "To a very large extent, this lab follows the module video lectures. If you're stuck at any point, make sure to check out the video lectures for guidance.\n",
        "\n",
        "**Objectives**\n",
        "- Practice building a machine learning project from start to finish\n",
        "\n",
        "**Emojis Legend**\n",
        "- 👨🏻‍💻 - Instructions; Tells you about something specific you need to do.\n",
        "- 🦉 - Tips; Will tell you about some hints, tips and best practices\n",
        "- 📜 - Documentations; provides links to documentations\n",
        "- 🚩 - Checkpoint; marks a good spot for you to commit your code to git\n",
        "- 🕵️ - Tester; Don't modify code blocks starting with this emoji"
      ]
    },
    {
      "cell_type": "markdown",
      "metadata": {
        "id": "eWDlr5wFuRuE"
      },
      "source": [
        "## Setup\n",
        "First, let's import a few common modules, ensure `MatplotLib` plots figures inline. We also ensure that you have the correct version of Python (3.10) installed.\n",
        "\n",
        "- **Task 👨🏻‍💻**: Keep coming back to update this cell as you need to import new packages.\n",
        "- **Task 👨🏻‍💻**: Check what's already been imported here"
      ]
    },
    {
      "cell_type": "code",
      "execution_count": 85,
      "metadata": {
        "id": "p0BRiN9_uRuF"
      },
      "outputs": [],
      "source": [
        "# Python ≥3.10 is required\n",
        "import sys\n",
        "#assert sys.version_info >= (3, 10)\n",
        "\n",
        "# Common imports\n",
        "import numpy as np\n",
        "import pandas as pd\n",
        "import os\n",
        "\n",
        "\n",
        "# Scikit Learn imports\n",
        "from sklearn.preprocessing import PolynomialFeatures\n",
        "from sklearn.linear_model import LinearRegression\n",
        "from sklearn.pipeline import make_pipeline\n",
        "from sklearn.model_selection import StratifiedShuffleSplit\n",
        "from sklearn.preprocessing import StandardScaler\n",
        "from sklearn.pipeline import Pipeline\n",
        "from sklearn.impute import SimpleImputer\n",
        "from sklearn.preprocessing import StandardScaler\n",
        "from sklearn.model_selection import train_test_split\n",
        "from sklearn.impute import SimpleImputer\n",
        "from sklearn.preprocessing import OneHotEncoder\n",
        "from sklearn.compose import ColumnTransformer\n",
        "from sklearn.compose import make_column_transformer\n",
        "from sklearn.pipeline import make_pipeline\n",
        "from sklearn.linear_model import LinearRegression\n",
        "from sklearn.preprocessing import PolynomialFeatures\n",
        "from sklearn.metrics import mean_squared_error\n",
        "\n",
        "# To plot pretty figures\n",
        "%matplotlib inline\n",
        "import matplotlib as mpl\n",
        "import matplotlib.pyplot as plt\n",
        "import seaborn as sns\n",
        "\n",
        "mpl.rc('axes', labelsize=14)\n",
        "mpl.rc('xtick', labelsize=12)\n",
        "mpl.rc('ytick', labelsize=12)\n",
        "plt.style.use(\"bmh\")\n",
        "\n",
        "# to make this notebook's output stable across runs\n",
        "np.random.seed(42)"
      ]
    },
    {
      "cell_type": "markdown",
      "metadata": {
        "id": "XZtUl1fxuRuI"
      },
      "source": [
        "## Diabetes Dataset\n",
        "\n",
        "### 1️⃣ Ask\n",
        "\n",
        "This dataset contains several medical predictor variables and one target variable. Predictor Variables include ten baseline variables: age, sex, body mass index, average blood pressure, and six blood serum measurements (more details below) were obtained for each of n = 442 diabetes patients, as well as a quantitative measure of disease progression one year after baseline (target/outcome).\n",
        "\n",
        "| Attribute | Description                                                                           |\n",
        "| --------- | ------------------------------------------------------------------------------------- |\n",
        "| age       | age in years                                                                          |\n",
        "| sex       | 1 - Male, 2- Female                                                                   |\n",
        "| bmi       | body mass index                                                                       |\n",
        "| bp        | average blood pressure                                                                |\n",
        "| s1        | tc, total serum cholesterol                                                           |\n",
        "| s2        | ldl, low-density lipoproteins                                                         |\n",
        "| s3        | hdl, high-density lipoproteins                                                        |\n",
        "| s4        | tch, total cholesterol / HDL                                                          |\n",
        "| s5        | ltg, possibly log of serum triglycerides level                                        |\n",
        "| s6        | glu, blood sugar level                                                                |\n",
        "| s6        | measure of the disease progression after one year of measuring the baseline variables |\n",
        "\n",
        "The project objective is to develop a model that can predict the disease progression based on the above variables.\n"
      ]
    },
    {
      "cell_type": "markdown",
      "metadata": {
        "id": "E7t2NpXPuRuK"
      },
      "source": [
        "### 2️⃣ Prepare\n",
        "Here we will load the dataset and split it into training and test sets. We will also perform some Exploratory Data Analysis to get some insights about the processing steps we'll need to take."
      ]
    },
    {
      "cell_type": "markdown",
      "metadata": {
        "id": "5WpY7zyzuRuL"
      },
      "source": [
        "**Task 👨🏻‍💻** : Load the dataset from `data/diabetes.csv` and store it in a variable called `diabetes`"
      ]
    },
    {
      "cell_type": "code",
      "execution_count": 3,
      "metadata": {
        "id": "ARnDEzVFuRuL",
        "outputId": "870db13e-0643-4521-e2ad-4193919023bb",
        "colab": {
          "base_uri": "https://localhost:8080/",
          "height": 90
        }
      },
      "outputs": [
        {
          "output_type": "display_data",
          "data": {
            "text/plain": [
              "<IPython.core.display.HTML object>"
            ],
            "text/html": [
              "\n",
              "     <input type=\"file\" id=\"files-1f8d083f-90a8-4c2c-baf8-6c5c23339e36\" name=\"files[]\" multiple disabled\n",
              "        style=\"border:none\" />\n",
              "     <output id=\"result-1f8d083f-90a8-4c2c-baf8-6c5c23339e36\">\n",
              "      Upload widget is only available when the cell has been executed in the\n",
              "      current browser session. Please rerun this cell to enable.\n",
              "      </output>\n",
              "      <script>// Copyright 2017 Google LLC\n",
              "//\n",
              "// Licensed under the Apache License, Version 2.0 (the \"License\");\n",
              "// you may not use this file except in compliance with the License.\n",
              "// You may obtain a copy of the License at\n",
              "//\n",
              "//      http://www.apache.org/licenses/LICENSE-2.0\n",
              "//\n",
              "// Unless required by applicable law or agreed to in writing, software\n",
              "// distributed under the License is distributed on an \"AS IS\" BASIS,\n",
              "// WITHOUT WARRANTIES OR CONDITIONS OF ANY KIND, either express or implied.\n",
              "// See the License for the specific language governing permissions and\n",
              "// limitations under the License.\n",
              "\n",
              "/**\n",
              " * @fileoverview Helpers for google.colab Python module.\n",
              " */\n",
              "(function(scope) {\n",
              "function span(text, styleAttributes = {}) {\n",
              "  const element = document.createElement('span');\n",
              "  element.textContent = text;\n",
              "  for (const key of Object.keys(styleAttributes)) {\n",
              "    element.style[key] = styleAttributes[key];\n",
              "  }\n",
              "  return element;\n",
              "}\n",
              "\n",
              "// Max number of bytes which will be uploaded at a time.\n",
              "const MAX_PAYLOAD_SIZE = 100 * 1024;\n",
              "\n",
              "function _uploadFiles(inputId, outputId) {\n",
              "  const steps = uploadFilesStep(inputId, outputId);\n",
              "  const outputElement = document.getElementById(outputId);\n",
              "  // Cache steps on the outputElement to make it available for the next call\n",
              "  // to uploadFilesContinue from Python.\n",
              "  outputElement.steps = steps;\n",
              "\n",
              "  return _uploadFilesContinue(outputId);\n",
              "}\n",
              "\n",
              "// This is roughly an async generator (not supported in the browser yet),\n",
              "// where there are multiple asynchronous steps and the Python side is going\n",
              "// to poll for completion of each step.\n",
              "// This uses a Promise to block the python side on completion of each step,\n",
              "// then passes the result of the previous step as the input to the next step.\n",
              "function _uploadFilesContinue(outputId) {\n",
              "  const outputElement = document.getElementById(outputId);\n",
              "  const steps = outputElement.steps;\n",
              "\n",
              "  const next = steps.next(outputElement.lastPromiseValue);\n",
              "  return Promise.resolve(next.value.promise).then((value) => {\n",
              "    // Cache the last promise value to make it available to the next\n",
              "    // step of the generator.\n",
              "    outputElement.lastPromiseValue = value;\n",
              "    return next.value.response;\n",
              "  });\n",
              "}\n",
              "\n",
              "/**\n",
              " * Generator function which is called between each async step of the upload\n",
              " * process.\n",
              " * @param {string} inputId Element ID of the input file picker element.\n",
              " * @param {string} outputId Element ID of the output display.\n",
              " * @return {!Iterable<!Object>} Iterable of next steps.\n",
              " */\n",
              "function* uploadFilesStep(inputId, outputId) {\n",
              "  const inputElement = document.getElementById(inputId);\n",
              "  inputElement.disabled = false;\n",
              "\n",
              "  const outputElement = document.getElementById(outputId);\n",
              "  outputElement.innerHTML = '';\n",
              "\n",
              "  const pickedPromise = new Promise((resolve) => {\n",
              "    inputElement.addEventListener('change', (e) => {\n",
              "      resolve(e.target.files);\n",
              "    });\n",
              "  });\n",
              "\n",
              "  const cancel = document.createElement('button');\n",
              "  inputElement.parentElement.appendChild(cancel);\n",
              "  cancel.textContent = 'Cancel upload';\n",
              "  const cancelPromise = new Promise((resolve) => {\n",
              "    cancel.onclick = () => {\n",
              "      resolve(null);\n",
              "    };\n",
              "  });\n",
              "\n",
              "  // Wait for the user to pick the files.\n",
              "  const files = yield {\n",
              "    promise: Promise.race([pickedPromise, cancelPromise]),\n",
              "    response: {\n",
              "      action: 'starting',\n",
              "    }\n",
              "  };\n",
              "\n",
              "  cancel.remove();\n",
              "\n",
              "  // Disable the input element since further picks are not allowed.\n",
              "  inputElement.disabled = true;\n",
              "\n",
              "  if (!files) {\n",
              "    return {\n",
              "      response: {\n",
              "        action: 'complete',\n",
              "      }\n",
              "    };\n",
              "  }\n",
              "\n",
              "  for (const file of files) {\n",
              "    const li = document.createElement('li');\n",
              "    li.append(span(file.name, {fontWeight: 'bold'}));\n",
              "    li.append(span(\n",
              "        `(${file.type || 'n/a'}) - ${file.size} bytes, ` +\n",
              "        `last modified: ${\n",
              "            file.lastModifiedDate ? file.lastModifiedDate.toLocaleDateString() :\n",
              "                                    'n/a'} - `));\n",
              "    const percent = span('0% done');\n",
              "    li.appendChild(percent);\n",
              "\n",
              "    outputElement.appendChild(li);\n",
              "\n",
              "    const fileDataPromise = new Promise((resolve) => {\n",
              "      const reader = new FileReader();\n",
              "      reader.onload = (e) => {\n",
              "        resolve(e.target.result);\n",
              "      };\n",
              "      reader.readAsArrayBuffer(file);\n",
              "    });\n",
              "    // Wait for the data to be ready.\n",
              "    let fileData = yield {\n",
              "      promise: fileDataPromise,\n",
              "      response: {\n",
              "        action: 'continue',\n",
              "      }\n",
              "    };\n",
              "\n",
              "    // Use a chunked sending to avoid message size limits. See b/62115660.\n",
              "    let position = 0;\n",
              "    do {\n",
              "      const length = Math.min(fileData.byteLength - position, MAX_PAYLOAD_SIZE);\n",
              "      const chunk = new Uint8Array(fileData, position, length);\n",
              "      position += length;\n",
              "\n",
              "      const base64 = btoa(String.fromCharCode.apply(null, chunk));\n",
              "      yield {\n",
              "        response: {\n",
              "          action: 'append',\n",
              "          file: file.name,\n",
              "          data: base64,\n",
              "        },\n",
              "      };\n",
              "\n",
              "      let percentDone = fileData.byteLength === 0 ?\n",
              "          100 :\n",
              "          Math.round((position / fileData.byteLength) * 100);\n",
              "      percent.textContent = `${percentDone}% done`;\n",
              "\n",
              "    } while (position < fileData.byteLength);\n",
              "  }\n",
              "\n",
              "  // All done.\n",
              "  yield {\n",
              "    response: {\n",
              "      action: 'complete',\n",
              "    }\n",
              "  };\n",
              "}\n",
              "\n",
              "scope.google = scope.google || {};\n",
              "scope.google.colab = scope.google.colab || {};\n",
              "scope.google.colab._files = {\n",
              "  _uploadFiles,\n",
              "  _uploadFilesContinue,\n",
              "};\n",
              "})(self);\n",
              "</script> "
            ]
          },
          "metadata": {}
        },
        {
          "output_type": "stream",
          "name": "stdout",
          "text": [
            "Saving diabetes.csv to diabetes.csv\n",
            "User uploaded file \"diabetes.csv\" with length 18494 bytes\n"
          ]
        }
      ],
      "source": [
        "from google.colab import files\n",
        "\n",
        "uploaded = files.upload()\n",
        "\n",
        "for fn in uploaded.keys():\n",
        "  print('User uploaded file \"{name}\" with length {length} bytes'.format(\n",
        "      name=fn, length=len(uploaded[fn])))"
      ]
    },
    {
      "cell_type": "markdown",
      "metadata": {
        "id": "ecjYBdV9uRuL"
      },
      "source": [
        "We need to learn about the composition of the dataset. Let's look at the first few rows of the dataset.\n",
        "\n",
        "**Task 👨🏻‍💻** : Use the `head()` method to look at the first few rows of the dataset.\n",
        "\n",
        "<details>\n",
        "  <summary>Output should look like this: (🦉 click me)</summary>\n",
        "  <img width=\"600\" src=\"https://github.com/IT4063C/images/raw/main/diabetes-assignment/dataset.png\" />\n",
        "</details>"
      ]
    },
    {
      "cell_type": "code",
      "execution_count": 4,
      "metadata": {
        "id": "7WQ1RCwkuRuM",
        "outputId": "4a5ac45b-937e-4b08-f47e-7f6159f3e563",
        "colab": {
          "base_uri": "https://localhost:8080/",
          "height": 206
        }
      },
      "outputs": [
        {
          "output_type": "execute_result",
          "data": {
            "text/plain": [
              "   AGE  SEX   BMI     BP   S1     S2    S3   S4      S5  S6    Y\n",
              "0   59    2  32.1  101.0  157   93.2  38.0  4.0  4.8598  87  151\n",
              "1   48    1  21.6   87.0  183  103.2  70.0  3.0  3.8918  69   75\n",
              "2   72    2  30.5   93.0  156   93.6  41.0  4.0  4.6728  85  141\n",
              "3   24    1  25.3   84.0  198  131.4  40.0  5.0  4.8903  89  206\n",
              "4   50    1  23.0  101.0  192  125.4  52.0  4.0  4.2905  80  135"
            ],
            "text/html": [
              "\n",
              "  <div id=\"df-424f0b0c-e719-48c9-953f-7c9fe98661aa\">\n",
              "    <div class=\"colab-df-container\">\n",
              "      <div>\n",
              "<style scoped>\n",
              "    .dataframe tbody tr th:only-of-type {\n",
              "        vertical-align: middle;\n",
              "    }\n",
              "\n",
              "    .dataframe tbody tr th {\n",
              "        vertical-align: top;\n",
              "    }\n",
              "\n",
              "    .dataframe thead th {\n",
              "        text-align: right;\n",
              "    }\n",
              "</style>\n",
              "<table border=\"1\" class=\"dataframe\">\n",
              "  <thead>\n",
              "    <tr style=\"text-align: right;\">\n",
              "      <th></th>\n",
              "      <th>AGE</th>\n",
              "      <th>SEX</th>\n",
              "      <th>BMI</th>\n",
              "      <th>BP</th>\n",
              "      <th>S1</th>\n",
              "      <th>S2</th>\n",
              "      <th>S3</th>\n",
              "      <th>S4</th>\n",
              "      <th>S5</th>\n",
              "      <th>S6</th>\n",
              "      <th>Y</th>\n",
              "    </tr>\n",
              "  </thead>\n",
              "  <tbody>\n",
              "    <tr>\n",
              "      <th>0</th>\n",
              "      <td>59</td>\n",
              "      <td>2</td>\n",
              "      <td>32.1</td>\n",
              "      <td>101.0</td>\n",
              "      <td>157</td>\n",
              "      <td>93.2</td>\n",
              "      <td>38.0</td>\n",
              "      <td>4.0</td>\n",
              "      <td>4.8598</td>\n",
              "      <td>87</td>\n",
              "      <td>151</td>\n",
              "    </tr>\n",
              "    <tr>\n",
              "      <th>1</th>\n",
              "      <td>48</td>\n",
              "      <td>1</td>\n",
              "      <td>21.6</td>\n",
              "      <td>87.0</td>\n",
              "      <td>183</td>\n",
              "      <td>103.2</td>\n",
              "      <td>70.0</td>\n",
              "      <td>3.0</td>\n",
              "      <td>3.8918</td>\n",
              "      <td>69</td>\n",
              "      <td>75</td>\n",
              "    </tr>\n",
              "    <tr>\n",
              "      <th>2</th>\n",
              "      <td>72</td>\n",
              "      <td>2</td>\n",
              "      <td>30.5</td>\n",
              "      <td>93.0</td>\n",
              "      <td>156</td>\n",
              "      <td>93.6</td>\n",
              "      <td>41.0</td>\n",
              "      <td>4.0</td>\n",
              "      <td>4.6728</td>\n",
              "      <td>85</td>\n",
              "      <td>141</td>\n",
              "    </tr>\n",
              "    <tr>\n",
              "      <th>3</th>\n",
              "      <td>24</td>\n",
              "      <td>1</td>\n",
              "      <td>25.3</td>\n",
              "      <td>84.0</td>\n",
              "      <td>198</td>\n",
              "      <td>131.4</td>\n",
              "      <td>40.0</td>\n",
              "      <td>5.0</td>\n",
              "      <td>4.8903</td>\n",
              "      <td>89</td>\n",
              "      <td>206</td>\n",
              "    </tr>\n",
              "    <tr>\n",
              "      <th>4</th>\n",
              "      <td>50</td>\n",
              "      <td>1</td>\n",
              "      <td>23.0</td>\n",
              "      <td>101.0</td>\n",
              "      <td>192</td>\n",
              "      <td>125.4</td>\n",
              "      <td>52.0</td>\n",
              "      <td>4.0</td>\n",
              "      <td>4.2905</td>\n",
              "      <td>80</td>\n",
              "      <td>135</td>\n",
              "    </tr>\n",
              "  </tbody>\n",
              "</table>\n",
              "</div>\n",
              "      <button class=\"colab-df-convert\" onclick=\"convertToInteractive('df-424f0b0c-e719-48c9-953f-7c9fe98661aa')\"\n",
              "              title=\"Convert this dataframe to an interactive table.\"\n",
              "              style=\"display:none;\">\n",
              "        \n",
              "  <svg xmlns=\"http://www.w3.org/2000/svg\" height=\"24px\"viewBox=\"0 0 24 24\"\n",
              "       width=\"24px\">\n",
              "    <path d=\"M0 0h24v24H0V0z\" fill=\"none\"/>\n",
              "    <path d=\"M18.56 5.44l.94 2.06.94-2.06 2.06-.94-2.06-.94-.94-2.06-.94 2.06-2.06.94zm-11 1L8.5 8.5l.94-2.06 2.06-.94-2.06-.94L8.5 2.5l-.94 2.06-2.06.94zm10 10l.94 2.06.94-2.06 2.06-.94-2.06-.94-.94-2.06-.94 2.06-2.06.94z\"/><path d=\"M17.41 7.96l-1.37-1.37c-.4-.4-.92-.59-1.43-.59-.52 0-1.04.2-1.43.59L10.3 9.45l-7.72 7.72c-.78.78-.78 2.05 0 2.83L4 21.41c.39.39.9.59 1.41.59.51 0 1.02-.2 1.41-.59l7.78-7.78 2.81-2.81c.8-.78.8-2.07 0-2.86zM5.41 20L4 18.59l7.72-7.72 1.47 1.35L5.41 20z\"/>\n",
              "  </svg>\n",
              "      </button>\n",
              "      \n",
              "  <style>\n",
              "    .colab-df-container {\n",
              "      display:flex;\n",
              "      flex-wrap:wrap;\n",
              "      gap: 12px;\n",
              "    }\n",
              "\n",
              "    .colab-df-convert {\n",
              "      background-color: #E8F0FE;\n",
              "      border: none;\n",
              "      border-radius: 50%;\n",
              "      cursor: pointer;\n",
              "      display: none;\n",
              "      fill: #1967D2;\n",
              "      height: 32px;\n",
              "      padding: 0 0 0 0;\n",
              "      width: 32px;\n",
              "    }\n",
              "\n",
              "    .colab-df-convert:hover {\n",
              "      background-color: #E2EBFA;\n",
              "      box-shadow: 0px 1px 2px rgba(60, 64, 67, 0.3), 0px 1px 3px 1px rgba(60, 64, 67, 0.15);\n",
              "      fill: #174EA6;\n",
              "    }\n",
              "\n",
              "    [theme=dark] .colab-df-convert {\n",
              "      background-color: #3B4455;\n",
              "      fill: #D2E3FC;\n",
              "    }\n",
              "\n",
              "    [theme=dark] .colab-df-convert:hover {\n",
              "      background-color: #434B5C;\n",
              "      box-shadow: 0px 1px 3px 1px rgba(0, 0, 0, 0.15);\n",
              "      filter: drop-shadow(0px 1px 2px rgba(0, 0, 0, 0.3));\n",
              "      fill: #FFFFFF;\n",
              "    }\n",
              "  </style>\n",
              "\n",
              "      <script>\n",
              "        const buttonEl =\n",
              "          document.querySelector('#df-424f0b0c-e719-48c9-953f-7c9fe98661aa button.colab-df-convert');\n",
              "        buttonEl.style.display =\n",
              "          google.colab.kernel.accessAllowed ? 'block' : 'none';\n",
              "\n",
              "        async function convertToInteractive(key) {\n",
              "          const element = document.querySelector('#df-424f0b0c-e719-48c9-953f-7c9fe98661aa');\n",
              "          const dataTable =\n",
              "            await google.colab.kernel.invokeFunction('convertToInteractive',\n",
              "                                                     [key], {});\n",
              "          if (!dataTable) return;\n",
              "\n",
              "          const docLinkHtml = 'Like what you see? Visit the ' +\n",
              "            '<a target=\"_blank\" href=https://colab.research.google.com/notebooks/data_table.ipynb>data table notebook</a>'\n",
              "            + ' to learn more about interactive tables.';\n",
              "          element.innerHTML = '';\n",
              "          dataTable['output_type'] = 'display_data';\n",
              "          await google.colab.output.renderOutput(dataTable, element);\n",
              "          const docLink = document.createElement('div');\n",
              "          docLink.innerHTML = docLinkHtml;\n",
              "          element.appendChild(docLink);\n",
              "        }\n",
              "      </script>\n",
              "    </div>\n",
              "  </div>\n",
              "  "
            ]
          },
          "metadata": {},
          "execution_count": 4
        }
      ],
      "source": [
        "diabetes = pd.read_csv('diabetes.csv')\n",
        "diabetes.head()"
      ]
    },
    {
      "cell_type": "markdown",
      "metadata": {
        "id": "rXMVK6I-uRuM"
      },
      "source": [
        "> 🚩 : Make a git commit here"
      ]
    },
    {
      "cell_type": "markdown",
      "metadata": {
        "id": "KDq4OUfAuRuN"
      },
      "source": [
        "We need to know the number of rows and columns in the dataset. Let's use the `.shape` attribute to find out.\n",
        "\n",
        "**Task 👨🏻‍💻:** Use the `.shape` attribute to find out the number of rows and columns in the dataset.\n",
        "\n",
        "*Hint 🦉 :* \n",
        "- `.shape` is an attribute not a method/function; you don't add `()` at the end of it to execute it.\n",
        "- `.shape` It returns a tuple of the form `(rows, columns)`"
      ]
    },
    {
      "cell_type": "code",
      "execution_count": 5,
      "metadata": {
        "id": "8nJd0DPIuRuN",
        "outputId": "55e0bf01-4260-496e-d956-137eeff4d635",
        "colab": {
          "base_uri": "https://localhost:8080/"
        }
      },
      "outputs": [
        {
          "output_type": "execute_result",
          "data": {
            "text/plain": [
              "(442, 11)"
            ]
          },
          "metadata": {},
          "execution_count": 5
        }
      ],
      "source": [
        "diabetes.shape"
      ]
    },
    {
      "cell_type": "markdown",
      "metadata": {
        "id": "ym_3IGVHuRuN"
      },
      "source": [
        "We need to check if we have any missing values in the dataset. Let's use the `isnull()` method to find out.\n",
        "\n",
        "**Task 👨🏻‍💻** : Use the `isnull()` method to find out if there are any missing values in the dataset.\n",
        "\n",
        "*Hint 🦉 :* \n",
        "- `isnull()` returns a dataframe of the same shape as the original dataframe with boolean values. `True` indicates a missing value and `False` indicates a non-missing value.\n",
        "- because it would be difficult to read a dataframe of boolean values, we can use the `sum()` method to get the total number of missing values in each column. `sum()` returns a series with the column names as the index and the total number of missing values in each column as the values.\n",
        "  - We've done this in a previous lab, so you can refer to that if you need to.\n",
        "\n",
        "<details>\n",
        "  <summary>Output should look like this: (🦉 click me)</summary>\n",
        "  <img width=\"100\" src=\"https://github.com/IT4063C/images/raw/main/diabetes-assignment/missing_fields.png\" />\n",
        "</details>\n"
      ]
    },
    {
      "cell_type": "code",
      "execution_count": 6,
      "metadata": {
        "id": "mk_d7MDpuRuO",
        "outputId": "1a804b44-83b0-4128-e32d-8180595b9952",
        "colab": {
          "base_uri": "https://localhost:8080/",
          "height": 423
        }
      },
      "outputs": [
        {
          "output_type": "execute_result",
          "data": {
            "text/plain": [
              "       AGE    SEX    BMI     BP     S1     S2     S3     S4     S5     S6  \\\n",
              "0    False  False  False  False  False  False  False  False  False  False   \n",
              "1    False  False  False  False  False  False  False  False  False  False   \n",
              "2    False  False  False  False  False  False  False  False  False  False   \n",
              "3    False  False  False  False  False  False  False  False  False  False   \n",
              "4    False  False  False  False  False  False  False  False  False  False   \n",
              "..     ...    ...    ...    ...    ...    ...    ...    ...    ...    ...   \n",
              "437  False  False  False  False  False  False  False  False  False  False   \n",
              "438  False  False  False  False  False  False  False  False  False  False   \n",
              "439  False  False  False  False  False  False  False  False  False  False   \n",
              "440  False  False  False  False  False  False  False  False  False  False   \n",
              "441  False  False  False  False  False  False  False  False  False  False   \n",
              "\n",
              "         Y  \n",
              "0    False  \n",
              "1    False  \n",
              "2    False  \n",
              "3    False  \n",
              "4    False  \n",
              "..     ...  \n",
              "437  False  \n",
              "438  False  \n",
              "439  False  \n",
              "440  False  \n",
              "441  False  \n",
              "\n",
              "[442 rows x 11 columns]"
            ],
            "text/html": [
              "\n",
              "  <div id=\"df-deb73bd8-c53e-4fdf-865f-b2f3ff44bf10\">\n",
              "    <div class=\"colab-df-container\">\n",
              "      <div>\n",
              "<style scoped>\n",
              "    .dataframe tbody tr th:only-of-type {\n",
              "        vertical-align: middle;\n",
              "    }\n",
              "\n",
              "    .dataframe tbody tr th {\n",
              "        vertical-align: top;\n",
              "    }\n",
              "\n",
              "    .dataframe thead th {\n",
              "        text-align: right;\n",
              "    }\n",
              "</style>\n",
              "<table border=\"1\" class=\"dataframe\">\n",
              "  <thead>\n",
              "    <tr style=\"text-align: right;\">\n",
              "      <th></th>\n",
              "      <th>AGE</th>\n",
              "      <th>SEX</th>\n",
              "      <th>BMI</th>\n",
              "      <th>BP</th>\n",
              "      <th>S1</th>\n",
              "      <th>S2</th>\n",
              "      <th>S3</th>\n",
              "      <th>S4</th>\n",
              "      <th>S5</th>\n",
              "      <th>S6</th>\n",
              "      <th>Y</th>\n",
              "    </tr>\n",
              "  </thead>\n",
              "  <tbody>\n",
              "    <tr>\n",
              "      <th>0</th>\n",
              "      <td>False</td>\n",
              "      <td>False</td>\n",
              "      <td>False</td>\n",
              "      <td>False</td>\n",
              "      <td>False</td>\n",
              "      <td>False</td>\n",
              "      <td>False</td>\n",
              "      <td>False</td>\n",
              "      <td>False</td>\n",
              "      <td>False</td>\n",
              "      <td>False</td>\n",
              "    </tr>\n",
              "    <tr>\n",
              "      <th>1</th>\n",
              "      <td>False</td>\n",
              "      <td>False</td>\n",
              "      <td>False</td>\n",
              "      <td>False</td>\n",
              "      <td>False</td>\n",
              "      <td>False</td>\n",
              "      <td>False</td>\n",
              "      <td>False</td>\n",
              "      <td>False</td>\n",
              "      <td>False</td>\n",
              "      <td>False</td>\n",
              "    </tr>\n",
              "    <tr>\n",
              "      <th>2</th>\n",
              "      <td>False</td>\n",
              "      <td>False</td>\n",
              "      <td>False</td>\n",
              "      <td>False</td>\n",
              "      <td>False</td>\n",
              "      <td>False</td>\n",
              "      <td>False</td>\n",
              "      <td>False</td>\n",
              "      <td>False</td>\n",
              "      <td>False</td>\n",
              "      <td>False</td>\n",
              "    </tr>\n",
              "    <tr>\n",
              "      <th>3</th>\n",
              "      <td>False</td>\n",
              "      <td>False</td>\n",
              "      <td>False</td>\n",
              "      <td>False</td>\n",
              "      <td>False</td>\n",
              "      <td>False</td>\n",
              "      <td>False</td>\n",
              "      <td>False</td>\n",
              "      <td>False</td>\n",
              "      <td>False</td>\n",
              "      <td>False</td>\n",
              "    </tr>\n",
              "    <tr>\n",
              "      <th>4</th>\n",
              "      <td>False</td>\n",
              "      <td>False</td>\n",
              "      <td>False</td>\n",
              "      <td>False</td>\n",
              "      <td>False</td>\n",
              "      <td>False</td>\n",
              "      <td>False</td>\n",
              "      <td>False</td>\n",
              "      <td>False</td>\n",
              "      <td>False</td>\n",
              "      <td>False</td>\n",
              "    </tr>\n",
              "    <tr>\n",
              "      <th>...</th>\n",
              "      <td>...</td>\n",
              "      <td>...</td>\n",
              "      <td>...</td>\n",
              "      <td>...</td>\n",
              "      <td>...</td>\n",
              "      <td>...</td>\n",
              "      <td>...</td>\n",
              "      <td>...</td>\n",
              "      <td>...</td>\n",
              "      <td>...</td>\n",
              "      <td>...</td>\n",
              "    </tr>\n",
              "    <tr>\n",
              "      <th>437</th>\n",
              "      <td>False</td>\n",
              "      <td>False</td>\n",
              "      <td>False</td>\n",
              "      <td>False</td>\n",
              "      <td>False</td>\n",
              "      <td>False</td>\n",
              "      <td>False</td>\n",
              "      <td>False</td>\n",
              "      <td>False</td>\n",
              "      <td>False</td>\n",
              "      <td>False</td>\n",
              "    </tr>\n",
              "    <tr>\n",
              "      <th>438</th>\n",
              "      <td>False</td>\n",
              "      <td>False</td>\n",
              "      <td>False</td>\n",
              "      <td>False</td>\n",
              "      <td>False</td>\n",
              "      <td>False</td>\n",
              "      <td>False</td>\n",
              "      <td>False</td>\n",
              "      <td>False</td>\n",
              "      <td>False</td>\n",
              "      <td>False</td>\n",
              "    </tr>\n",
              "    <tr>\n",
              "      <th>439</th>\n",
              "      <td>False</td>\n",
              "      <td>False</td>\n",
              "      <td>False</td>\n",
              "      <td>False</td>\n",
              "      <td>False</td>\n",
              "      <td>False</td>\n",
              "      <td>False</td>\n",
              "      <td>False</td>\n",
              "      <td>False</td>\n",
              "      <td>False</td>\n",
              "      <td>False</td>\n",
              "    </tr>\n",
              "    <tr>\n",
              "      <th>440</th>\n",
              "      <td>False</td>\n",
              "      <td>False</td>\n",
              "      <td>False</td>\n",
              "      <td>False</td>\n",
              "      <td>False</td>\n",
              "      <td>False</td>\n",
              "      <td>False</td>\n",
              "      <td>False</td>\n",
              "      <td>False</td>\n",
              "      <td>False</td>\n",
              "      <td>False</td>\n",
              "    </tr>\n",
              "    <tr>\n",
              "      <th>441</th>\n",
              "      <td>False</td>\n",
              "      <td>False</td>\n",
              "      <td>False</td>\n",
              "      <td>False</td>\n",
              "      <td>False</td>\n",
              "      <td>False</td>\n",
              "      <td>False</td>\n",
              "      <td>False</td>\n",
              "      <td>False</td>\n",
              "      <td>False</td>\n",
              "      <td>False</td>\n",
              "    </tr>\n",
              "  </tbody>\n",
              "</table>\n",
              "<p>442 rows × 11 columns</p>\n",
              "</div>\n",
              "      <button class=\"colab-df-convert\" onclick=\"convertToInteractive('df-deb73bd8-c53e-4fdf-865f-b2f3ff44bf10')\"\n",
              "              title=\"Convert this dataframe to an interactive table.\"\n",
              "              style=\"display:none;\">\n",
              "        \n",
              "  <svg xmlns=\"http://www.w3.org/2000/svg\" height=\"24px\"viewBox=\"0 0 24 24\"\n",
              "       width=\"24px\">\n",
              "    <path d=\"M0 0h24v24H0V0z\" fill=\"none\"/>\n",
              "    <path d=\"M18.56 5.44l.94 2.06.94-2.06 2.06-.94-2.06-.94-.94-2.06-.94 2.06-2.06.94zm-11 1L8.5 8.5l.94-2.06 2.06-.94-2.06-.94L8.5 2.5l-.94 2.06-2.06.94zm10 10l.94 2.06.94-2.06 2.06-.94-2.06-.94-.94-2.06-.94 2.06-2.06.94z\"/><path d=\"M17.41 7.96l-1.37-1.37c-.4-.4-.92-.59-1.43-.59-.52 0-1.04.2-1.43.59L10.3 9.45l-7.72 7.72c-.78.78-.78 2.05 0 2.83L4 21.41c.39.39.9.59 1.41.59.51 0 1.02-.2 1.41-.59l7.78-7.78 2.81-2.81c.8-.78.8-2.07 0-2.86zM5.41 20L4 18.59l7.72-7.72 1.47 1.35L5.41 20z\"/>\n",
              "  </svg>\n",
              "      </button>\n",
              "      \n",
              "  <style>\n",
              "    .colab-df-container {\n",
              "      display:flex;\n",
              "      flex-wrap:wrap;\n",
              "      gap: 12px;\n",
              "    }\n",
              "\n",
              "    .colab-df-convert {\n",
              "      background-color: #E8F0FE;\n",
              "      border: none;\n",
              "      border-radius: 50%;\n",
              "      cursor: pointer;\n",
              "      display: none;\n",
              "      fill: #1967D2;\n",
              "      height: 32px;\n",
              "      padding: 0 0 0 0;\n",
              "      width: 32px;\n",
              "    }\n",
              "\n",
              "    .colab-df-convert:hover {\n",
              "      background-color: #E2EBFA;\n",
              "      box-shadow: 0px 1px 2px rgba(60, 64, 67, 0.3), 0px 1px 3px 1px rgba(60, 64, 67, 0.15);\n",
              "      fill: #174EA6;\n",
              "    }\n",
              "\n",
              "    [theme=dark] .colab-df-convert {\n",
              "      background-color: #3B4455;\n",
              "      fill: #D2E3FC;\n",
              "    }\n",
              "\n",
              "    [theme=dark] .colab-df-convert:hover {\n",
              "      background-color: #434B5C;\n",
              "      box-shadow: 0px 1px 3px 1px rgba(0, 0, 0, 0.15);\n",
              "      filter: drop-shadow(0px 1px 2px rgba(0, 0, 0, 0.3));\n",
              "      fill: #FFFFFF;\n",
              "    }\n",
              "  </style>\n",
              "\n",
              "      <script>\n",
              "        const buttonEl =\n",
              "          document.querySelector('#df-deb73bd8-c53e-4fdf-865f-b2f3ff44bf10 button.colab-df-convert');\n",
              "        buttonEl.style.display =\n",
              "          google.colab.kernel.accessAllowed ? 'block' : 'none';\n",
              "\n",
              "        async function convertToInteractive(key) {\n",
              "          const element = document.querySelector('#df-deb73bd8-c53e-4fdf-865f-b2f3ff44bf10');\n",
              "          const dataTable =\n",
              "            await google.colab.kernel.invokeFunction('convertToInteractive',\n",
              "                                                     [key], {});\n",
              "          if (!dataTable) return;\n",
              "\n",
              "          const docLinkHtml = 'Like what you see? Visit the ' +\n",
              "            '<a target=\"_blank\" href=https://colab.research.google.com/notebooks/data_table.ipynb>data table notebook</a>'\n",
              "            + ' to learn more about interactive tables.';\n",
              "          element.innerHTML = '';\n",
              "          dataTable['output_type'] = 'display_data';\n",
              "          await google.colab.output.renderOutput(dataTable, element);\n",
              "          const docLink = document.createElement('div');\n",
              "          docLink.innerHTML = docLinkHtml;\n",
              "          element.appendChild(docLink);\n",
              "        }\n",
              "      </script>\n",
              "    </div>\n",
              "  </div>\n",
              "  "
            ]
          },
          "metadata": {},
          "execution_count": 6
        }
      ],
      "source": [
        "diabetes.isnull()"
      ]
    },
    {
      "cell_type": "markdown",
      "metadata": {
        "id": "qW5lfZrsuRuO"
      },
      "source": [
        "We could also use the `info()` method to get a summary of the dataset. Let's use it to find out more about the dataset.\n",
        "\n",
        "**Task 👨🏻‍💻** : Use the `info()` method to get a summary of the dataset.\n",
        "\n",
        "*Hint 🦉 :* \n",
        "- `info()` returns a summary of the dataset. \n",
        "- It includes the number of rows and columns, the number of **non-missing values** in each column, the data type of each column and the memory usage of the dataframe."
      ]
    },
    {
      "cell_type": "code",
      "execution_count": 7,
      "metadata": {
        "id": "y4_7g4KwuRuP",
        "outputId": "010520f2-2d50-458b-ed79-2b94a37690a0",
        "colab": {
          "base_uri": "https://localhost:8080/"
        }
      },
      "outputs": [
        {
          "output_type": "stream",
          "name": "stdout",
          "text": [
            "<class 'pandas.core.frame.DataFrame'>\n",
            "RangeIndex: 442 entries, 0 to 441\n",
            "Data columns (total 11 columns):\n",
            " #   Column  Non-Null Count  Dtype  \n",
            "---  ------  --------------  -----  \n",
            " 0   AGE     442 non-null    int64  \n",
            " 1   SEX     442 non-null    int64  \n",
            " 2   BMI     442 non-null    float64\n",
            " 3   BP      441 non-null    float64\n",
            " 4   S1      442 non-null    int64  \n",
            " 5   S2      442 non-null    float64\n",
            " 6   S3      442 non-null    float64\n",
            " 7   S4      442 non-null    float64\n",
            " 8   S5      442 non-null    float64\n",
            " 9   S6      442 non-null    int64  \n",
            " 10  Y       442 non-null    int64  \n",
            "dtypes: float64(6), int64(5)\n",
            "memory usage: 38.1 KB\n"
          ]
        }
      ],
      "source": [
        "diabetes.info()"
      ]
    },
    {
      "cell_type": "markdown",
      "metadata": {
        "id": "KiyRbVj5uRuP"
      },
      "source": [
        "We could also use the `describe()` method to get a summary of the dataset. Let's use it to find out more about the dataset.\n",
        "\n",
        "**Task 👨🏻‍💻** : Use the `describe()` method to get a summary of the dataset."
      ]
    },
    {
      "cell_type": "code",
      "execution_count": 8,
      "metadata": {
        "id": "9aaRt1_duRuP",
        "outputId": "0480405a-758e-4a39-c06e-0abf2ffd143e",
        "colab": {
          "base_uri": "https://localhost:8080/"
        }
      },
      "outputs": [
        {
          "output_type": "stream",
          "name": "stdout",
          "text": [
            "<class 'pandas.core.frame.DataFrame'>\n",
            "RangeIndex: 442 entries, 0 to 441\n",
            "Data columns (total 11 columns):\n",
            " #   Column  Non-Null Count  Dtype  \n",
            "---  ------  --------------  -----  \n",
            " 0   AGE     442 non-null    int64  \n",
            " 1   SEX     442 non-null    int64  \n",
            " 2   BMI     442 non-null    float64\n",
            " 3   BP      441 non-null    float64\n",
            " 4   S1      442 non-null    int64  \n",
            " 5   S2      442 non-null    float64\n",
            " 6   S3      442 non-null    float64\n",
            " 7   S4      442 non-null    float64\n",
            " 8   S5      442 non-null    float64\n",
            " 9   S6      442 non-null    int64  \n",
            " 10  Y       442 non-null    int64  \n",
            "dtypes: float64(6), int64(5)\n",
            "memory usage: 38.1 KB\n"
          ]
        }
      ],
      "source": [
        "diabetes.info()"
      ]
    },
    {
      "cell_type": "markdown",
      "metadata": {
        "id": "hqqV0EvcuRuQ"
      },
      "source": [
        "> 🚩 : Make a git commit here"
      ]
    },
    {
      "cell_type": "markdown",
      "metadata": {
        "id": "MzUPSQyuuRuR"
      },
      "source": [
        "One of the ways to get a better understanding of the dataset is to look at the distribution of the values in each column. Let's use the `describe()` method to get a summary of the distribution of values in each column.\n",
        "\n",
        "**Task 👨🏻‍💻** : Use the `.hist()` method to plot a histogram of each column in the dataset.\n",
        "\n",
        "*Hint 🦉 :* \n",
        "- use the `figsize` parameter to set the size of the figure to `(20, 15)`\n",
        "- use the `bins` parameter to set the number of bins to `50`\n",
        "\n",
        "<details>\n",
        "  <summary>Output should look like this: (🦉 click me)</summary>\n",
        "  <img width=\"800\" src=\"https://github.com/IT4063C/images/raw/main/diabetes-assignment/diabetes_hist.png\" />\n",
        "</details>"
      ]
    },
    {
      "cell_type": "code",
      "execution_count": 9,
      "metadata": {
        "id": "ObERQMDMuRuS",
        "outputId": "e2b77cf7-680d-487d-b73d-5b4556d38a17",
        "colab": {
          "base_uri": "https://localhost:8080/",
          "height": 1000
        }
      },
      "outputs": [
        {
          "output_type": "execute_result",
          "data": {
            "text/plain": [
              "array([[<Axes: title={'center': 'AGE'}>, <Axes: title={'center': 'SEX'}>,\n",
              "        <Axes: title={'center': 'BMI'}>],\n",
              "       [<Axes: title={'center': 'BP'}>, <Axes: title={'center': 'S1'}>,\n",
              "        <Axes: title={'center': 'S2'}>],\n",
              "       [<Axes: title={'center': 'S3'}>, <Axes: title={'center': 'S4'}>,\n",
              "        <Axes: title={'center': 'S5'}>],\n",
              "       [<Axes: title={'center': 'S6'}>, <Axes: title={'center': 'Y'}>,\n",
              "        <Axes: >]], dtype=object)"
            ]
          },
          "metadata": {},
          "execution_count": 9
        },
        {
          "output_type": "display_data",
          "data": {
            "text/plain": [
              "<Figure size 2000x1500 with 12 Axes>"
            ],
            "image/png": "[encoded data removed]"
          },
          "metadata": {}
        }
      ],
      "source": [
        "diabetes.hist(figsize=(20, 15), bins=50)"
      ]
    },
    {
      "cell_type": "markdown",
      "metadata": {
        "id": "zHXPh0r-uRuS"
      },
      "source": [
        "> 🚩 : Make a git commit here"
      ]
    },
    {
      "cell_type": "markdown",
      "metadata": {
        "id": "CgJJM2pcuRuT"
      },
      "source": [
        "#### ☕️ Coffee Break\n",
        "Here are some observations we can make from the what we've done so far (usually I would ask you to make these observations):\n",
        "- The dataset has 442 rows and 11 columns. \n",
        "  - n = 422\n",
        "  - m = 10\n",
        "  - outcome/target = 1\n",
        "- There are is a single missing feature for a single row in the dataset. (I purposefully removed it from the dataset so we can practice imputing missing values)\n",
        "- the `SEX` column has only two unique values: 1 and 2. This means that the column is categorical and not numerical.\n",
        "  - We will need to replace the values with `MALE` and `FEMALE` instead of `1` and `2`.\n",
        "  - We will need to use the `OneHotEncoder` to encode this column.\n",
        "- The values in each column are on a different scales. Some ranging from 20 to 80, others from 100 to 400, and so on. We will need to scale the values before we can use them to train a machine learning model.\n"
      ]
    },
    {
      "cell_type": "markdown",
      "metadata": {
        "id": "77ahv0e3uRuT"
      },
      "source": [
        "#### EDA\n",
        "Let's perform some more data exploration. Let's visualize the relationship between the features and the target."
      ]
    },
    {
      "cell_type": "markdown",
      "metadata": {
        "id": "KJ3MlCLWuRuU"
      },
      "source": [
        "**Task 👨🏻‍💻** : Use the `scatter_matrix()` method from the `pandas.plotting` module to plot a scatter plot of each column in the dataset against the target column.\n",
        "\n",
        "<details>\n",
        "  <summary>Output should look like this: (🦉 click me)</summary>\n",
        "  <img width=\"600\" src=\"https://github.com/IT4063C/images/raw/main/diabetes-assignment/scatter_matrix.png\" />\n",
        "</details>"
      ]
    },
    {
      "cell_type": "code",
      "execution_count": 12,
      "metadata": {
        "id": "mg__36cWuRuU",
        "outputId": "4d24f3e8-52dd-4c48-b6a0-a2a3c68d573e",
        "colab": {
          "base_uri": "https://localhost:8080/",
          "height": 1000
        }
      },
      "outputs": [
        {
          "output_type": "error",
          "ename": "ValueError",
          "evalue": "ignored",
          "traceback": [
            "\u001b[0;31m---------------------------------------------------------------------------\u001b[0m",
            "\u001b[0;31mValueError\u001b[0m                                Traceback (most recent call last)",
            "\u001b[0;32m/usr/local/lib/python3.9/dist-packages/matplotlib/axes/_axes.py\u001b[0m in \u001b[0;36m_parse_scatter_color_args\u001b[0;34m(c, edgecolors, kwargs, xsize, get_next_color_func)\u001b[0m\n\u001b[1;32m   4438\u001b[0m             \u001b[0;32mtry\u001b[0m\u001b[0;34m:\u001b[0m  \u001b[0;31m# Is 'c' acceptable as PathCollection facecolors?\u001b[0m\u001b[0;34m\u001b[0m\u001b[0;34m\u001b[0m\u001b[0m\n\u001b[0;32m-> 4439\u001b[0;31m                 \u001b[0mcolors\u001b[0m \u001b[0;34m=\u001b[0m \u001b[0mmcolors\u001b[0m\u001b[0;34m.\u001b[0m\u001b[0mto_rgba_array\u001b[0m\u001b[0;34m(\u001b[0m\u001b[0mc\u001b[0m\u001b[0;34m)\u001b[0m\u001b[0;34m\u001b[0m\u001b[0;34m\u001b[0m\u001b[0m\n\u001b[0m\u001b[1;32m   4440\u001b[0m             \u001b[0;32mexcept\u001b[0m \u001b[0;34m(\u001b[0m\u001b[0mTypeError\u001b[0m\u001b[0;34m,\u001b[0m \u001b[0mValueError\u001b[0m\u001b[0;34m)\u001b[0m \u001b[0;32mas\u001b[0m \u001b[0merr\u001b[0m\u001b[0;34m:\u001b[0m\u001b[0;34m\u001b[0m\u001b[0;34m\u001b[0m\u001b[0m\n",
            "\u001b[0;32m/usr/local/lib/python3.9/dist-packages/matplotlib/colors.py\u001b[0m in \u001b[0;36mto_rgba_array\u001b[0;34m(c, alpha)\u001b[0m\n\u001b[1;32m    486\u001b[0m     \u001b[0;32melse\u001b[0m\u001b[0;34m:\u001b[0m\u001b[0;34m\u001b[0m\u001b[0;34m\u001b[0m\u001b[0m\n\u001b[0;32m--> 487\u001b[0;31m         \u001b[0mrgba\u001b[0m \u001b[0;34m=\u001b[0m \u001b[0mnp\u001b[0m\u001b[0;34m.\u001b[0m\u001b[0marray\u001b[0m\u001b[0;34m(\u001b[0m\u001b[0;34m[\u001b[0m\u001b[0mto_rgba\u001b[0m\u001b[0;34m(\u001b[0m\u001b[0mcc\u001b[0m\u001b[0;34m)\u001b[0m \u001b[0;32mfor\u001b[0m \u001b[0mcc\u001b[0m \u001b[0;32min\u001b[0m \u001b[0mc\u001b[0m\u001b[0;34m]\u001b[0m\u001b[0;34m)\u001b[0m\u001b[0;34m\u001b[0m\u001b[0;34m\u001b[0m\u001b[0m\n\u001b[0m\u001b[1;32m    488\u001b[0m \u001b[0;34m\u001b[0m\u001b[0m\n",
            "\u001b[0;32m/usr/local/lib/python3.9/dist-packages/matplotlib/colors.py\u001b[0m in \u001b[0;36m<listcomp>\u001b[0;34m(.0)\u001b[0m\n\u001b[1;32m    486\u001b[0m     \u001b[0;32melse\u001b[0m\u001b[0;34m:\u001b[0m\u001b[0;34m\u001b[0m\u001b[0;34m\u001b[0m\u001b[0m\n\u001b[0;32m--> 487\u001b[0;31m         \u001b[0mrgba\u001b[0m \u001b[0;34m=\u001b[0m \u001b[0mnp\u001b[0m\u001b[0;34m.\u001b[0m\u001b[0marray\u001b[0m\u001b[0;34m(\u001b[0m\u001b[0;34m[\u001b[0m\u001b[0mto_rgba\u001b[0m\u001b[0;34m(\u001b[0m\u001b[0mcc\u001b[0m\u001b[0;34m)\u001b[0m \u001b[0;32mfor\u001b[0m \u001b[0mcc\u001b[0m \u001b[0;32min\u001b[0m \u001b[0mc\u001b[0m\u001b[0;34m]\u001b[0m\u001b[0;34m)\u001b[0m\u001b[0;34m\u001b[0m\u001b[0;34m\u001b[0m\u001b[0m\n\u001b[0m\u001b[1;32m    488\u001b[0m \u001b[0;34m\u001b[0m\u001b[0m\n",
            "\u001b[0;32m/usr/local/lib/python3.9/dist-packages/matplotlib/colors.py\u001b[0m in \u001b[0;36mto_rgba\u001b[0;34m(c, alpha)\u001b[0m\n\u001b[1;32m    298\u001b[0m     \u001b[0;32mif\u001b[0m \u001b[0mrgba\u001b[0m \u001b[0;32mis\u001b[0m \u001b[0;32mNone\u001b[0m\u001b[0;34m:\u001b[0m  \u001b[0;31m# Suppress exception chaining of cache lookup failure.\u001b[0m\u001b[0;34m\u001b[0m\u001b[0;34m\u001b[0m\u001b[0m\n\u001b[0;32m--> 299\u001b[0;31m         \u001b[0mrgba\u001b[0m \u001b[0;34m=\u001b[0m \u001b[0m_to_rgba_no_colorcycle\u001b[0m\u001b[0;34m(\u001b[0m\u001b[0mc\u001b[0m\u001b[0;34m,\u001b[0m \u001b[0malpha\u001b[0m\u001b[0;34m)\u001b[0m\u001b[0;34m\u001b[0m\u001b[0;34m\u001b[0m\u001b[0m\n\u001b[0m\u001b[1;32m    300\u001b[0m         \u001b[0;32mtry\u001b[0m\u001b[0;34m:\u001b[0m\u001b[0;34m\u001b[0m\u001b[0;34m\u001b[0m\u001b[0m\n",
            "\u001b[0;32m/usr/local/lib/python3.9/dist-packages/matplotlib/colors.py\u001b[0m in \u001b[0;36m_to_rgba_no_colorcycle\u001b[0;34m(c, alpha)\u001b[0m\n\u001b[1;32m    380\u001b[0m     \u001b[0;32mif\u001b[0m \u001b[0;32mnot\u001b[0m \u001b[0mnp\u001b[0m\u001b[0;34m.\u001b[0m\u001b[0miterable\u001b[0m\u001b[0;34m(\u001b[0m\u001b[0mc\u001b[0m\u001b[0;34m)\u001b[0m\u001b[0;34m:\u001b[0m\u001b[0;34m\u001b[0m\u001b[0;34m\u001b[0m\u001b[0m\n\u001b[0;32m--> 381\u001b[0;31m         \u001b[0;32mraise\u001b[0m \u001b[0mValueError\u001b[0m\u001b[0;34m(\u001b[0m\u001b[0;34mf\"Invalid RGBA argument: {orig_c!r}\"\u001b[0m\u001b[0;34m)\u001b[0m\u001b[0;34m\u001b[0m\u001b[0;34m\u001b[0m\u001b[0m\n\u001b[0m\u001b[1;32m    382\u001b[0m     \u001b[0;32mif\u001b[0m \u001b[0mlen\u001b[0m\u001b[0;34m(\u001b[0m\u001b[0mc\u001b[0m\u001b[0;34m)\u001b[0m \u001b[0;32mnot\u001b[0m \u001b[0;32min\u001b[0m \u001b[0;34m[\u001b[0m\u001b[0;36m3\u001b[0m\u001b[0;34m,\u001b[0m \u001b[0;36m4\u001b[0m\u001b[0;34m]\u001b[0m\u001b[0;34m:\u001b[0m\u001b[0;34m\u001b[0m\u001b[0;34m\u001b[0m\u001b[0m\n",
            "\u001b[0;31mValueError\u001b[0m: Invalid RGBA argument: 151.0",
            "\nThe above exception was the direct cause of the following exception:\n",
            "\u001b[0;31mValueError\u001b[0m                                Traceback (most recent call last)",
            "\u001b[0;32m<ipython-input-12-db114c321172>\u001b[0m in \u001b[0;36m<cell line: 8>\u001b[0;34m()\u001b[0m\n\u001b[1;32m      6\u001b[0m \u001b[0;34m\u001b[0m\u001b[0m\n\u001b[1;32m      7\u001b[0m \u001b[0;31m# create a scatter plot matrix of all columns against the target column\u001b[0m\u001b[0;34m\u001b[0m\u001b[0;34m\u001b[0m\u001b[0m\n\u001b[0;32m----> 8\u001b[0;31m \u001b[0mpd\u001b[0m\u001b[0;34m.\u001b[0m\u001b[0mplotting\u001b[0m\u001b[0;34m.\u001b[0m\u001b[0mscatter_matrix\u001b[0m\u001b[0;34m(\u001b[0m\u001b[0mdiabetes_df\u001b[0m\u001b[0;34m,\u001b[0m \u001b[0malpha\u001b[0m\u001b[0;34m=\u001b[0m\u001b[0;36m0.2\u001b[0m\u001b[0;34m,\u001b[0m \u001b[0mfigsize\u001b[0m\u001b[0;34m=\u001b[0m\u001b[0;34m(\u001b[0m\u001b[0;36m15\u001b[0m\u001b[0;34m,\u001b[0m \u001b[0;36m15\u001b[0m\u001b[0;34m)\u001b[0m\u001b[0;34m,\u001b[0m \u001b[0mdiagonal\u001b[0m\u001b[0;34m=\u001b[0m\u001b[0;34m'hist'\u001b[0m\u001b[0;34m,\u001b[0m \u001b[0mc\u001b[0m\u001b[0;34m=\u001b[0m\u001b[0mdiabetes_df\u001b[0m\u001b[0;34m[\u001b[0m\u001b[0mtarget_col\u001b[0m\u001b[0;34m]\u001b[0m\u001b[0;34m,\u001b[0m \u001b[0mcmap\u001b[0m\u001b[0;34m=\u001b[0m\u001b[0;34m'viridis'\u001b[0m\u001b[0;34m)\u001b[0m\u001b[0;34m\u001b[0m\u001b[0;34m\u001b[0m\u001b[0m\n\u001b[0m\u001b[1;32m      9\u001b[0m \u001b[0;34m\u001b[0m\u001b[0m\n\u001b[1;32m     10\u001b[0m \u001b[0;31m# add a color bar to the scatter plot matrix\u001b[0m\u001b[0;34m\u001b[0m\u001b[0;34m\u001b[0m\u001b[0m\n",
            "\u001b[0;32m/usr/local/lib/python3.9/dist-packages/pandas/plotting/_misc.py\u001b[0m in \u001b[0;36mscatter_matrix\u001b[0;34m(frame, alpha, figsize, ax, grid, diagonal, marker, density_kwds, hist_kwds, range_padding, **kwargs)\u001b[0m\n\u001b[1;32m    158\u001b[0m     \"\"\"\n\u001b[1;32m    159\u001b[0m     \u001b[0mplot_backend\u001b[0m \u001b[0;34m=\u001b[0m \u001b[0m_get_plot_backend\u001b[0m\u001b[0;34m(\u001b[0m\u001b[0;34m\"matplotlib\"\u001b[0m\u001b[0;34m)\u001b[0m\u001b[0;34m\u001b[0m\u001b[0;34m\u001b[0m\u001b[0m\n\u001b[0;32m--> 160\u001b[0;31m     return plot_backend.scatter_matrix(\n\u001b[0m\u001b[1;32m    161\u001b[0m         \u001b[0mframe\u001b[0m\u001b[0;34m=\u001b[0m\u001b[0mframe\u001b[0m\u001b[0;34m,\u001b[0m\u001b[0;34m\u001b[0m\u001b[0;34m\u001b[0m\u001b[0m\n\u001b[1;32m    162\u001b[0m         \u001b[0malpha\u001b[0m\u001b[0;34m=\u001b[0m\u001b[0malpha\u001b[0m\u001b[0;34m,\u001b[0m\u001b[0;34m\u001b[0m\u001b[0;34m\u001b[0m\u001b[0m\n",
            "\u001b[0;32m/usr/local/lib/python3.9/dist-packages/pandas/plotting/_matplotlib/misc.py\u001b[0m in \u001b[0;36mscatter_matrix\u001b[0;34m(frame, alpha, figsize, ax, grid, diagonal, marker, density_kwds, hist_kwds, range_padding, **kwds)\u001b[0m\n\u001b[1;32m     95\u001b[0m                 \u001b[0mcommon\u001b[0m \u001b[0;34m=\u001b[0m \u001b[0;34m(\u001b[0m\u001b[0mmask\u001b[0m\u001b[0;34m[\u001b[0m\u001b[0ma\u001b[0m\u001b[0;34m]\u001b[0m \u001b[0;34m&\u001b[0m \u001b[0mmask\u001b[0m\u001b[0;34m[\u001b[0m\u001b[0mb\u001b[0m\u001b[0;34m]\u001b[0m\u001b[0;34m)\u001b[0m\u001b[0;34m.\u001b[0m\u001b[0mvalues\u001b[0m\u001b[0;34m\u001b[0m\u001b[0;34m\u001b[0m\u001b[0m\n\u001b[1;32m     96\u001b[0m \u001b[0;34m\u001b[0m\u001b[0m\n\u001b[0;32m---> 97\u001b[0;31m                 ax.scatter(\n\u001b[0m\u001b[1;32m     98\u001b[0m                     \u001b[0mdf\u001b[0m\u001b[0;34m[\u001b[0m\u001b[0mb\u001b[0m\u001b[0;34m]\u001b[0m\u001b[0;34m[\u001b[0m\u001b[0mcommon\u001b[0m\u001b[0;34m]\u001b[0m\u001b[0;34m,\u001b[0m \u001b[0mdf\u001b[0m\u001b[0;34m[\u001b[0m\u001b[0ma\u001b[0m\u001b[0;34m]\u001b[0m\u001b[0;34m[\u001b[0m\u001b[0mcommon\u001b[0m\u001b[0;34m]\u001b[0m\u001b[0;34m,\u001b[0m \u001b[0mmarker\u001b[0m\u001b[0;34m=\u001b[0m\u001b[0mmarker\u001b[0m\u001b[0;34m,\u001b[0m \u001b[0malpha\u001b[0m\u001b[0;34m=\u001b[0m\u001b[0malpha\u001b[0m\u001b[0;34m,\u001b[0m \u001b[0;34m**\u001b[0m\u001b[0mkwds\u001b[0m\u001b[0;34m\u001b[0m\u001b[0;34m\u001b[0m\u001b[0m\n\u001b[1;32m     99\u001b[0m                 )\n",
            "\u001b[0;32m/usr/local/lib/python3.9/dist-packages/matplotlib/__init__.py\u001b[0m in \u001b[0;36minner\u001b[0;34m(ax, data, *args, **kwargs)\u001b[0m\n\u001b[1;32m   1440\u001b[0m     \u001b[0;32mdef\u001b[0m \u001b[0minner\u001b[0m\u001b[0;34m(\u001b[0m\u001b[0max\u001b[0m\u001b[0;34m,\u001b[0m \u001b[0;34m*\u001b[0m\u001b[0margs\u001b[0m\u001b[0;34m,\u001b[0m \u001b[0mdata\u001b[0m\u001b[0;34m=\u001b[0m\u001b[0;32mNone\u001b[0m\u001b[0;34m,\u001b[0m \u001b[0;34m**\u001b[0m\u001b[0mkwargs\u001b[0m\u001b[0;34m)\u001b[0m\u001b[0;34m:\u001b[0m\u001b[0;34m\u001b[0m\u001b[0;34m\u001b[0m\u001b[0m\n\u001b[1;32m   1441\u001b[0m         \u001b[0;32mif\u001b[0m \u001b[0mdata\u001b[0m \u001b[0;32mis\u001b[0m \u001b[0;32mNone\u001b[0m\u001b[0;34m:\u001b[0m\u001b[0;34m\u001b[0m\u001b[0;34m\u001b[0m\u001b[0m\n\u001b[0;32m-> 1442\u001b[0;31m             \u001b[0;32mreturn\u001b[0m \u001b[0mfunc\u001b[0m\u001b[0;34m(\u001b[0m\u001b[0max\u001b[0m\u001b[0;34m,\u001b[0m \u001b[0;34m*\u001b[0m\u001b[0mmap\u001b[0m\u001b[0;34m(\u001b[0m\u001b[0msanitize_sequence\u001b[0m\u001b[0;34m,\u001b[0m \u001b[0margs\u001b[0m\u001b[0;34m)\u001b[0m\u001b[0;34m,\u001b[0m \u001b[0;34m**\u001b[0m\u001b[0mkwargs\u001b[0m\u001b[0;34m)\u001b[0m\u001b[0;34m\u001b[0m\u001b[0;34m\u001b[0m\u001b[0m\n\u001b[0m\u001b[1;32m   1443\u001b[0m \u001b[0;34m\u001b[0m\u001b[0m\n\u001b[1;32m   1444\u001b[0m         \u001b[0mbound\u001b[0m \u001b[0;34m=\u001b[0m \u001b[0mnew_sig\u001b[0m\u001b[0;34m.\u001b[0m\u001b[0mbind\u001b[0m\u001b[0;34m(\u001b[0m\u001b[0max\u001b[0m\u001b[0;34m,\u001b[0m \u001b[0;34m*\u001b[0m\u001b[0margs\u001b[0m\u001b[0;34m,\u001b[0m \u001b[0;34m**\u001b[0m\u001b[0mkwargs\u001b[0m\u001b[0;34m)\u001b[0m\u001b[0;34m\u001b[0m\u001b[0;34m\u001b[0m\u001b[0m\n",
            "\u001b[0;32m/usr/local/lib/python3.9/dist-packages/matplotlib/axes/_axes.py\u001b[0m in \u001b[0;36mscatter\u001b[0;34m(self, x, y, s, c, marker, cmap, norm, vmin, vmax, alpha, linewidths, edgecolors, plotnonfinite, **kwargs)\u001b[0m\n\u001b[1;32m   4600\u001b[0m             \u001b[0morig_edgecolor\u001b[0m \u001b[0;34m=\u001b[0m \u001b[0mkwargs\u001b[0m\u001b[0;34m.\u001b[0m\u001b[0mget\u001b[0m\u001b[0;34m(\u001b[0m\u001b[0;34m'edgecolor'\u001b[0m\u001b[0;34m,\u001b[0m \u001b[0;32mNone\u001b[0m\u001b[0;34m)\u001b[0m\u001b[0;34m\u001b[0m\u001b[0;34m\u001b[0m\u001b[0m\n\u001b[1;32m   4601\u001b[0m         \u001b[0mc\u001b[0m\u001b[0;34m,\u001b[0m \u001b[0mcolors\u001b[0m\u001b[0;34m,\u001b[0m \u001b[0medgecolors\u001b[0m \u001b[0;34m=\u001b[0m\u001b[0;31m \u001b[0m\u001b[0;31m\\\u001b[0m\u001b[0;34m\u001b[0m\u001b[0;34m\u001b[0m\u001b[0m\n\u001b[0;32m-> 4602\u001b[0;31m             self._parse_scatter_color_args(\n\u001b[0m\u001b[1;32m   4603\u001b[0m                 \u001b[0mc\u001b[0m\u001b[0;34m,\u001b[0m \u001b[0medgecolors\u001b[0m\u001b[0;34m,\u001b[0m \u001b[0mkwargs\u001b[0m\u001b[0;34m,\u001b[0m \u001b[0mx\u001b[0m\u001b[0;34m.\u001b[0m\u001b[0msize\u001b[0m\u001b[0;34m,\u001b[0m\u001b[0;34m\u001b[0m\u001b[0;34m\u001b[0m\u001b[0m\n\u001b[1;32m   4604\u001b[0m                 get_next_color_func=self._get_patches_for_fill.get_next_color)\n",
            "\u001b[0;32m/usr/local/lib/python3.9/dist-packages/matplotlib/axes/_axes.py\u001b[0m in \u001b[0;36m_parse_scatter_color_args\u001b[0;34m(c, edgecolors, kwargs, xsize, get_next_color_func)\u001b[0m\n\u001b[1;32m   4443\u001b[0m                 \u001b[0;32melse\u001b[0m\u001b[0;34m:\u001b[0m\u001b[0;34m\u001b[0m\u001b[0;34m\u001b[0m\u001b[0m\n\u001b[1;32m   4444\u001b[0m                     \u001b[0;32mif\u001b[0m \u001b[0;32mnot\u001b[0m \u001b[0mvalid_shape\u001b[0m\u001b[0;34m:\u001b[0m\u001b[0;34m\u001b[0m\u001b[0;34m\u001b[0m\u001b[0m\n\u001b[0;32m-> 4445\u001b[0;31m                         \u001b[0;32mraise\u001b[0m \u001b[0minvalid_shape_exception\u001b[0m\u001b[0;34m(\u001b[0m\u001b[0mc\u001b[0m\u001b[0;34m.\u001b[0m\u001b[0msize\u001b[0m\u001b[0;34m,\u001b[0m \u001b[0mxsize\u001b[0m\u001b[0;34m)\u001b[0m \u001b[0;32mfrom\u001b[0m \u001b[0merr\u001b[0m\u001b[0;34m\u001b[0m\u001b[0;34m\u001b[0m\u001b[0m\n\u001b[0m\u001b[1;32m   4446\u001b[0m                     \u001b[0;31m# Both the mapping *and* the RGBA conversion failed: pretty\u001b[0m\u001b[0;34m\u001b[0m\u001b[0;34m\u001b[0m\u001b[0m\n\u001b[1;32m   4447\u001b[0m                     \u001b[0;31m# severe failure => one may appreciate a verbose feedback.\u001b[0m\u001b[0;34m\u001b[0m\u001b[0;34m\u001b[0m\u001b[0m\n",
            "\u001b[0;31mValueError\u001b[0m: 'c' argument has 442 elements, which is inconsistent with 'x' and 'y' with size 441."
          ]
        },
        {
          "output_type": "display_data",
          "data": {
            "text/plain": [
              "<Figure size 1500x1500 with 100 Axes>"
            ],
            "image/png": "[encoded data removed]"
          },
          "metadata": {}
        }
      ],
      "source": [
        "# select the target column\n",
        "target_col = 'Y'\n",
        "\n",
        "# drop the header or index from the DataFrame\n",
        "diabetes_df = diabetes.drop(diabetes.columns[0], axis=1)\n",
        "\n",
        "# create a scatter plot matrix of all columns against the target column\n",
        "pd.plotting.scatter_matrix(diabetes_df, alpha=0.2, figsize=(15, 15), diagonal='hist', c=diabetes_df[target_col], cmap='viridis')\n",
        "\n",
        "# add a color bar to the scatter plot matrix\n",
        "plt.colorbar()"
      ]
    },
    {
      "cell_type": "markdown",
      "metadata": {
        "id": "5glFLXVauRuV"
      },
      "source": [
        "> 🚩 : Make a git commit here"
      ]
    },
    {
      "cell_type": "markdown",
      "metadata": {
        "id": "7Zi9XZChuRuV"
      },
      "source": [
        "**✨ Extra Credit Task 👨🏻‍💻**: <u>For 1 point of Extra Credit:</u> plot the same chart again but this time without the `SEX` column.\n",
        "\n",
        "<details>\n",
        "  <summary>Output should look like this: (🦉 click me)</summary>\n",
        "  <img width=\"600\" src=\"https://github.com/IT4063C/images/raw/main/diabetes-assignment/scatter_matrix_no_sex.png\" />\n",
        "</details>"
      ]
    },
    {
      "cell_type": "code",
      "execution_count": null,
      "metadata": {
        "id": "ThuU7yaDuRuV"
      },
      "outputs": [],
      "source": []
    },
    {
      "cell_type": "markdown",
      "metadata": {
        "id": "XA22bzVhuRuW"
      },
      "source": [
        "> 🚩 : Make a git commit here"
      ]
    },
    {
      "cell_type": "markdown",
      "metadata": {
        "id": "DXMKBbI5uRuW"
      },
      "source": [
        "Let's explore the correlation between the target variable and the the input features\n",
        "\n",
        "**Task 👨🏻‍💻** : Use the `corr()` method to print out the correlation matrix for the `Y` column in this dataset. Sort the values in descending order.\n",
        "\n",
        "<details>\n",
        "  <summary>Output should look like this: (🦉 click me)</summary>\n",
        "  <img width=\"150\" src=\"https://github.com/IT4063C/images/raw/main/diabetes-assignment/Y_corr.png\" />\n",
        "</details>"
      ]
    },
    {
      "cell_type": "code",
      "execution_count": 13,
      "metadata": {
        "id": "WTUFZNevuRuW",
        "outputId": "0cf5533e-b2d6-4a8c-e54c-5eb051385d54",
        "colab": {
          "base_uri": "https://localhost:8080/"
        }
      },
      "outputs": [
        {
          "output_type": "stream",
          "name": "stdout",
          "text": [
            "Y      1.000000\n",
            "BMI    0.586450\n",
            "S5     0.565883\n",
            "BP     0.441713\n",
            "S4     0.430453\n",
            "S6     0.382483\n",
            "S1     0.212022\n",
            "AGE    0.187889\n",
            "S2     0.174054\n",
            "SEX    0.043062\n",
            "S3    -0.394789\n",
            "Name: Y, dtype: float64\n"
          ]
        }
      ],
      "source": [
        "# select the target column\n",
        "target_col = 'Y'\n",
        "\n",
        "# calculate the correlation matrix for the target column\n",
        "corr_matrix = diabetes.corr()[target_col]\n",
        "\n",
        "# sort the values in descending order\n",
        "sorted_corr_matrix = corr_matrix.sort_values(ascending=False)\n",
        "\n",
        "# print the correlation matrix\n",
        "print(sorted_corr_matrix)"
      ]
    },
    {
      "cell_type": "markdown",
      "metadata": {
        "id": "rt_MRV5GuRuX"
      },
      "source": [
        "> 🚩 : Make a git commit here"
      ]
    },
    {
      "cell_type": "markdown",
      "metadata": {
        "id": "mcxTjlbKuRuX"
      },
      "source": [
        "**Task 👨🏻‍💻** : what are the top 3 features that are most correlated with the target column? **ANSWER IS HERE THE MOST CORRELATED WOULD BE THE BMI, S5 and BP**"
      ]
    },
    {
      "cell_type": "raw",
      "metadata": {
        "id": "oxk0rjwVuRuX"
      },
      "source": [
        "Answer the question in this cell."
      ]
    },
    {
      "cell_type": "markdown",
      "metadata": {
        "id": "YdcIyMRFuRuY"
      },
      "source": [
        "> 🚩 : Make a git commit here"
      ]
    },
    {
      "cell_type": "markdown",
      "metadata": {
        "id": "i0dss1MruRuY"
      },
      "source": [
        "**✨ Extra Credit Task 👨🏻‍💻**: \n",
        "<u>For 5 Extra Credit Points:</u> Plot the correlation matrix using a heatmap. You can use the `seaborn` module to do this. You can refer to the [documentation](https://seaborn.pydata.org/generated/seaborn.heatmap.html) for more information.\n",
        "\n",
        "*Hint 🦉 :* \n",
        "- use the correlation matrix generated in the previous step to generate the heatmap.\n",
        "- use the `coolwarm` color map to get a similar color scheme to the example.\n",
        "\n",
        "<details>\n",
        "  <summary>Output should look like this: (🦉 click me)</summary>\n",
        "  <img width=\"600\" src=\"https://github.com/IT4063C/images/raw/main/diabetes-assignment/corr_heatmap.png\" />\n",
        "</details>"
      ]
    },
    {
      "cell_type": "code",
      "execution_count": 14,
      "metadata": {
        "id": "JscvS3LbuRuY",
        "outputId": "d05e011b-0845-4aa7-ff4b-2133d5c04e78",
        "colab": {
          "base_uri": "https://localhost:8080/",
          "height": 452
        }
      },
      "outputs": [
        {
          "output_type": "display_data",
          "data": {
            "text/plain": [
              "<Figure size 640x480 with 2 Axes>"
            ],
            "image/png": "[encoded data removed]"
          },
          "metadata": {}
        }
      ],
      "source": [
        "# select the target column\n",
        "target_col = 'Y'\n",
        "\n",
        "# calculate the correlation matrix for the target column\n",
        "corr_matrix = diabetes.corr()\n",
        "\n",
        "# plot the correlation matrix as a heatmap\n",
        "sns.heatmap(corr_matrix, cmap='coolwarm', annot=True)\n",
        "\n",
        "# set the title of the plot\n",
        "plt.title('Correlation Matrix for Diabetes Dataset')\n",
        "\n",
        "# show the plot\n",
        "plt.show()"
      ]
    },
    {
      "cell_type": "markdown",
      "metadata": {
        "id": "yLc5f2SUuRuZ"
      },
      "source": [
        "> 🚩 : Make a git commit here"
      ]
    },
    {
      "cell_type": "markdown",
      "metadata": {
        "id": "VM3JfLmcuRuZ"
      },
      "source": [
        "#### Split the dataset into training and test sets\n",
        "Now before we go any further, we need to split the dataset we have into two parts:\n",
        "- a training set\n",
        "- a test set\n",
        "\n",
        "This step is important because we need to train our model, then test it against some data that it hasn't seen before. If we don't do this, we won't be able to tell if our model is overfitting or not."
      ]
    },
    {
      "cell_type": "markdown",
      "metadata": {
        "id": "EMdQkO3TuRua"
      },
      "source": [
        "**Task 👨🏻‍💻** : Use the `train_test_split()` function from the `sklearn.model_selection` package to split the dataset into a training set named `random_train_set` and a test set and `random_test_set`.\n",
        "\n",
        "*Hint 🦉 :* \n",
        "- use the `random_state` parameter to set the random seed to `42` - this will ensure that we get the same results every time we run the code.\n",
        "- use the `test_size` parameter to set the size of the test set to `0.2`; the test set is 20% of the size of the dataset."
      ]
    },
    {
      "cell_type": "code",
      "execution_count": 16,
      "metadata": {
        "id": "tdDKPVYPuRua",
        "outputId": "47a07999-c3a7-42a9-a8d8-c7af8096cd08",
        "colab": {
          "base_uri": "https://localhost:8080/"
        }
      },
      "outputs": [
        {
          "output_type": "stream",
          "name": "stdout",
          "text": [
            "Training set shape: (353, 11)\n",
            "Test set shape: (89, 11)\n"
          ]
        }
      ],
      "source": [
        "# split the dataset into training and test sets\n",
        "random_train_set, random_test_set = train_test_split(diabetes, test_size=0.2, random_state=42)\n",
        "\n",
        "# print the shapes of the training and test sets\n",
        "print(f'Training set shape: {random_train_set.shape}')\n",
        "print(f'Test set shape: {random_test_set.shape}')\n"
      ]
    },
    {
      "cell_type": "markdown",
      "metadata": {
        "id": "YkGdSMepuRua"
      },
      "source": [
        "> 🚩 : Make a git commit here"
      ]
    },
    {
      "cell_type": "markdown",
      "metadata": {
        "id": "Gou0CZGBuRub"
      },
      "source": [
        "Now as mentioned in the lectures, a random split of the data may cause issues of bias. Where one subset of the data maybe overly represented in the training set. This leads misrepresenting model of the data. \n",
        "\n",
        "To avoid this, we can use stratified sampling to ensure that the training set and test set are representative of the original dataset. Usually, a Subject Matter Expert (SME) would be able to tell us which column to use for stratified sampling. \n",
        "\n",
        "In this case, we will use the `SEX` column.\n",
        "\n",
        "**Task 👨🏻‍💻** : Use the `StratifiedShuffleSplit()` function from the `sklearn.model_selection` package to split the dataset into a training set named `sex_strat_train_set` and a test set and `sex_strat_test_set`. Split the data on the `SEX` column.\n",
        "\n",
        "*Hint 🦉 :*\n",
        "- use the `random_state` parameter to set the random seed to `42` - this will ensure that we get the same results every time we run the code. it will also ensure you get similar values to the ones in the screenshots provided in this assignment.\n",
        "- use the `test_size` parameter to set the size of the test set to `0.2`; the test set is 20% of the size of the dataset."
      ]
    },
    {
      "cell_type": "code",
      "execution_count": 18,
      "metadata": {
        "id": "59g7DxgjuRub",
        "outputId": "75dc1d0e-e366-4bf5-d5fb-f859de9c3416",
        "colab": {
          "base_uri": "https://localhost:8080/"
        }
      },
      "outputs": [
        {
          "output_type": "stream",
          "name": "stdout",
          "text": [
            "Training set shape: (353, 11)\n",
            "Test set shape: (89, 11)\n"
          ]
        }
      ],
      "source": [
        "# create an instance of StratifiedShuffleSplit\n",
        "strat_split = StratifiedShuffleSplit(n_splits=1, test_size=0.2, random_state=42)\n",
        "\n",
        "# split the dataset into training and test sets based on the SEX column\n",
        "for sex_train_index, sex_test_index in strat_split.split(diabetes, diabetes['SEX']):\n",
        "    sex_strat_train_set = diabetes.loc[sex_train_index]\n",
        "    sex_strat_test_set = diabetes.loc[sex_test_index]\n",
        "\n",
        "# print the shapes of the training and test sets\n",
        "print(f'Training set shape: {sex_strat_train_set.shape}')\n",
        "print(f'Test set shape: {sex_strat_test_set.shape}')"
      ]
    },
    {
      "cell_type": "markdown",
      "metadata": {
        "id": "RT3BrZequRub"
      },
      "source": [
        "> 🚩 : Make a git commit here"
      ]
    },
    {
      "cell_type": "markdown",
      "metadata": {
        "id": "OzXd-iFwuRuc"
      },
      "source": [
        "The `SEX` column was an okay choice to stratify the sampling on. However, we can also try to use the `AGE` column. However, we'll need to introduce a categorical representation of the `AGE` column by binning the values into different age groups.\n",
        "\n",
        "**Task 👨🏻‍💻** : Create a new column called `AGE_CAT` and bin the values in the `AGE` column into the following categories:\n",
        "- 10 - 30\n",
        "- 30 - 50\n",
        "- 50 - 70\n",
        "- 70 - 90\n",
        "\n",
        "*Hint 🦉 :* \n",
        "- Use the `pd.cut()` function to bin the values in the `AGE` column into the categories above."
      ]
    },
    {
      "cell_type": "code",
      "execution_count": 19,
      "metadata": {
        "id": "oFZw_EzQuRuc",
        "outputId": "ca04752d-e723-4f2b-92c2-d646730af686",
        "colab": {
          "base_uri": "https://localhost:8080/"
        }
      },
      "outputs": [
        {
          "output_type": "stream",
          "name": "stdout",
          "text": [
            "   AGE  SEX   BMI     BP   S1     S2    S3   S4      S5  S6    Y AGE_CAT\n",
            "0   59    2  32.1  101.0  157   93.2  38.0  4.0  4.8598  87  151   50-70\n",
            "1   48    1  21.6   87.0  183  103.2  70.0  3.0  3.8918  69   75   30-50\n",
            "2   72    2  30.5   93.0  156   93.6  41.0  4.0  4.6728  85  141   70-90\n",
            "3   24    1  25.3   84.0  198  131.4  40.0  5.0  4.8903  89  206   10-30\n",
            "4   50    1  23.0  101.0  192  125.4  52.0  4.0  4.2905  80  135   30-50\n"
          ]
        }
      ],
      "source": [
        "# define the bins for the age categories\n",
        "bins = [10, 30, 50, 70, 90]\n",
        "\n",
        "# define the labels for the age categories\n",
        "labels = ['10-30', '30-50', '50-70', '70-90']\n",
        "\n",
        "# use pd.cut() to bin the values in the AGE column into the categories above\n",
        "diabetes['AGE_CAT'] = pd.cut(diabetes['AGE'], bins=bins, labels=labels, include_lowest=True)\n",
        "\n",
        "# print the first five rows of the dataset to confirm the new column has been created\n",
        "print(diabetes.head())"
      ]
    },
    {
      "cell_type": "markdown",
      "metadata": {
        "id": "4ylRURj0uRuc"
      },
      "source": [
        "show the distribution of the values in the `AGE_CAT` column. using the `hist()` method to show a diagram of the distribution of the values in the `AGE_CAT` column.\n",
        "\n",
        "<details>\n",
        "  <summary>Output should look like this: (🦉 click me)</summary>\n",
        "  <img width=\"600\" src=\"https://github.com/IT4063C/images/raw/main/diabetes-assignment/age_cat_hist.png\" />\n",
        "</details>"
      ]
    },
    {
      "cell_type": "code",
      "execution_count": 20,
      "metadata": {
        "id": "KtGwF4GhuRud",
        "outputId": "ab8a3e0f-cbcb-4334-faae-a791e0058624",
        "colab": {
          "base_uri": "https://localhost:8080/",
          "height": 476
        }
      },
      "outputs": [
        {
          "output_type": "display_data",
          "data": {
            "text/plain": [
              "<Figure size 640x480 with 1 Axes>"
            ],
            "image/png": "[encoded data removed]"
          },
          "metadata": {}
        }
      ],
      "source": [
        "# use the hist() method to show a histogram of the distribution of the values in the AGE_CAT column\n",
        "diabetes['AGE_CAT'].hist()\n",
        "\n",
        "# set the x-axis label\n",
        "plt.xlabel('Age Category')\n",
        "\n",
        "# set the y-axis label\n",
        "plt.ylabel('Count')\n",
        "\n",
        "# set the title of the plot\n",
        "plt.title('Distribution of Age Categories')\n",
        "\n",
        "# display the plot\n",
        "plt.show()"
      ]
    },
    {
      "cell_type": "markdown",
      "metadata": {
        "id": "_LNqnL7yuRud"
      },
      "source": [
        "**Task 👨🏻‍💻** : Use the `StratifiedShuffleSplit()` function from the `sklearn.model_selection` package to split the dataset into a training set named `age_sex_strat_train_set` and a test set and `age_sex_strat_test_set`. Split the data on the `AGE_CAT` column.\n",
        "\n",
        "*Hint 🦉 :*\n",
        "- use the `random_state` parameter to set the random seed to `42` - this will ensure that we get the same results every time we run the code. it will also ensure you get similar values to the ones in the screenshots provided in this assignment.\n",
        "- use the `test_size` parameter to set the size of the test set to `0.2`; the test set is 20% of the size of the dataset."
      ]
    },
    {
      "cell_type": "code",
      "execution_count": 21,
      "metadata": {
        "id": "ZwcF0HT-uRud"
      },
      "outputs": [],
      "source": [
        "from sklearn.model_selection import StratifiedShuffleSplit\n",
        "\n",
        "split = StratifiedShuffleSplit(n_splits=1, test_size=0.2, random_state=42)\n",
        "\n",
        "for train_index, test_index in split.split(diabetes, diabetes[\"AGE_CAT\"]):\n",
        "    age_sex_strat_train_set = diabetes.loc[train_index]\n",
        "    age_sex_strat_test_set = diabetes.loc[test_index]"
      ]
    },
    {
      "cell_type": "markdown",
      "metadata": {
        "id": "oJOlEL0TuRud"
      },
      "source": [
        "> 🚩 : Make a git commit here"
      ]
    },
    {
      "cell_type": "markdown",
      "metadata": {
        "id": "xCnbwc2ouRue"
      },
      "source": [
        "We will use the age-split sets for the rest of the lab. But we need to remember to drop the `AGE_CAT` column from the training set and test set.\n",
        "\n",
        "*Note 🦉:* This doesn't mean that splitting the data by the `SEX` column is wrong. It all depends on the problem you're trying to solve and the data you have. This is usually guided by the Subject Matter Expert (SME)."
      ]
    },
    {
      "cell_type": "markdown",
      "metadata": {
        "id": "gphzXcnRuRue"
      },
      "source": [
        "**Task 👨🏻‍💻** : Drop the `AGE_CAT` column from the training set and test set.\n",
        "\n",
        "*Hint 🦉 :* \n",
        "- use the `drop()` method to drop the `AGE_CAT` column from the training set and test set.\n",
        "- you'll need to call it twice, once for the training set `age_sex_strat_train_set` and once for the test set `age_sex_strat_test_set`.\n",
        "- You can use the `inplace` parameter to drop the column in place."
      ]
    },
    {
      "cell_type": "code",
      "execution_count": 22,
      "metadata": {
        "id": "lm1IjiLPuRue"
      },
      "outputs": [],
      "source": [
        "age_sex_strat_train_set.drop(\"AGE_CAT\", axis=1, inplace=True)\n",
        "age_sex_strat_test_set.drop(\"AGE_CAT\", axis=1, inplace=True)"
      ]
    },
    {
      "cell_type": "markdown",
      "metadata": {
        "id": "k-Pr4gXwuRuf"
      },
      "source": [
        "> 🚩 : Make a git commit here"
      ]
    },
    {
      "cell_type": "markdown",
      "metadata": {
        "id": "hTy_ond-uRuf"
      },
      "source": [
        "#### Separate the features and labels\n",
        "Let's separate the features `X` from the labels `y`. We'll use the training set for this."
      ]
    },
    {
      "cell_type": "markdown",
      "metadata": {
        "id": "IjllKGY0uRuf"
      },
      "source": [
        "**Task 👨🏻‍💻** : Create a copy of the training set <u>without</u> the output `y` and store it in a variable called `diabetes_X`, and create a copy of the dataset with <u>Only</u> the column `Y` and name it `diabetes_y`."
      ]
    },
    {
      "cell_type": "code",
      "execution_count": 23,
      "metadata": {
        "id": "SR9BasRnuRuf"
      },
      "outputs": [],
      "source": [
        "diabetes_X = age_sex_strat_train_set.drop(\"Y\", axis=1).copy()\n",
        "diabetes_y = age_sex_strat_train_set[\"Y\"].copy()"
      ]
    },
    {
      "cell_type": "markdown",
      "metadata": {
        "id": "2N_pF0-YuRug"
      },
      "source": [
        "<details>\n",
        "  <summary>Running the following cell, should produce an output that looks like this: (🦉 click me)</summary>\n",
        "  <img width=\"600\" src=\"https://github.com/IT4063C/images/raw/main/diabetes-assignment/prepare-done1.png\" />\n",
        "  <br />\n",
        "  <strong>OR</strong>\n",
        "  <br />\n",
        "  <img width=\"600\" src=\"https://github.com/IT4063C/images/raw/main/diabetes-assignment/prepare-done2.png\" />\n",
        "</details>"
      ]
    },
    {
      "cell_type": "code",
      "execution_count": 24,
      "metadata": {
        "id": "043IgOkPuRug",
        "outputId": "444f93d1-fb03-47db-8fa1-87aa3f30036d",
        "colab": {
          "base_uri": "https://localhost:8080/",
          "height": 310
        }
      },
      "outputs": [
        {
          "output_type": "display_data",
          "data": {
            "text/plain": [
              "     AGE  SEX   BMI      BP   S1     S2    S3    S4      S5   S6\n",
              "435   45    1  24.2   83.00  177  118.4  45.0  4.00  4.2195   82\n",
              "300   53    1  33.2   82.67  186  106.8  46.0  4.04  5.1120  102\n",
              "196   42    1  22.1   85.00  213  138.6  60.0  4.00  4.2767   94\n",
              "169   48    1  23.9  109.00  232  105.2  37.0  6.00  6.1070   96\n",
              "46    33    1  25.3   85.00  155   85.0  51.0  3.00  4.5539   70"
            ],
            "text/html": [
              "\n",
              "  <div id=\"df-faa6a4e8-8bfe-4d53-a7df-072367f5dd53\">\n",
              "    <div class=\"colab-df-container\">\n",
              "      <div>\n",
              "<style scoped>\n",
              "    .dataframe tbody tr th:only-of-type {\n",
              "        vertical-align: middle;\n",
              "    }\n",
              "\n",
              "    .dataframe tbody tr th {\n",
              "        vertical-align: top;\n",
              "    }\n",
              "\n",
              "    .dataframe thead th {\n",
              "        text-align: right;\n",
              "    }\n",
              "</style>\n",
              "<table border=\"1\" class=\"dataframe\">\n",
              "  <thead>\n",
              "    <tr style=\"text-align: right;\">\n",
              "      <th></th>\n",
              "      <th>AGE</th>\n",
              "      <th>SEX</th>\n",
              "      <th>BMI</th>\n",
              "      <th>BP</th>\n",
              "      <th>S1</th>\n",
              "      <th>S2</th>\n",
              "      <th>S3</th>\n",
              "      <th>S4</th>\n",
              "      <th>S5</th>\n",
              "      <th>S6</th>\n",
              "    </tr>\n",
              "  </thead>\n",
              "  <tbody>\n",
              "    <tr>\n",
              "      <th>435</th>\n",
              "      <td>45</td>\n",
              "      <td>1</td>\n",
              "      <td>24.2</td>\n",
              "      <td>83.00</td>\n",
              "      <td>177</td>\n",
              "      <td>118.4</td>\n",
              "      <td>45.0</td>\n",
              "      <td>4.00</td>\n",
              "      <td>4.2195</td>\n",
              "      <td>82</td>\n",
              "    </tr>\n",
              "    <tr>\n",
              "      <th>300</th>\n",
              "      <td>53</td>\n",
              "      <td>1</td>\n",
              "      <td>33.2</td>\n",
              "      <td>82.67</td>\n",
              "      <td>186</td>\n",
              "      <td>106.8</td>\n",
              "      <td>46.0</td>\n",
              "      <td>4.04</td>\n",
              "      <td>5.1120</td>\n",
              "      <td>102</td>\n",
              "    </tr>\n",
              "    <tr>\n",
              "      <th>196</th>\n",
              "      <td>42</td>\n",
              "      <td>1</td>\n",
              "      <td>22.1</td>\n",
              "      <td>85.00</td>\n",
              "      <td>213</td>\n",
              "      <td>138.6</td>\n",
              "      <td>60.0</td>\n",
              "      <td>4.00</td>\n",
              "      <td>4.2767</td>\n",
              "      <td>94</td>\n",
              "    </tr>\n",
              "    <tr>\n",
              "      <th>169</th>\n",
              "      <td>48</td>\n",
              "      <td>1</td>\n",
              "      <td>23.9</td>\n",
              "      <td>109.00</td>\n",
              "      <td>232</td>\n",
              "      <td>105.2</td>\n",
              "      <td>37.0</td>\n",
              "      <td>6.00</td>\n",
              "      <td>6.1070</td>\n",
              "      <td>96</td>\n",
              "    </tr>\n",
              "    <tr>\n",
              "      <th>46</th>\n",
              "      <td>33</td>\n",
              "      <td>1</td>\n",
              "      <td>25.3</td>\n",
              "      <td>85.00</td>\n",
              "      <td>155</td>\n",
              "      <td>85.0</td>\n",
              "      <td>51.0</td>\n",
              "      <td>3.00</td>\n",
              "      <td>4.5539</td>\n",
              "      <td>70</td>\n",
              "    </tr>\n",
              "  </tbody>\n",
              "</table>\n",
              "</div>\n",
              "      <button class=\"colab-df-convert\" onclick=\"convertToInteractive('df-faa6a4e8-8bfe-4d53-a7df-072367f5dd53')\"\n",
              "              title=\"Convert this dataframe to an interactive table.\"\n",
              "              style=\"display:none;\">\n",
              "        \n",
              "  <svg xmlns=\"http://www.w3.org/2000/svg\" height=\"24px\"viewBox=\"0 0 24 24\"\n",
              "       width=\"24px\">\n",
              "    <path d=\"M0 0h24v24H0V0z\" fill=\"none\"/>\n",
              "    <path d=\"M18.56 5.44l.94 2.06.94-2.06 2.06-.94-2.06-.94-.94-2.06-.94 2.06-2.06.94zm-11 1L8.5 8.5l.94-2.06 2.06-.94-2.06-.94L8.5 2.5l-.94 2.06-2.06.94zm10 10l.94 2.06.94-2.06 2.06-.94-2.06-.94-.94-2.06-.94 2.06-2.06.94z\"/><path d=\"M17.41 7.96l-1.37-1.37c-.4-.4-.92-.59-1.43-.59-.52 0-1.04.2-1.43.59L10.3 9.45l-7.72 7.72c-.78.78-.78 2.05 0 2.83L4 21.41c.39.39.9.59 1.41.59.51 0 1.02-.2 1.41-.59l7.78-7.78 2.81-2.81c.8-.78.8-2.07 0-2.86zM5.41 20L4 18.59l7.72-7.72 1.47 1.35L5.41 20z\"/>\n",
              "  </svg>\n",
              "      </button>\n",
              "      \n",
              "  <style>\n",
              "    .colab-df-container {\n",
              "      display:flex;\n",
              "      flex-wrap:wrap;\n",
              "      gap: 12px;\n",
              "    }\n",
              "\n",
              "    .colab-df-convert {\n",
              "      background-color: #E8F0FE;\n",
              "      border: none;\n",
              "      border-radius: 50%;\n",
              "      cursor: pointer;\n",
              "      display: none;\n",
              "      fill: #1967D2;\n",
              "      height: 32px;\n",
              "      padding: 0 0 0 0;\n",
              "      width: 32px;\n",
              "    }\n",
              "\n",
              "    .colab-df-convert:hover {\n",
              "      background-color: #E2EBFA;\n",
              "      box-shadow: 0px 1px 2px rgba(60, 64, 67, 0.3), 0px 1px 3px 1px rgba(60, 64, 67, 0.15);\n",
              "      fill: #174EA6;\n",
              "    }\n",
              "\n",
              "    [theme=dark] .colab-df-convert {\n",
              "      background-color: #3B4455;\n",
              "      fill: #D2E3FC;\n",
              "    }\n",
              "\n",
              "    [theme=dark] .colab-df-convert:hover {\n",
              "      background-color: #434B5C;\n",
              "      box-shadow: 0px 1px 3px 1px rgba(0, 0, 0, 0.15);\n",
              "      filter: drop-shadow(0px 1px 2px rgba(0, 0, 0, 0.3));\n",
              "      fill: #FFFFFF;\n",
              "    }\n",
              "  </style>\n",
              "\n",
              "      <script>\n",
              "        const buttonEl =\n",
              "          document.querySelector('#df-faa6a4e8-8bfe-4d53-a7df-072367f5dd53 button.colab-df-convert');\n",
              "        buttonEl.style.display =\n",
              "          google.colab.kernel.accessAllowed ? 'block' : 'none';\n",
              "\n",
              "        async function convertToInteractive(key) {\n",
              "          const element = document.querySelector('#df-faa6a4e8-8bfe-4d53-a7df-072367f5dd53');\n",
              "          const dataTable =\n",
              "            await google.colab.kernel.invokeFunction('convertToInteractive',\n",
              "                                                     [key], {});\n",
              "          if (!dataTable) return;\n",
              "\n",
              "          const docLinkHtml = 'Like what you see? Visit the ' +\n",
              "            '<a target=\"_blank\" href=https://colab.research.google.com/notebooks/data_table.ipynb>data table notebook</a>'\n",
              "            + ' to learn more about interactive tables.';\n",
              "          element.innerHTML = '';\n",
              "          dataTable['output_type'] = 'display_data';\n",
              "          await google.colab.output.renderOutput(dataTable, element);\n",
              "          const docLink = document.createElement('div');\n",
              "          docLink.innerHTML = docLinkHtml;\n",
              "          element.appendChild(docLink);\n",
              "        }\n",
              "      </script>\n",
              "    </div>\n",
              "  </div>\n",
              "  "
            ]
          },
          "metadata": {}
        },
        {
          "output_type": "display_data",
          "data": {
            "text/plain": [
              "435     64\n",
              "300    275\n",
              "196     72\n",
              "169    152\n",
              "46     190\n",
              "Name: Y, dtype: int64"
            ]
          },
          "metadata": {}
        }
      ],
      "source": [
        "display(diabetes_X.head())\n",
        "display(diabetes_y.head())"
      ]
    },
    {
      "cell_type": "markdown",
      "metadata": {
        "id": "fGHcWLbPuRug"
      },
      "source": [
        "> 🚩 : Make a git commit here"
      ]
    },
    {
      "cell_type": "markdown",
      "metadata": {
        "id": "Dd670iIuuRuh"
      },
      "source": [
        "### 🏖 ☕️ Take a break here\n",
        "make sure you understand what we've done so far."
      ]
    },
    {
      "cell_type": "markdown",
      "metadata": {
        "id": "uS4J0KDWuRuh"
      },
      "source": [
        "### 3️⃣ Process\n",
        "In this section, we'll process and clean it in preparation for the model creation and analysis work the data. \n",
        "\n",
        "Here are some of what we will do:\n",
        "- impute missing values (numerical data)\n",
        "- scale numerical features (numerical data)\n",
        "- encode categorical features (categorical data)\n",
        "- combining features into new features\n",
        "\n",
        "We will also compose all of these steps into a single pipeline.\n",
        "\n",
        "Let's start doing them individually."
      ]
    },
    {
      "cell_type": "markdown",
      "metadata": {
        "id": "mi6a9u-3uRuh"
      },
      "source": [
        "#### Impute Missing Values\n",
        "We'll use the `SimpleImputer` class from the `sklearn.impute` package to impute the missing values in the dataset. I, purposefully, removed some values from the dataset so that we can practice imputing missing values.\n",
        "\n",
        "Keep in mind, even if there was no missing values in the dataset, we would still need to implement the imputer. Why? Because we need to make sure that our processing pipeline can be applied to new data that <u>may</u> have missing values."
      ]
    },
    {
      "cell_type": "markdown",
      "metadata": {
        "id": "d9cvrvQOuRui"
      },
      "source": [
        "Since the imputer applies to <u>numerical</u> features, we'll need to create a copy of the dataset with only the numerical features, and another with only the categorical features.\n",
        "\n",
        "**Task 👨🏻‍💻** : Create a copy of the dataset with only the numerical features and name it `diabetes_X_num`. Create another copy of the dataset with only the categorical features and name it `diabetes_X_cat`. \n",
        "\n",
        "*Hint:*\n",
        "- MAKE SURE you start with the diabetes_X dataframe that we created earlier. not the full dataset."
      ]
    },
    {
      "cell_type": "code",
      "execution_count": 34,
      "metadata": {
        "id": "yulL0ge-uRuj"
      },
      "outputs": [],
      "source": [
        "# create a copy of diabetes_X with only numerical features\n",
        "diabetes_X_num = diabetes_X.select_dtypes(include=[np.number])\n",
        "#diabetes_X['SEX'] = diabetes_X['SEX'].astype('category')\n",
        "# create a copy of diabetes_X with only categorical features\n",
        "diabetes_X_cat = diabetes_X.select_dtypes(include='category')\n"
      ]
    },
    {
      "cell_type": "markdown",
      "metadata": {
        "id": "rPn8dERZuRuk"
      },
      "source": [
        "<details>\n",
        "  <summary>Running the following cell, should produce an output that looks like this: (🦉 click me)</summary>\n",
        "  <img width=\"600\" src=\"https://github.com/IT4063C/images/raw/main/diabetes-assignment/num-cat.png\" />\n",
        "</details>"
      ]
    },
    {
      "cell_type": "code",
      "execution_count": 35,
      "metadata": {
        "id": "UT-fW8MKuRul",
        "outputId": "8eb1e1c4-0aec-462c-fa99-bee240d03346",
        "colab": {
          "base_uri": "https://localhost:8080/",
          "height": 395
        }
      },
      "outputs": [
        {
          "output_type": "display_data",
          "data": {
            "text/plain": [
              "     AGE   BMI      BP   S1     S2    S3    S4      S5   S6\n",
              "435   45  24.2   83.00  177  118.4  45.0  4.00  4.2195   82\n",
              "300   53  33.2   82.67  186  106.8  46.0  4.04  5.1120  102\n",
              "196   42  22.1   85.00  213  138.6  60.0  4.00  4.2767   94\n",
              "169   48  23.9  109.00  232  105.2  37.0  6.00  6.1070   96\n",
              "46    33  25.3   85.00  155   85.0  51.0  3.00  4.5539   70"
            ],
            "text/html": [
              "\n",
              "  <div id=\"df-265e31f6-2b54-4147-8f71-293dc4525c42\">\n",
              "    <div class=\"colab-df-container\">\n",
              "      <div>\n",
              "<style scoped>\n",
              "    .dataframe tbody tr th:only-of-type {\n",
              "        vertical-align: middle;\n",
              "    }\n",
              "\n",
              "    .dataframe tbody tr th {\n",
              "        vertical-align: top;\n",
              "    }\n",
              "\n",
              "    .dataframe thead th {\n",
              "        text-align: right;\n",
              "    }\n",
              "</style>\n",
              "<table border=\"1\" class=\"dataframe\">\n",
              "  <thead>\n",
              "    <tr style=\"text-align: right;\">\n",
              "      <th></th>\n",
              "      <th>AGE</th>\n",
              "      <th>BMI</th>\n",
              "      <th>BP</th>\n",
              "      <th>S1</th>\n",
              "      <th>S2</th>\n",
              "      <th>S3</th>\n",
              "      <th>S4</th>\n",
              "      <th>S5</th>\n",
              "      <th>S6</th>\n",
              "    </tr>\n",
              "  </thead>\n",
              "  <tbody>\n",
              "    <tr>\n",
              "      <th>435</th>\n",
              "      <td>45</td>\n",
              "      <td>24.2</td>\n",
              "      <td>83.00</td>\n",
              "      <td>177</td>\n",
              "      <td>118.4</td>\n",
              "      <td>45.0</td>\n",
              "      <td>4.00</td>\n",
              "      <td>4.2195</td>\n",
              "      <td>82</td>\n",
              "    </tr>\n",
              "    <tr>\n",
              "      <th>300</th>\n",
              "      <td>53</td>\n",
              "      <td>33.2</td>\n",
              "      <td>82.67</td>\n",
              "      <td>186</td>\n",
              "      <td>106.8</td>\n",
              "      <td>46.0</td>\n",
              "      <td>4.04</td>\n",
              "      <td>5.1120</td>\n",
              "      <td>102</td>\n",
              "    </tr>\n",
              "    <tr>\n",
              "      <th>196</th>\n",
              "      <td>42</td>\n",
              "      <td>22.1</td>\n",
              "      <td>85.00</td>\n",
              "      <td>213</td>\n",
              "      <td>138.6</td>\n",
              "      <td>60.0</td>\n",
              "      <td>4.00</td>\n",
              "      <td>4.2767</td>\n",
              "      <td>94</td>\n",
              "    </tr>\n",
              "    <tr>\n",
              "      <th>169</th>\n",
              "      <td>48</td>\n",
              "      <td>23.9</td>\n",
              "      <td>109.00</td>\n",
              "      <td>232</td>\n",
              "      <td>105.2</td>\n",
              "      <td>37.0</td>\n",
              "      <td>6.00</td>\n",
              "      <td>6.1070</td>\n",
              "      <td>96</td>\n",
              "    </tr>\n",
              "    <tr>\n",
              "      <th>46</th>\n",
              "      <td>33</td>\n",
              "      <td>25.3</td>\n",
              "      <td>85.00</td>\n",
              "      <td>155</td>\n",
              "      <td>85.0</td>\n",
              "      <td>51.0</td>\n",
              "      <td>3.00</td>\n",
              "      <td>4.5539</td>\n",
              "      <td>70</td>\n",
              "    </tr>\n",
              "  </tbody>\n",
              "</table>\n",
              "</div>\n",
              "      <button class=\"colab-df-convert\" onclick=\"convertToInteractive('df-265e31f6-2b54-4147-8f71-293dc4525c42')\"\n",
              "              title=\"Convert this dataframe to an interactive table.\"\n",
              "              style=\"display:none;\">\n",
              "        \n",
              "  <svg xmlns=\"http://www.w3.org/2000/svg\" height=\"24px\"viewBox=\"0 0 24 24\"\n",
              "       width=\"24px\">\n",
              "    <path d=\"M0 0h24v24H0V0z\" fill=\"none\"/>\n",
              "    <path d=\"M18.56 5.44l.94 2.06.94-2.06 2.06-.94-2.06-.94-.94-2.06-.94 2.06-2.06.94zm-11 1L8.5 8.5l.94-2.06 2.06-.94-2.06-.94L8.5 2.5l-.94 2.06-2.06.94zm10 10l.94 2.06.94-2.06 2.06-.94-2.06-.94-.94-2.06-.94 2.06-2.06.94z\"/><path d=\"M17.41 7.96l-1.37-1.37c-.4-.4-.92-.59-1.43-.59-.52 0-1.04.2-1.43.59L10.3 9.45l-7.72 7.72c-.78.78-.78 2.05 0 2.83L4 21.41c.39.39.9.59 1.41.59.51 0 1.02-.2 1.41-.59l7.78-7.78 2.81-2.81c.8-.78.8-2.07 0-2.86zM5.41 20L4 18.59l7.72-7.72 1.47 1.35L5.41 20z\"/>\n",
              "  </svg>\n",
              "      </button>\n",
              "      \n",
              "  <style>\n",
              "    .colab-df-container {\n",
              "      display:flex;\n",
              "      flex-wrap:wrap;\n",
              "      gap: 12px;\n",
              "    }\n",
              "\n",
              "    .colab-df-convert {\n",
              "      background-color: #E8F0FE;\n",
              "      border: none;\n",
              "      border-radius: 50%;\n",
              "      cursor: pointer;\n",
              "      display: none;\n",
              "      fill: #1967D2;\n",
              "      height: 32px;\n",
              "      padding: 0 0 0 0;\n",
              "      width: 32px;\n",
              "    }\n",
              "\n",
              "    .colab-df-convert:hover {\n",
              "      background-color: #E2EBFA;\n",
              "      box-shadow: 0px 1px 2px rgba(60, 64, 67, 0.3), 0px 1px 3px 1px rgba(60, 64, 67, 0.15);\n",
              "      fill: #174EA6;\n",
              "    }\n",
              "\n",
              "    [theme=dark] .colab-df-convert {\n",
              "      background-color: #3B4455;\n",
              "      fill: #D2E3FC;\n",
              "    }\n",
              "\n",
              "    [theme=dark] .colab-df-convert:hover {\n",
              "      background-color: #434B5C;\n",
              "      box-shadow: 0px 1px 3px 1px rgba(0, 0, 0, 0.15);\n",
              "      filter: drop-shadow(0px 1px 2px rgba(0, 0, 0, 0.3));\n",
              "      fill: #FFFFFF;\n",
              "    }\n",
              "  </style>\n",
              "\n",
              "      <script>\n",
              "        const buttonEl =\n",
              "          document.querySelector('#df-265e31f6-2b54-4147-8f71-293dc4525c42 button.colab-df-convert');\n",
              "        buttonEl.style.display =\n",
              "          google.colab.kernel.accessAllowed ? 'block' : 'none';\n",
              "\n",
              "        async function convertToInteractive(key) {\n",
              "          const element = document.querySelector('#df-265e31f6-2b54-4147-8f71-293dc4525c42');\n",
              "          const dataTable =\n",
              "            await google.colab.kernel.invokeFunction('convertToInteractive',\n",
              "                                                     [key], {});\n",
              "          if (!dataTable) return;\n",
              "\n",
              "          const docLinkHtml = 'Like what you see? Visit the ' +\n",
              "            '<a target=\"_blank\" href=https://colab.research.google.com/notebooks/data_table.ipynb>data table notebook</a>'\n",
              "            + ' to learn more about interactive tables.';\n",
              "          element.innerHTML = '';\n",
              "          dataTable['output_type'] = 'display_data';\n",
              "          await google.colab.output.renderOutput(dataTable, element);\n",
              "          const docLink = document.createElement('div');\n",
              "          docLink.innerHTML = docLinkHtml;\n",
              "          element.appendChild(docLink);\n",
              "        }\n",
              "      </script>\n",
              "    </div>\n",
              "  </div>\n",
              "  "
            ]
          },
          "metadata": {}
        },
        {
          "output_type": "display_data",
          "data": {
            "text/plain": [
              "    SEX\n",
              "435   1\n",
              "300   1\n",
              "196   1\n",
              "169   1\n",
              "46    1"
            ],
            "text/html": [
              "\n",
              "  <div id=\"df-a7e3b138-ac68-4e7b-9171-547a99256290\">\n",
              "    <div class=\"colab-df-container\">\n",
              "      <div>\n",
              "<style scoped>\n",
              "    .dataframe tbody tr th:only-of-type {\n",
              "        vertical-align: middle;\n",
              "    }\n",
              "\n",
              "    .dataframe tbody tr th {\n",
              "        vertical-align: top;\n",
              "    }\n",
              "\n",
              "    .dataframe thead th {\n",
              "        text-align: right;\n",
              "    }\n",
              "</style>\n",
              "<table border=\"1\" class=\"dataframe\">\n",
              "  <thead>\n",
              "    <tr style=\"text-align: right;\">\n",
              "      <th></th>\n",
              "      <th>SEX</th>\n",
              "    </tr>\n",
              "  </thead>\n",
              "  <tbody>\n",
              "    <tr>\n",
              "      <th>435</th>\n",
              "      <td>1</td>\n",
              "    </tr>\n",
              "    <tr>\n",
              "      <th>300</th>\n",
              "      <td>1</td>\n",
              "    </tr>\n",
              "    <tr>\n",
              "      <th>196</th>\n",
              "      <td>1</td>\n",
              "    </tr>\n",
              "    <tr>\n",
              "      <th>169</th>\n",
              "      <td>1</td>\n",
              "    </tr>\n",
              "    <tr>\n",
              "      <th>46</th>\n",
              "      <td>1</td>\n",
              "    </tr>\n",
              "  </tbody>\n",
              "</table>\n",
              "</div>\n",
              "      <button class=\"colab-df-convert\" onclick=\"convertToInteractive('df-a7e3b138-ac68-4e7b-9171-547a99256290')\"\n",
              "              title=\"Convert this dataframe to an interactive table.\"\n",
              "              style=\"display:none;\">\n",
              "        \n",
              "  <svg xmlns=\"http://www.w3.org/2000/svg\" height=\"24px\"viewBox=\"0 0 24 24\"\n",
              "       width=\"24px\">\n",
              "    <path d=\"M0 0h24v24H0V0z\" fill=\"none\"/>\n",
              "    <path d=\"M18.56 5.44l.94 2.06.94-2.06 2.06-.94-2.06-.94-.94-2.06-.94 2.06-2.06.94zm-11 1L8.5 8.5l.94-2.06 2.06-.94-2.06-.94L8.5 2.5l-.94 2.06-2.06.94zm10 10l.94 2.06.94-2.06 2.06-.94-2.06-.94-.94-2.06-.94 2.06-2.06.94z\"/><path d=\"M17.41 7.96l-1.37-1.37c-.4-.4-.92-.59-1.43-.59-.52 0-1.04.2-1.43.59L10.3 9.45l-7.72 7.72c-.78.78-.78 2.05 0 2.83L4 21.41c.39.39.9.59 1.41.59.51 0 1.02-.2 1.41-.59l7.78-7.78 2.81-2.81c.8-.78.8-2.07 0-2.86zM5.41 20L4 18.59l7.72-7.72 1.47 1.35L5.41 20z\"/>\n",
              "  </svg>\n",
              "      </button>\n",
              "      \n",
              "  <style>\n",
              "    .colab-df-container {\n",
              "      display:flex;\n",
              "      flex-wrap:wrap;\n",
              "      gap: 12px;\n",
              "    }\n",
              "\n",
              "    .colab-df-convert {\n",
              "      background-color: #E8F0FE;\n",
              "      border: none;\n",
              "      border-radius: 50%;\n",
              "      cursor: pointer;\n",
              "      display: none;\n",
              "      fill: #1967D2;\n",
              "      height: 32px;\n",
              "      padding: 0 0 0 0;\n",
              "      width: 32px;\n",
              "    }\n",
              "\n",
              "    .colab-df-convert:hover {\n",
              "      background-color: #E2EBFA;\n",
              "      box-shadow: 0px 1px 2px rgba(60, 64, 67, 0.3), 0px 1px 3px 1px rgba(60, 64, 67, 0.15);\n",
              "      fill: #174EA6;\n",
              "    }\n",
              "\n",
              "    [theme=dark] .colab-df-convert {\n",
              "      background-color: #3B4455;\n",
              "      fill: #D2E3FC;\n",
              "    }\n",
              "\n",
              "    [theme=dark] .colab-df-convert:hover {\n",
              "      background-color: #434B5C;\n",
              "      box-shadow: 0px 1px 3px 1px rgba(0, 0, 0, 0.15);\n",
              "      filter: drop-shadow(0px 1px 2px rgba(0, 0, 0, 0.3));\n",
              "      fill: #FFFFFF;\n",
              "    }\n",
              "  </style>\n",
              "\n",
              "      <script>\n",
              "        const buttonEl =\n",
              "          document.querySelector('#df-a7e3b138-ac68-4e7b-9171-547a99256290 button.colab-df-convert');\n",
              "        buttonEl.style.display =\n",
              "          google.colab.kernel.accessAllowed ? 'block' : 'none';\n",
              "\n",
              "        async function convertToInteractive(key) {\n",
              "          const element = document.querySelector('#df-a7e3b138-ac68-4e7b-9171-547a99256290');\n",
              "          const dataTable =\n",
              "            await google.colab.kernel.invokeFunction('convertToInteractive',\n",
              "                                                     [key], {});\n",
              "          if (!dataTable) return;\n",
              "\n",
              "          const docLinkHtml = 'Like what you see? Visit the ' +\n",
              "            '<a target=\"_blank\" href=https://colab.research.google.com/notebooks/data_table.ipynb>data table notebook</a>'\n",
              "            + ' to learn more about interactive tables.';\n",
              "          element.innerHTML = '';\n",
              "          dataTable['output_type'] = 'display_data';\n",
              "          await google.colab.output.renderOutput(dataTable, element);\n",
              "          const docLink = document.createElement('div');\n",
              "          docLink.innerHTML = docLinkHtml;\n",
              "          element.appendChild(docLink);\n",
              "        }\n",
              "      </script>\n",
              "    </div>\n",
              "  </div>\n",
              "  "
            ]
          },
          "metadata": {}
        }
      ],
      "source": [
        "display(diabetes_X_num.head())\n",
        "display(diabetes_X_cat.head())"
      ]
    },
    {
      "cell_type": "markdown",
      "metadata": {
        "id": "smOr6ewruRum"
      },
      "source": [
        "> 🚩 : Make a git commit here"
      ]
    },
    {
      "cell_type": "markdown",
      "metadata": {
        "id": "y2qGXRPuuRum"
      },
      "source": [
        "**Task 👨🏻‍💻** : Create an instance of the `SimpleImputer` class and name it `imputer`. Use the `mean` value as the imputer strategy.\n",
        "\n",
        "*Hint 🦉 :* \n",
        "- use the `diabetes_X_num` dataframe to create the imputer.\n",
        "- set the `strategy` parameter to `mean`\n",
        "- name the transformed dataset `diabetes_X_num_imputed`"
      ]
    },
    {
      "cell_type": "code",
      "execution_count": 36,
      "metadata": {
        "id": "Ohrpy_WauRum"
      },
      "outputs": [],
      "source": [
        "\n",
        "# Create an instance of the SimpleImputer class\n",
        "imputer = SimpleImputer(strategy='mean')\n",
        "\n",
        "# Use the imputer to fill in missing values in the numerical features\n",
        "diabetes_X_num_imputed = imputer.fit_transform(diabetes_X_num)"
      ]
    },
    {
      "cell_type": "markdown",
      "metadata": {
        "id": "4rBKD_TMuRun"
      },
      "source": [
        "Keep in mind, all the `sklearn` transforms return a numpy array. if you want to print the data such that we can see them with the column names as we're used to in `pandas`, we need to convert that back to a DataFrame.\n",
        "\n",
        "<details>\n",
        "  <summary>Output should look like this: (🦉 click me)</summary>\n",
        "  <img width=\"600\" src=\"https://github.com/IT4063C/images/raw/main/diabetes-assignment/data-imputed.png\" />\n",
        "</details>"
      ]
    },
    {
      "cell_type": "code",
      "execution_count": 38,
      "metadata": {
        "id": "OJ0MHSfhuRun",
        "outputId": "15ade792-2589-428e-a784-1d7a97d6923a",
        "colab": {
          "base_uri": "https://localhost:8080/",
          "height": 206
        }
      },
      "outputs": [
        {
          "output_type": "execute_result",
          "data": {
            "text/plain": [
              "      AGE   BMI      BP     S1     S2    S3    S4      S5     S6\n",
              "435  45.0  24.2   83.00  177.0  118.4  45.0  4.00  4.2195   82.0\n",
              "300  53.0  33.2   82.67  186.0  106.8  46.0  4.04  5.1120  102.0\n",
              "196  42.0  22.1   85.00  213.0  138.6  60.0  4.00  4.2767   94.0\n",
              "169  48.0  23.9  109.00  232.0  105.2  37.0  6.00  6.1070   96.0\n",
              "46   33.0  25.3   85.00  155.0   85.0  51.0  3.00  4.5539   70.0"
            ],
            "text/html": [
              "\n",
              "  <div id=\"df-32dba475-ff34-4c30-9753-532ff81b3070\">\n",
              "    <div class=\"colab-df-container\">\n",
              "      <div>\n",
              "<style scoped>\n",
              "    .dataframe tbody tr th:only-of-type {\n",
              "        vertical-align: middle;\n",
              "    }\n",
              "\n",
              "    .dataframe tbody tr th {\n",
              "        vertical-align: top;\n",
              "    }\n",
              "\n",
              "    .dataframe thead th {\n",
              "        text-align: right;\n",
              "    }\n",
              "</style>\n",
              "<table border=\"1\" class=\"dataframe\">\n",
              "  <thead>\n",
              "    <tr style=\"text-align: right;\">\n",
              "      <th></th>\n",
              "      <th>AGE</th>\n",
              "      <th>BMI</th>\n",
              "      <th>BP</th>\n",
              "      <th>S1</th>\n",
              "      <th>S2</th>\n",
              "      <th>S3</th>\n",
              "      <th>S4</th>\n",
              "      <th>S5</th>\n",
              "      <th>S6</th>\n",
              "    </tr>\n",
              "  </thead>\n",
              "  <tbody>\n",
              "    <tr>\n",
              "      <th>435</th>\n",
              "      <td>45.0</td>\n",
              "      <td>24.2</td>\n",
              "      <td>83.00</td>\n",
              "      <td>177.0</td>\n",
              "      <td>118.4</td>\n",
              "      <td>45.0</td>\n",
              "      <td>4.00</td>\n",
              "      <td>4.2195</td>\n",
              "      <td>82.0</td>\n",
              "    </tr>\n",
              "    <tr>\n",
              "      <th>300</th>\n",
              "      <td>53.0</td>\n",
              "      <td>33.2</td>\n",
              "      <td>82.67</td>\n",
              "      <td>186.0</td>\n",
              "      <td>106.8</td>\n",
              "      <td>46.0</td>\n",
              "      <td>4.04</td>\n",
              "      <td>5.1120</td>\n",
              "      <td>102.0</td>\n",
              "    </tr>\n",
              "    <tr>\n",
              "      <th>196</th>\n",
              "      <td>42.0</td>\n",
              "      <td>22.1</td>\n",
              "      <td>85.00</td>\n",
              "      <td>213.0</td>\n",
              "      <td>138.6</td>\n",
              "      <td>60.0</td>\n",
              "      <td>4.00</td>\n",
              "      <td>4.2767</td>\n",
              "      <td>94.0</td>\n",
              "    </tr>\n",
              "    <tr>\n",
              "      <th>169</th>\n",
              "      <td>48.0</td>\n",
              "      <td>23.9</td>\n",
              "      <td>109.00</td>\n",
              "      <td>232.0</td>\n",
              "      <td>105.2</td>\n",
              "      <td>37.0</td>\n",
              "      <td>6.00</td>\n",
              "      <td>6.1070</td>\n",
              "      <td>96.0</td>\n",
              "    </tr>\n",
              "    <tr>\n",
              "      <th>46</th>\n",
              "      <td>33.0</td>\n",
              "      <td>25.3</td>\n",
              "      <td>85.00</td>\n",
              "      <td>155.0</td>\n",
              "      <td>85.0</td>\n",
              "      <td>51.0</td>\n",
              "      <td>3.00</td>\n",
              "      <td>4.5539</td>\n",
              "      <td>70.0</td>\n",
              "    </tr>\n",
              "  </tbody>\n",
              "</table>\n",
              "</div>\n",
              "      <button class=\"colab-df-convert\" onclick=\"convertToInteractive('df-32dba475-ff34-4c30-9753-532ff81b3070')\"\n",
              "              title=\"Convert this dataframe to an interactive table.\"\n",
              "              style=\"display:none;\">\n",
              "        \n",
              "  <svg xmlns=\"http://www.w3.org/2000/svg\" height=\"24px\"viewBox=\"0 0 24 24\"\n",
              "       width=\"24px\">\n",
              "    <path d=\"M0 0h24v24H0V0z\" fill=\"none\"/>\n",
              "    <path d=\"M18.56 5.44l.94 2.06.94-2.06 2.06-.94-2.06-.94-.94-2.06-.94 2.06-2.06.94zm-11 1L8.5 8.5l.94-2.06 2.06-.94-2.06-.94L8.5 2.5l-.94 2.06-2.06.94zm10 10l.94 2.06.94-2.06 2.06-.94-2.06-.94-.94-2.06-.94 2.06-2.06.94z\"/><path d=\"M17.41 7.96l-1.37-1.37c-.4-.4-.92-.59-1.43-.59-.52 0-1.04.2-1.43.59L10.3 9.45l-7.72 7.72c-.78.78-.78 2.05 0 2.83L4 21.41c.39.39.9.59 1.41.59.51 0 1.02-.2 1.41-.59l7.78-7.78 2.81-2.81c.8-.78.8-2.07 0-2.86zM5.41 20L4 18.59l7.72-7.72 1.47 1.35L5.41 20z\"/>\n",
              "  </svg>\n",
              "      </button>\n",
              "      \n",
              "  <style>\n",
              "    .colab-df-container {\n",
              "      display:flex;\n",
              "      flex-wrap:wrap;\n",
              "      gap: 12px;\n",
              "    }\n",
              "\n",
              "    .colab-df-convert {\n",
              "      background-color: #E8F0FE;\n",
              "      border: none;\n",
              "      border-radius: 50%;\n",
              "      cursor: pointer;\n",
              "      display: none;\n",
              "      fill: #1967D2;\n",
              "      height: 32px;\n",
              "      padding: 0 0 0 0;\n",
              "      width: 32px;\n",
              "    }\n",
              "\n",
              "    .colab-df-convert:hover {\n",
              "      background-color: #E2EBFA;\n",
              "      box-shadow: 0px 1px 2px rgba(60, 64, 67, 0.3), 0px 1px 3px 1px rgba(60, 64, 67, 0.15);\n",
              "      fill: #174EA6;\n",
              "    }\n",
              "\n",
              "    [theme=dark] .colab-df-convert {\n",
              "      background-color: #3B4455;\n",
              "      fill: #D2E3FC;\n",
              "    }\n",
              "\n",
              "    [theme=dark] .colab-df-convert:hover {\n",
              "      background-color: #434B5C;\n",
              "      box-shadow: 0px 1px 3px 1px rgba(0, 0, 0, 0.15);\n",
              "      filter: drop-shadow(0px 1px 2px rgba(0, 0, 0, 0.3));\n",
              "      fill: #FFFFFF;\n",
              "    }\n",
              "  </style>\n",
              "\n",
              "      <script>\n",
              "        const buttonEl =\n",
              "          document.querySelector('#df-32dba475-ff34-4c30-9753-532ff81b3070 button.colab-df-convert');\n",
              "        buttonEl.style.display =\n",
              "          google.colab.kernel.accessAllowed ? 'block' : 'none';\n",
              "\n",
              "        async function convertToInteractive(key) {\n",
              "          const element = document.querySelector('#df-32dba475-ff34-4c30-9753-532ff81b3070');\n",
              "          const dataTable =\n",
              "            await google.colab.kernel.invokeFunction('convertToInteractive',\n",
              "                                                     [key], {});\n",
              "          if (!dataTable) return;\n",
              "\n",
              "          const docLinkHtml = 'Like what you see? Visit the ' +\n",
              "            '<a target=\"_blank\" href=https://colab.research.google.com/notebooks/data_table.ipynb>data table notebook</a>'\n",
              "            + ' to learn more about interactive tables.';\n",
              "          element.innerHTML = '';\n",
              "          dataTable['output_type'] = 'display_data';\n",
              "          await google.colab.output.renderOutput(dataTable, element);\n",
              "          const docLink = document.createElement('div');\n",
              "          docLink.innerHTML = docLinkHtml;\n",
              "          element.appendChild(docLink);\n",
              "        }\n",
              "      </script>\n",
              "    </div>\n",
              "  </div>\n",
              "  "
            ]
          },
          "metadata": {},
          "execution_count": 38
        }
      ],
      "source": [
        "# assuming the imputer has been fitted and transformed and the result is stored in X\n",
        "diabetes_X_num_imputed = pd.DataFrame(diabetes_X_num_imputed, columns=diabetes_X_num.columns, index=diabetes_X_num.index)\n",
        "diabetes_X_num_imputed.head()"
      ]
    },
    {
      "cell_type": "markdown",
      "metadata": {
        "id": "hNFhdRPwuRun"
      },
      "source": [
        "> 🚩 : Make a git commit here"
      ]
    },
    {
      "cell_type": "markdown",
      "metadata": {
        "id": "-2YNmNojuRuo"
      },
      "source": [
        "#### Scaling and Normalizing Numerical Features\n",
        "<img width=\"500\" src=\"https://github.com/IT4063C/images/raw/main/diabetes-assignment/diabetes_hist.png\" />\n",
        "\n",
        "As you can see from the histograms and the `describe()` output (if you do it), the values in each column are on different scales. This leads the machine learning algorithms giving more weight to the features. We need to scale the values in each column to the same scale. "
      ]
    },
    {
      "cell_type": "markdown",
      "metadata": {
        "id": "FjtQtLJIuRuo"
      },
      "source": [
        "**Task 👨🏻‍💻** : use the `StandardScaler` class to transform/scale the values in each column to the same scale.\n",
        "\n",
        "*Hint 🦉 :* \n",
        "- name the transformed data `diabetes_X_num_scaled`\n",
        "- make sure you use the `diabetes_X_num_imputed` as input to the scaler"
      ]
    },
    {
      "cell_type": "code",
      "execution_count": 39,
      "metadata": {
        "id": "_EEb8dlDuRup"
      },
      "outputs": [],
      "source": [
        "\n",
        "scaler = StandardScaler()\n",
        "diabetes_X_num_scaled = scaler.fit_transform(diabetes_X_num_imputed)"
      ]
    },
    {
      "cell_type": "markdown",
      "metadata": {
        "id": "8NnK7DJ5uRup"
      },
      "source": [
        "Similar to we've done above after the imputer, we need to convert the numpy array to a DataFrame.\n",
        "\n",
        "**Task 👨🏻‍💻** convert the numpy array `diabetes_X_num_scaled` back to a pandas DataFrame. \n",
        "\n",
        "*Hint 🦉 :* Look above "
      ]
    },
    {
      "cell_type": "code",
      "execution_count": 43,
      "metadata": {
        "id": "XLjJn15CuRup"
      },
      "outputs": [],
      "source": [
        "diabetes_X_num_scaled = pd.DataFrame(diabetes_X_num_scaled, columns=diabetes_X_num.columns)\n"
      ]
    },
    {
      "cell_type": "markdown",
      "metadata": {
        "id": "_9Dur_81uRup"
      },
      "source": [
        "**Task 👨🏻‍💻** : print the first 5 records of the  use the `diabetes_X_num_scaled`\n",
        "\n",
        "<details>\n",
        "  <summary>Output should look like this: (🦉 click me)</summary>\n",
        "  <img width=\"600\" src=\"https://github.com/IT4063C/images/raw/main/diabetes-assignment/data-scaled.png\" />\n",
        "</details>\n"
      ]
    },
    {
      "cell_type": "code",
      "execution_count": 44,
      "metadata": {
        "id": "qOk9jwDeuRuq",
        "outputId": "650d5494-a867-4e53-c123-cfd060d08a6b",
        "colab": {
          "base_uri": "https://localhost:8080/",
          "height": 206
        }
      },
      "outputs": [
        {
          "output_type": "execute_result",
          "data": {
            "text/plain": [
              "        AGE       BMI        BP        S1        S2        S3        S4  \\\n",
              "0 -0.266365 -0.478219 -0.838821 -0.333170  0.110944 -0.387616 -0.029781   \n",
              "1  0.346686  1.568807 -0.862660 -0.076257 -0.271298 -0.310508  0.001600   \n",
              "2 -0.496259 -0.955859 -0.694342  0.694481  0.776572  0.769006 -0.029781   \n",
              "3 -0.036470 -0.546454  1.039404  1.236853 -0.324021 -1.004481  1.539266   \n",
              "4 -1.185941 -0.228027 -0.694342 -0.961179 -0.989649  0.075033 -0.814304   \n",
              "\n",
              "         S5        S6  \n",
              "0 -0.773674 -0.766011  \n",
              "1  0.919461  0.927706  \n",
              "2 -0.665161  0.250219  \n",
              "3  2.807046  0.419591  \n",
              "4 -0.139293 -1.782242  "
            ],
            "text/html": [
              "\n",
              "  <div id=\"df-d7b2715b-d6e8-4385-a6b1-3124ca83bbd4\">\n",
              "    <div class=\"colab-df-container\">\n",
              "      <div>\n",
              "<style scoped>\n",
              "    .dataframe tbody tr th:only-of-type {\n",
              "        vertical-align: middle;\n",
              "    }\n",
              "\n",
              "    .dataframe tbody tr th {\n",
              "        vertical-align: top;\n",
              "    }\n",
              "\n",
              "    .dataframe thead th {\n",
              "        text-align: right;\n",
              "    }\n",
              "</style>\n",
              "<table border=\"1\" class=\"dataframe\">\n",
              "  <thead>\n",
              "    <tr style=\"text-align: right;\">\n",
              "      <th></th>\n",
              "      <th>AGE</th>\n",
              "      <th>BMI</th>\n",
              "      <th>BP</th>\n",
              "      <th>S1</th>\n",
              "      <th>S2</th>\n",
              "      <th>S3</th>\n",
              "      <th>S4</th>\n",
              "      <th>S5</th>\n",
              "      <th>S6</th>\n",
              "    </tr>\n",
              "  </thead>\n",
              "  <tbody>\n",
              "    <tr>\n",
              "      <th>0</th>\n",
              "      <td>-0.266365</td>\n",
              "      <td>-0.478219</td>\n",
              "      <td>-0.838821</td>\n",
              "      <td>-0.333170</td>\n",
              "      <td>0.110944</td>\n",
              "      <td>-0.387616</td>\n",
              "      <td>-0.029781</td>\n",
              "      <td>-0.773674</td>\n",
              "      <td>-0.766011</td>\n",
              "    </tr>\n",
              "    <tr>\n",
              "      <th>1</th>\n",
              "      <td>0.346686</td>\n",
              "      <td>1.568807</td>\n",
              "      <td>-0.862660</td>\n",
              "      <td>-0.076257</td>\n",
              "      <td>-0.271298</td>\n",
              "      <td>-0.310508</td>\n",
              "      <td>0.001600</td>\n",
              "      <td>0.919461</td>\n",
              "      <td>0.927706</td>\n",
              "    </tr>\n",
              "    <tr>\n",
              "      <th>2</th>\n",
              "      <td>-0.496259</td>\n",
              "      <td>-0.955859</td>\n",
              "      <td>-0.694342</td>\n",
              "      <td>0.694481</td>\n",
              "      <td>0.776572</td>\n",
              "      <td>0.769006</td>\n",
              "      <td>-0.029781</td>\n",
              "      <td>-0.665161</td>\n",
              "      <td>0.250219</td>\n",
              "    </tr>\n",
              "    <tr>\n",
              "      <th>3</th>\n",
              "      <td>-0.036470</td>\n",
              "      <td>-0.546454</td>\n",
              "      <td>1.039404</td>\n",
              "      <td>1.236853</td>\n",
              "      <td>-0.324021</td>\n",
              "      <td>-1.004481</td>\n",
              "      <td>1.539266</td>\n",
              "      <td>2.807046</td>\n",
              "      <td>0.419591</td>\n",
              "    </tr>\n",
              "    <tr>\n",
              "      <th>4</th>\n",
              "      <td>-1.185941</td>\n",
              "      <td>-0.228027</td>\n",
              "      <td>-0.694342</td>\n",
              "      <td>-0.961179</td>\n",
              "      <td>-0.989649</td>\n",
              "      <td>0.075033</td>\n",
              "      <td>-0.814304</td>\n",
              "      <td>-0.139293</td>\n",
              "      <td>-1.782242</td>\n",
              "    </tr>\n",
              "  </tbody>\n",
              "</table>\n",
              "</div>\n",
              "      <button class=\"colab-df-convert\" onclick=\"convertToInteractive('df-d7b2715b-d6e8-4385-a6b1-3124ca83bbd4')\"\n",
              "              title=\"Convert this dataframe to an interactive table.\"\n",
              "              style=\"display:none;\">\n",
              "        \n",
              "  <svg xmlns=\"http://www.w3.org/2000/svg\" height=\"24px\"viewBox=\"0 0 24 24\"\n",
              "       width=\"24px\">\n",
              "    <path d=\"M0 0h24v24H0V0z\" fill=\"none\"/>\n",
              "    <path d=\"M18.56 5.44l.94 2.06.94-2.06 2.06-.94-2.06-.94-.94-2.06-.94 2.06-2.06.94zm-11 1L8.5 8.5l.94-2.06 2.06-.94-2.06-.94L8.5 2.5l-.94 2.06-2.06.94zm10 10l.94 2.06.94-2.06 2.06-.94-2.06-.94-.94-2.06-.94 2.06-2.06.94z\"/><path d=\"M17.41 7.96l-1.37-1.37c-.4-.4-.92-.59-1.43-.59-.52 0-1.04.2-1.43.59L10.3 9.45l-7.72 7.72c-.78.78-.78 2.05 0 2.83L4 21.41c.39.39.9.59 1.41.59.51 0 1.02-.2 1.41-.59l7.78-7.78 2.81-2.81c.8-.78.8-2.07 0-2.86zM5.41 20L4 18.59l7.72-7.72 1.47 1.35L5.41 20z\"/>\n",
              "  </svg>\n",
              "      </button>\n",
              "      \n",
              "  <style>\n",
              "    .colab-df-container {\n",
              "      display:flex;\n",
              "      flex-wrap:wrap;\n",
              "      gap: 12px;\n",
              "    }\n",
              "\n",
              "    .colab-df-convert {\n",
              "      background-color: #E8F0FE;\n",
              "      border: none;\n",
              "      border-radius: 50%;\n",
              "      cursor: pointer;\n",
              "      display: none;\n",
              "      fill: #1967D2;\n",
              "      height: 32px;\n",
              "      padding: 0 0 0 0;\n",
              "      width: 32px;\n",
              "    }\n",
              "\n",
              "    .colab-df-convert:hover {\n",
              "      background-color: #E2EBFA;\n",
              "      box-shadow: 0px 1px 2px rgba(60, 64, 67, 0.3), 0px 1px 3px 1px rgba(60, 64, 67, 0.15);\n",
              "      fill: #174EA6;\n",
              "    }\n",
              "\n",
              "    [theme=dark] .colab-df-convert {\n",
              "      background-color: #3B4455;\n",
              "      fill: #D2E3FC;\n",
              "    }\n",
              "\n",
              "    [theme=dark] .colab-df-convert:hover {\n",
              "      background-color: #434B5C;\n",
              "      box-shadow: 0px 1px 3px 1px rgba(0, 0, 0, 0.15);\n",
              "      filter: drop-shadow(0px 1px 2px rgba(0, 0, 0, 0.3));\n",
              "      fill: #FFFFFF;\n",
              "    }\n",
              "  </style>\n",
              "\n",
              "      <script>\n",
              "        const buttonEl =\n",
              "          document.querySelector('#df-d7b2715b-d6e8-4385-a6b1-3124ca83bbd4 button.colab-df-convert');\n",
              "        buttonEl.style.display =\n",
              "          google.colab.kernel.accessAllowed ? 'block' : 'none';\n",
              "\n",
              "        async function convertToInteractive(key) {\n",
              "          const element = document.querySelector('#df-d7b2715b-d6e8-4385-a6b1-3124ca83bbd4');\n",
              "          const dataTable =\n",
              "            await google.colab.kernel.invokeFunction('convertToInteractive',\n",
              "                                                     [key], {});\n",
              "          if (!dataTable) return;\n",
              "\n",
              "          const docLinkHtml = 'Like what you see? Visit the ' +\n",
              "            '<a target=\"_blank\" href=https://colab.research.google.com/notebooks/data_table.ipynb>data table notebook</a>'\n",
              "            + ' to learn more about interactive tables.';\n",
              "          element.innerHTML = '';\n",
              "          dataTable['output_type'] = 'display_data';\n",
              "          await google.colab.output.renderOutput(dataTable, element);\n",
              "          const docLink = document.createElement('div');\n",
              "          docLink.innerHTML = docLinkHtml;\n",
              "          element.appendChild(docLink);\n",
              "        }\n",
              "      </script>\n",
              "    </div>\n",
              "  </div>\n",
              "  "
            ]
          },
          "metadata": {},
          "execution_count": 44
        }
      ],
      "source": [
        "diabetes_X_num_scaled.head()"
      ]
    },
    {
      "cell_type": "markdown",
      "metadata": {
        "id": "nKXfpJFUuRuq"
      },
      "source": [
        "> 🚩 : Make a git commit here"
      ]
    },
    {
      "cell_type": "markdown",
      "metadata": {
        "id": "K03NBl72uRuq"
      },
      "source": [
        "#### Encode Categorical Features\n",
        "Let's now process and transform the categorical features. In the videos we mentioned 2 types of categorical feature encoders: `OrdinalEncoder` and `OneHotEncoder`. We'll use the `OneHotEncoder` to encode the categorical features in the dataset.\n",
        "\n",
        "**Task 👨🏻‍💻** : Why don't we use the `OrdinalEncoder` to encode the categorical features in the dataset? **ANSWER: The OrdinalEncoder is a useful tool for encoding categorical features when the categories have an inherent order or ranking, such as low, medium, and high. However, in our diabetes dataset, the categorical feature SEX only has two possible values: 0 and 1. These values do not have any inherent order or ranking, so it would not make sense to use the OrdinalEncoder. Instead, we use the OneHotEncoder to create binary features for each category.**\n"
      ]
    },
    {
      "cell_type": "raw",
      "metadata": {
        "id": "EYdgvLeHuRur"
      },
      "source": [
        "👨🏻‍💻 Answer the question in this cell:\n"
      ]
    },
    {
      "cell_type": "markdown",
      "metadata": {
        "id": "Nb5aXdqquRur"
      },
      "source": [
        "> 🚩 : Make a git commit here"
      ]
    },
    {
      "cell_type": "markdown",
      "metadata": {
        "id": "hncu9RdKuRur"
      },
      "source": [
        "Let's see how many records exist for each category in the `SEX` column."
      ]
    },
    {
      "cell_type": "code",
      "execution_count": 45,
      "metadata": {
        "id": "eDwy9acouRur",
        "outputId": "8a1dc713-1321-4bf4-a4fd-337034faee25",
        "colab": {
          "base_uri": "https://localhost:8080/"
        }
      },
      "outputs": [
        {
          "output_type": "execute_result",
          "data": {
            "text/plain": [
              "1    188\n",
              "2    165\n",
              "Name: SEX, dtype: int64"
            ]
          },
          "metadata": {},
          "execution_count": 45
        }
      ],
      "source": [
        "diabetes_X_cat['SEX'].value_counts()"
      ]
    },
    {
      "cell_type": "markdown",
      "metadata": {
        "id": "0LdoehyDuRus"
      },
      "source": [
        "If we encode the data with the current values, the category names would be `1` and `2`.\n",
        "\n",
        "Let's change the values to `male` and `female`.\n",
        "\n",
        "**Task 👨🏻‍💻** : Use the `replace()` method to replace the values in the `SEX` column with `male` and `female`. \n",
        "\n",
        "(done for you; make sure you understand what's happening)"
      ]
    },
    {
      "cell_type": "code",
      "execution_count": 46,
      "metadata": {
        "id": "MiBZWnWtuRus",
        "outputId": "bab4e6fe-8cb4-4389-f038-52d79bc5a5bc",
        "colab": {
          "base_uri": "https://localhost:8080/",
          "height": 206
        }
      },
      "outputs": [
        {
          "output_type": "display_data",
          "data": {
            "text/plain": [
              "      SEX\n",
              "435  MALE\n",
              "300  MALE\n",
              "196  MALE\n",
              "169  MALE\n",
              "46   MALE"
            ],
            "text/html": [
              "\n",
              "  <div id=\"df-cf6141e3-5bae-406f-a1de-85734974d599\">\n",
              "    <div class=\"colab-df-container\">\n",
              "      <div>\n",
              "<style scoped>\n",
              "    .dataframe tbody tr th:only-of-type {\n",
              "        vertical-align: middle;\n",
              "    }\n",
              "\n",
              "    .dataframe tbody tr th {\n",
              "        vertical-align: top;\n",
              "    }\n",
              "\n",
              "    .dataframe thead th {\n",
              "        text-align: right;\n",
              "    }\n",
              "</style>\n",
              "<table border=\"1\" class=\"dataframe\">\n",
              "  <thead>\n",
              "    <tr style=\"text-align: right;\">\n",
              "      <th></th>\n",
              "      <th>SEX</th>\n",
              "    </tr>\n",
              "  </thead>\n",
              "  <tbody>\n",
              "    <tr>\n",
              "      <th>435</th>\n",
              "      <td>MALE</td>\n",
              "    </tr>\n",
              "    <tr>\n",
              "      <th>300</th>\n",
              "      <td>MALE</td>\n",
              "    </tr>\n",
              "    <tr>\n",
              "      <th>196</th>\n",
              "      <td>MALE</td>\n",
              "    </tr>\n",
              "    <tr>\n",
              "      <th>169</th>\n",
              "      <td>MALE</td>\n",
              "    </tr>\n",
              "    <tr>\n",
              "      <th>46</th>\n",
              "      <td>MALE</td>\n",
              "    </tr>\n",
              "  </tbody>\n",
              "</table>\n",
              "</div>\n",
              "      <button class=\"colab-df-convert\" onclick=\"convertToInteractive('df-cf6141e3-5bae-406f-a1de-85734974d599')\"\n",
              "              title=\"Convert this dataframe to an interactive table.\"\n",
              "              style=\"display:none;\">\n",
              "        \n",
              "  <svg xmlns=\"http://www.w3.org/2000/svg\" height=\"24px\"viewBox=\"0 0 24 24\"\n",
              "       width=\"24px\">\n",
              "    <path d=\"M0 0h24v24H0V0z\" fill=\"none\"/>\n",
              "    <path d=\"M18.56 5.44l.94 2.06.94-2.06 2.06-.94-2.06-.94-.94-2.06-.94 2.06-2.06.94zm-11 1L8.5 8.5l.94-2.06 2.06-.94-2.06-.94L8.5 2.5l-.94 2.06-2.06.94zm10 10l.94 2.06.94-2.06 2.06-.94-2.06-.94-.94-2.06-.94 2.06-2.06.94z\"/><path d=\"M17.41 7.96l-1.37-1.37c-.4-.4-.92-.59-1.43-.59-.52 0-1.04.2-1.43.59L10.3 9.45l-7.72 7.72c-.78.78-.78 2.05 0 2.83L4 21.41c.39.39.9.59 1.41.59.51 0 1.02-.2 1.41-.59l7.78-7.78 2.81-2.81c.8-.78.8-2.07 0-2.86zM5.41 20L4 18.59l7.72-7.72 1.47 1.35L5.41 20z\"/>\n",
              "  </svg>\n",
              "      </button>\n",
              "      \n",
              "  <style>\n",
              "    .colab-df-container {\n",
              "      display:flex;\n",
              "      flex-wrap:wrap;\n",
              "      gap: 12px;\n",
              "    }\n",
              "\n",
              "    .colab-df-convert {\n",
              "      background-color: #E8F0FE;\n",
              "      border: none;\n",
              "      border-radius: 50%;\n",
              "      cursor: pointer;\n",
              "      display: none;\n",
              "      fill: #1967D2;\n",
              "      height: 32px;\n",
              "      padding: 0 0 0 0;\n",
              "      width: 32px;\n",
              "    }\n",
              "\n",
              "    .colab-df-convert:hover {\n",
              "      background-color: #E2EBFA;\n",
              "      box-shadow: 0px 1px 2px rgba(60, 64, 67, 0.3), 0px 1px 3px 1px rgba(60, 64, 67, 0.15);\n",
              "      fill: #174EA6;\n",
              "    }\n",
              "\n",
              "    [theme=dark] .colab-df-convert {\n",
              "      background-color: #3B4455;\n",
              "      fill: #D2E3FC;\n",
              "    }\n",
              "\n",
              "    [theme=dark] .colab-df-convert:hover {\n",
              "      background-color: #434B5C;\n",
              "      box-shadow: 0px 1px 3px 1px rgba(0, 0, 0, 0.15);\n",
              "      filter: drop-shadow(0px 1px 2px rgba(0, 0, 0, 0.3));\n",
              "      fill: #FFFFFF;\n",
              "    }\n",
              "  </style>\n",
              "\n",
              "      <script>\n",
              "        const buttonEl =\n",
              "          document.querySelector('#df-cf6141e3-5bae-406f-a1de-85734974d599 button.colab-df-convert');\n",
              "        buttonEl.style.display =\n",
              "          google.colab.kernel.accessAllowed ? 'block' : 'none';\n",
              "\n",
              "        async function convertToInteractive(key) {\n",
              "          const element = document.querySelector('#df-cf6141e3-5bae-406f-a1de-85734974d599');\n",
              "          const dataTable =\n",
              "            await google.colab.kernel.invokeFunction('convertToInteractive',\n",
              "                                                     [key], {});\n",
              "          if (!dataTable) return;\n",
              "\n",
              "          const docLinkHtml = 'Like what you see? Visit the ' +\n",
              "            '<a target=\"_blank\" href=https://colab.research.google.com/notebooks/data_table.ipynb>data table notebook</a>'\n",
              "            + ' to learn more about interactive tables.';\n",
              "          element.innerHTML = '';\n",
              "          dataTable['output_type'] = 'display_data';\n",
              "          await google.colab.output.renderOutput(dataTable, element);\n",
              "          const docLink = document.createElement('div');\n",
              "          docLink.innerHTML = docLinkHtml;\n",
              "          element.appendChild(docLink);\n",
              "        }\n",
              "      </script>\n",
              "    </div>\n",
              "  </div>\n",
              "  "
            ]
          },
          "metadata": {}
        }
      ],
      "source": [
        "diabetes_X_cat['SEX'].replace({1: 'MALE', 2: 'FEMALE'}, inplace=True)\n",
        "display(diabetes_X_cat.head())"
      ]
    },
    {
      "cell_type": "markdown",
      "metadata": {
        "id": "XVEzFIAtuRus"
      },
      "source": [
        "> 🚩 : Make a git commit here"
      ]
    },
    {
      "cell_type": "markdown",
      "metadata": {
        "id": "AK_lRggIuRut"
      },
      "source": [
        "**Task 👨🏻‍💻** : Encode the `SEX` column using the `OneHotEncoder` class. and print the `categories_` attribute of the encoder.\n",
        "\n",
        "*Hint 🦉 :* \n",
        "- Create an instance of the `OneHotEncoder` class and name it `cat_encoder`.\n",
        "- use the `diabetes_X_cat` dataframe to `fit` the encoder.\n",
        "- the results of this transformation will be a scipy sparse matrix. this is a more memory efficient way of storing the data. (reference the lecture videos for more info)\n",
        "\n",
        "<details>\n",
        "  <summary>Output should look like this: (🦉 click me)</summary>\n",
        "  <img width=\"400\" src=\"https://github.com/IT4063C/images/raw/main/diabetes-assignment/encoder-cats.png\" />\n",
        "</details>"
      ]
    },
    {
      "cell_type": "code",
      "execution_count": 50,
      "metadata": {
        "id": "TCvRM1t4uRut",
        "outputId": "9bb8e1c3-e4ef-4cb9-c418-3f20ca9d5b9c",
        "colab": {
          "base_uri": "https://localhost:8080/"
        }
      },
      "outputs": [
        {
          "output_type": "stream",
          "name": "stdout",
          "text": [
            "[array(['FEMALE', 'MALE'], dtype=object)]\n"
          ]
        }
      ],
      "source": [
        "cat_encoder = OneHotEncoder()\n",
        "diabetes_X_cat_encoded = cat_encoder.fit_transform(diabetes_X_cat)\n",
        "print(cat_encoder.categories_)"
      ]
    },
    {
      "cell_type": "markdown",
      "metadata": {
        "id": "IVvW_mKjuRut"
      },
      "source": [
        "> 🚩 : Make a git commit here"
      ]
    },
    {
      "cell_type": "markdown",
      "metadata": {
        "id": "WEd_EPgXuRut"
      },
      "source": [
        "#### Pipelines\n",
        "We've seen how to process the data in individual steps. But we need to combine all the steps into a single pipeline. This will make it easier to apply the same transformations to the test set, to new data, and to any other data that we may have in the future.\n",
        "\n",
        "We'll start by creating a pipeline for the numerical features. The numerical pipeline will impute the missing values, and scale the values.\n",
        "\n",
        "**Task 👨🏻‍💻** : Create a pipeline for the numerical features that will impute the missing values, and scale the values in each column to the same scale. Name the pipeline `num_pipeline`."
      ]
    },
    {
      "cell_type": "code",
      "execution_count": 54,
      "metadata": {
        "id": "q8Vuq8C4uRuu"
      },
      "outputs": [],
      "source": [
        "\n",
        "\n",
        "num_pipeline = Pipeline([\n",
        "        ('imputer', SimpleImputer(strategy=\"mean\")),\n",
        "        ('scaler', StandardScaler()),\n",
        "    ])\n"
      ]
    },
    {
      "cell_type": "markdown",
      "metadata": {
        "id": "OOILWzwguRuu"
      },
      "source": [
        "> 🚩 : Make a git commit here"
      ]
    },
    {
      "cell_type": "markdown",
      "metadata": {
        "id": "YeNECfFEuRuu"
      },
      "source": [
        "**Task 👨🏻‍💻** : Create a pipeline for the categorical features that will encode categorical columns using the `OneHotEncoder` Transformer. Name the pipeline `cat_pipeline`."
      ]
    },
    {
      "cell_type": "code",
      "source": [
        "from sklearn.base import BaseEstimator, TransformerMixin\n",
        "\n",
        "class DataFrameSelector(BaseEstimator, TransformerMixin):\n",
        "    def __init__(self, attribute_names):\n",
        "        self.attribute_names = attribute_names\n",
        "    \n",
        "    def fit(self, X, y=None):\n",
        "        return self\n",
        "    \n",
        "    def transform(self, X):\n",
        "        return X[self.attribute_names].values\n",
        "cat_attribs = [\"SEX\"]\n"
      ],
      "metadata": {
        "id": "kAUGnWIZ5YTz"
      },
      "execution_count": 58,
      "outputs": []
    },
    {
      "cell_type": "code",
      "execution_count": 59,
      "metadata": {
        "id": "JYVyasPSuRuv"
      },
      "outputs": [],
      "source": [
        "from sklearn.pipeline import Pipeline\n",
        "from sklearn.preprocessing import OneHotEncoder\n",
        "\n",
        "cat_pipeline = Pipeline([\n",
        "    ('cat_selector', DataFrameSelector(cat_attribs)),\n",
        "    ('cat_encoder', OneHotEncoder(handle_unknown='ignore'))\n",
        "])\n",
        "\n"
      ]
    },
    {
      "cell_type": "markdown",
      "metadata": {
        "id": "2wkxbLtTuRuv"
      },
      "source": [
        "> 🚩 : Make a git commit here"
      ]
    },
    {
      "cell_type": "markdown",
      "metadata": {
        "id": "PlL2fe3duRuw"
      },
      "source": [
        "To combine the numerical and categorical pipelines, we'll use the `ColumnTransformer` class from the `sklearn.compose` package. This ColumnTransformer allows us to apply different transformation pipelines to different columns.\n",
        "\n",
        "**Task 👨🏻‍💻** : Create a `ColumnTransformer` that will apply the `num_pipeline` to the numerical columns, and the `cat_pipeline` to the categorical columns. Name the ColumnTransformer `full_pipeline`.\n",
        "\n",
        "*Hint 🦉 :* \n",
        "- create 2 lists/arrays of the column names for each subset. one for the numerical columns, and one for the categorical columns.\n",
        "- name the transformed dataset `diabetes_X_prepared`"
      ]
    },
    {
      "cell_type": "code",
      "execution_count": 62,
      "metadata": {
        "id": "dbETgcZCuRuw"
      },
      "outputs": [],
      "source": [
        "\n",
        "num_attribs = list(diabetes_X_num)\n",
        "cat_attribs = [\"SEX\"]\n",
        "\n",
        "full_pipeline = ColumnTransformer([\n",
        "    (\"num\", num_pipeline, num_attribs),\n",
        "    (\"cat\", cat_pipeline, cat_attribs)\n",
        "])\n",
        "\n",
        "diabetes_X_prepared = full_pipeline.fit_transform(diabetes)\n"
      ]
    },
    {
      "cell_type": "markdown",
      "metadata": {
        "id": "FZrR1-6euRuw"
      },
      "source": [
        "> 🚩 : Make a git commit here"
      ]
    },
    {
      "cell_type": "markdown",
      "metadata": {
        "id": "U0yCnWC2uRux"
      },
      "source": [
        "Again, any output of the `sklearn` transforms is a numpy array. If we want to get the first 5 records of the transformed dataset, we need to do the following:\n",
        "\n",
        "<details>\n",
        "  <summary>Output should look like this: (🦉 click me)</summary>\n",
        "  <img width=\"600\" src=\"https://github.com/IT4063C/images/raw/main/diabetes-assignment/prepared-numpy.png\" />\n",
        "</details>"
      ]
    },
    {
      "cell_type": "code",
      "execution_count": 65,
      "metadata": {
        "id": "ZeZnYNR_uRux",
        "outputId": "a828e51a-9b8c-4385-f431-97b6d9eb1eb0",
        "colab": {
          "base_uri": "https://localhost:8080/"
        }
      },
      "outputs": [
        {
          "output_type": "execute_result",
          "data": {
            "text/plain": [
              "array([[ 0.80050009,  1.29708846,  0.45942524, -0.92974581, -0.73206462,\n",
              "        -0.91245053, -0.05449919,  0.41853093, -0.37098854,  0.        ,\n",
              "         1.        ],\n",
              "       [-0.03956713, -1.08218016, -0.5539621 , -0.17762425, -0.40288615,\n",
              "         1.56441355, -0.83030083, -1.43658851, -1.93847913,  1.        ,\n",
              "         0.        ],\n",
              "       [ 1.79330681,  0.93453324, -0.11965324, -0.95867356, -0.71889748,\n",
              "        -0.68024452, -0.05449919,  0.06015558, -0.54515416,  0.        ,\n",
              "         1.        ],\n",
              "       [-1.87244107, -0.24377122, -0.77111652,  0.25629203,  0.52539714,\n",
              "        -0.75764652,  0.72130245,  0.47698252, -0.19682291,  1.        ,\n",
              "         0.        ],\n",
              "       [ 0.11317236, -0.76494435,  0.45942524,  0.08272552,  0.32789006,\n",
              "         0.17117751, -0.05449919, -0.67250161, -0.98056821,  1.        ,\n",
              "         0.        ]])"
            ]
          },
          "metadata": {},
          "execution_count": 65
        }
      ],
      "source": [
        "diabetes_X_prepared[:5]"
      ]
    },
    {
      "cell_type": "markdown",
      "metadata": {
        "id": "0v8EiJZguRux"
      },
      "source": [
        "if we want to convert the numpy array to a DataFrame, we can do the following:\n",
        "\n",
        "- note: the column names are not in the same order as the original dataset. this is because the `OneHotEncoder` class returns the encoded columns in alphabetical order."
      ]
    },
    {
      "cell_type": "code",
      "execution_count": 66,
      "metadata": {
        "id": "X24sGb3LuRux",
        "outputId": "796bb149-c2d0-4698-f7ff-1787708aa925",
        "colab": {
          "base_uri": "https://localhost:8080/",
          "height": 235
        }
      },
      "outputs": [
        {
          "output_type": "error",
          "ename": "AttributeError",
          "evalue": "ignored",
          "traceback": [
            "\u001b[0;31m---------------------------------------------------------------------------\u001b[0m",
            "\u001b[0;31mAttributeError\u001b[0m                            Traceback (most recent call last)",
            "\u001b[0;32m<ipython-input-66-e9e1168d5a31>\u001b[0m in \u001b[0;36m<cell line: 3>\u001b[0;34m()\u001b[0m\n\u001b[1;32m      2\u001b[0m \u001b[0;31m# Convert the sparse matrix to a DataFrame\u001b[0m\u001b[0;34m\u001b[0m\u001b[0;34m\u001b[0m\u001b[0m\n\u001b[1;32m      3\u001b[0m diabetes_X_cat_encoded_df = pd.DataFrame(diabetes_X_cat_encoded.toarray(),\n\u001b[0;32m----> 4\u001b[0;31m                                          columns=cat_encoder.get_feature_names(cat_attribs))\n\u001b[0m\u001b[1;32m      5\u001b[0m \u001b[0;34m\u001b[0m\u001b[0m\n\u001b[1;32m      6\u001b[0m \u001b[0;31m# Make sure both DataFrames have the same index\u001b[0m\u001b[0;34m\u001b[0m\u001b[0;34m\u001b[0m\u001b[0m\n",
            "\u001b[0;31mAttributeError\u001b[0m: 'OneHotEncoder' object has no attribute 'get_feature_names'"
          ]
        }
      ],
      "source": [
        "# Converting the numpy array to a pandas dataframe\n",
        "# Convert the sparse matrix to a DataFrame\n",
        "diabetes_X_cat_encoded_df = pd.DataFrame(diabetes_X_cat_encoded.toarray(),\n",
        "                                         columns=cat_encoder.get_feature_names(cat_attribs))\n",
        "\n",
        "# Make sure both DataFrames have the same index\n",
        "diabetes_X_num.index = diabetes_X_cat_encoded_df.index\n",
        "\n",
        "# Concatenate the two DataFrames\n",
        "diabetes_X_prepared = pd.concat([diabetes_X_num, diabetes_X_cat_encoded_df], axis=1)\n"
      ]
    },
    {
      "cell_type": "markdown",
      "metadata": {
        "id": "QU_BDwQZuRuy"
      },
      "source": [
        "**For 5 Extra Credit Points:**\n",
        "- Create a custom transformer that would a new feature that is the ratio of the `BMI` to the `AGE`. Add this transformer to the `full_pipeline` and make sure it works."
      ]
    },
    {
      "cell_type": "code",
      "execution_count": null,
      "metadata": {
        "id": "Gk2tgWLbuRuy"
      },
      "outputs": [],
      "source": []
    },
    {
      "cell_type": "markdown",
      "metadata": {
        "id": "SaedGPM4uRuy"
      },
      "source": [
        "> 🚩 : Make a git commit here (if you've done the extra credit)"
      ]
    },
    {
      "cell_type": "markdown",
      "metadata": {
        "id": "Q6U03CuguRuz"
      },
      "source": [
        "🏖 ☕️ Take a break here and make sure you understand what we've done so far."
      ]
    },
    {
      "cell_type": "markdown",
      "metadata": {
        "id": "vRTCcgIluRuz"
      },
      "source": [
        "### 4️⃣ Analyze\n",
        "In this section, we'll train 2 machine learning models to make predictions about the diabetes progression after 1 year, given a number of predictors.\n",
        "\n",
        "At this stage we should have the following 4 datasets:\n",
        "- `diabetes_X_prepared` - the inputs for the training set\n",
        "- `diabetes_y` - the outputs for the training set\n",
        "- `age_sex_strat_test_set` - the test set (both X and y)"
      ]
    },
    {
      "cell_type": "code",
      "execution_count": null,
      "metadata": {
        "id": "Vm5yVMfYuRu0"
      },
      "outputs": [],
      "source": [
        "# ⛔️ Do not uncomment this cell. This is what I used to save a copy of the prepared data to csv files.\n",
        "\n",
        "# diabetes_X_prepared.to_csv('data/train_X_prepared.csv', index=False)\n",
        "# diabetes_y.to_csv('data/trainy.csv', index=False)\n",
        "\n",
        "# age_sex_strat_test_set.to_csv('data/test_X_y.csv', index=False)"
      ]
    },
    {
      "cell_type": "markdown",
      "metadata": {
        "id": "E4Z4IJykuRu1"
      },
      "source": [
        "Now in case you didn't get the prepare and process steps right, you can use the `diabetes_X_prepared` and `diabetes_y` datasets that I've created for you.\n",
        "\n",
        "uncomment the following cell and execute it."
      ]
    },
    {
      "cell_type": "code",
      "source": [
        "from google.colab import files\n",
        "\n",
        "uploaded = files.upload()\n",
        "\n",
        "for fn in uploaded.keys():\n",
        "  print('User uploaded file \"{name}\" with length {length} bytes'.format(\n",
        "      name=fn, length=len(uploaded[fn])))"
      ],
      "metadata": {
        "id": "T7fxa87D7Mba",
        "outputId": "93cda78a-4a80-40fb-c228-55fbf2867003",
        "colab": {
          "base_uri": "https://localhost:8080/",
          "height": 90
        }
      },
      "execution_count": 67,
      "outputs": [
        {
          "output_type": "display_data",
          "data": {
            "text/plain": [
              "<IPython.core.display.HTML object>"
            ],
            "text/html": [
              "\n",
              "     <input type=\"file\" id=\"files-d64db98c-669f-4589-ad24-070d53acd7e7\" name=\"files[]\" multiple disabled\n",
              "        style=\"border:none\" />\n",
              "     <output id=\"result-d64db98c-669f-4589-ad24-070d53acd7e7\">\n",
              "      Upload widget is only available when the cell has been executed in the\n",
              "      current browser session. Please rerun this cell to enable.\n",
              "      </output>\n",
              "      <script>// Copyright 2017 Google LLC\n",
              "//\n",
              "// Licensed under the Apache License, Version 2.0 (the \"License\");\n",
              "// you may not use this file except in compliance with the License.\n",
              "// You may obtain a copy of the License at\n",
              "//\n",
              "//      http://www.apache.org/licenses/LICENSE-2.0\n",
              "//\n",
              "// Unless required by applicable law or agreed to in writing, software\n",
              "// distributed under the License is distributed on an \"AS IS\" BASIS,\n",
              "// WITHOUT WARRANTIES OR CONDITIONS OF ANY KIND, either express or implied.\n",
              "// See the License for the specific language governing permissions and\n",
              "// limitations under the License.\n",
              "\n",
              "/**\n",
              " * @fileoverview Helpers for google.colab Python module.\n",
              " */\n",
              "(function(scope) {\n",
              "function span(text, styleAttributes = {}) {\n",
              "  const element = document.createElement('span');\n",
              "  element.textContent = text;\n",
              "  for (const key of Object.keys(styleAttributes)) {\n",
              "    element.style[key] = styleAttributes[key];\n",
              "  }\n",
              "  return element;\n",
              "}\n",
              "\n",
              "// Max number of bytes which will be uploaded at a time.\n",
              "const MAX_PAYLOAD_SIZE = 100 * 1024;\n",
              "\n",
              "function _uploadFiles(inputId, outputId) {\n",
              "  const steps = uploadFilesStep(inputId, outputId);\n",
              "  const outputElement = document.getElementById(outputId);\n",
              "  // Cache steps on the outputElement to make it available for the next call\n",
              "  // to uploadFilesContinue from Python.\n",
              "  outputElement.steps = steps;\n",
              "\n",
              "  return _uploadFilesContinue(outputId);\n",
              "}\n",
              "\n",
              "// This is roughly an async generator (not supported in the browser yet),\n",
              "// where there are multiple asynchronous steps and the Python side is going\n",
              "// to poll for completion of each step.\n",
              "// This uses a Promise to block the python side on completion of each step,\n",
              "// then passes the result of the previous step as the input to the next step.\n",
              "function _uploadFilesContinue(outputId) {\n",
              "  const outputElement = document.getElementById(outputId);\n",
              "  const steps = outputElement.steps;\n",
              "\n",
              "  const next = steps.next(outputElement.lastPromiseValue);\n",
              "  return Promise.resolve(next.value.promise).then((value) => {\n",
              "    // Cache the last promise value to make it available to the next\n",
              "    // step of the generator.\n",
              "    outputElement.lastPromiseValue = value;\n",
              "    return next.value.response;\n",
              "  });\n",
              "}\n",
              "\n",
              "/**\n",
              " * Generator function which is called between each async step of the upload\n",
              " * process.\n",
              " * @param {string} inputId Element ID of the input file picker element.\n",
              " * @param {string} outputId Element ID of the output display.\n",
              " * @return {!Iterable<!Object>} Iterable of next steps.\n",
              " */\n",
              "function* uploadFilesStep(inputId, outputId) {\n",
              "  const inputElement = document.getElementById(inputId);\n",
              "  inputElement.disabled = false;\n",
              "\n",
              "  const outputElement = document.getElementById(outputId);\n",
              "  outputElement.innerHTML = '';\n",
              "\n",
              "  const pickedPromise = new Promise((resolve) => {\n",
              "    inputElement.addEventListener('change', (e) => {\n",
              "      resolve(e.target.files);\n",
              "    });\n",
              "  });\n",
              "\n",
              "  const cancel = document.createElement('button');\n",
              "  inputElement.parentElement.appendChild(cancel);\n",
              "  cancel.textContent = 'Cancel upload';\n",
              "  const cancelPromise = new Promise((resolve) => {\n",
              "    cancel.onclick = () => {\n",
              "      resolve(null);\n",
              "    };\n",
              "  });\n",
              "\n",
              "  // Wait for the user to pick the files.\n",
              "  const files = yield {\n",
              "    promise: Promise.race([pickedPromise, cancelPromise]),\n",
              "    response: {\n",
              "      action: 'starting',\n",
              "    }\n",
              "  };\n",
              "\n",
              "  cancel.remove();\n",
              "\n",
              "  // Disable the input element since further picks are not allowed.\n",
              "  inputElement.disabled = true;\n",
              "\n",
              "  if (!files) {\n",
              "    return {\n",
              "      response: {\n",
              "        action: 'complete',\n",
              "      }\n",
              "    };\n",
              "  }\n",
              "\n",
              "  for (const file of files) {\n",
              "    const li = document.createElement('li');\n",
              "    li.append(span(file.name, {fontWeight: 'bold'}));\n",
              "    li.append(span(\n",
              "        `(${file.type || 'n/a'}) - ${file.size} bytes, ` +\n",
              "        `last modified: ${\n",
              "            file.lastModifiedDate ? file.lastModifiedDate.toLocaleDateString() :\n",
              "                                    'n/a'} - `));\n",
              "    const percent = span('0% done');\n",
              "    li.appendChild(percent);\n",
              "\n",
              "    outputElement.appendChild(li);\n",
              "\n",
              "    const fileDataPromise = new Promise((resolve) => {\n",
              "      const reader = new FileReader();\n",
              "      reader.onload = (e) => {\n",
              "        resolve(e.target.result);\n",
              "      };\n",
              "      reader.readAsArrayBuffer(file);\n",
              "    });\n",
              "    // Wait for the data to be ready.\n",
              "    let fileData = yield {\n",
              "      promise: fileDataPromise,\n",
              "      response: {\n",
              "        action: 'continue',\n",
              "      }\n",
              "    };\n",
              "\n",
              "    // Use a chunked sending to avoid message size limits. See b/62115660.\n",
              "    let position = 0;\n",
              "    do {\n",
              "      const length = Math.min(fileData.byteLength - position, MAX_PAYLOAD_SIZE);\n",
              "      const chunk = new Uint8Array(fileData, position, length);\n",
              "      position += length;\n",
              "\n",
              "      const base64 = btoa(String.fromCharCode.apply(null, chunk));\n",
              "      yield {\n",
              "        response: {\n",
              "          action: 'append',\n",
              "          file: file.name,\n",
              "          data: base64,\n",
              "        },\n",
              "      };\n",
              "\n",
              "      let percentDone = fileData.byteLength === 0 ?\n",
              "          100 :\n",
              "          Math.round((position / fileData.byteLength) * 100);\n",
              "      percent.textContent = `${percentDone}% done`;\n",
              "\n",
              "    } while (position < fileData.byteLength);\n",
              "  }\n",
              "\n",
              "  // All done.\n",
              "  yield {\n",
              "    response: {\n",
              "      action: 'complete',\n",
              "    }\n",
              "  };\n",
              "}\n",
              "\n",
              "scope.google = scope.google || {};\n",
              "scope.google.colab = scope.google.colab || {};\n",
              "scope.google.colab._files = {\n",
              "  _uploadFiles,\n",
              "  _uploadFilesContinue,\n",
              "};\n",
              "})(self);\n",
              "</script> "
            ]
          },
          "metadata": {}
        },
        {
          "output_type": "stream",
          "name": "stdout",
          "text": [
            "Saving train_X_prepared.csv to train_X_prepared.csv\n",
            "User uploaded file \"train_X_prepared.csv\" with length 65368 bytes\n"
          ]
        }
      ]
    },
    {
      "cell_type": "code",
      "execution_count": 68,
      "metadata": {
        "id": "Ippaasw0uRu1"
      },
      "outputs": [],
      "source": [
        "diabetes_X_prepared = pd.read_csv(\"train_X_prepared.csv\")\n",
        "\n"
      ]
    },
    {
      "cell_type": "code",
      "source": [
        "from google.colab import files\n",
        "\n",
        "uploaded = files.upload()\n",
        "\n",
        "for fn in uploaded.keys():\n",
        "  print('User uploaded file \"{name}\" with length {length} bytes'.format(\n",
        "      name=fn, length=len(uploaded[fn])))"
      ],
      "metadata": {
        "id": "CuOxxf1Z7f_x",
        "outputId": "7fa563b2-41c3-43b8-9add-548312000d92",
        "colab": {
          "base_uri": "https://localhost:8080/",
          "height": 90
        }
      },
      "execution_count": 69,
      "outputs": [
        {
          "output_type": "display_data",
          "data": {
            "text/plain": [
              "<IPython.core.display.HTML object>"
            ],
            "text/html": [
              "\n",
              "     <input type=\"file\" id=\"files-42e38ebe-cac9-41f4-9788-b9f276c1fa81\" name=\"files[]\" multiple disabled\n",
              "        style=\"border:none\" />\n",
              "     <output id=\"result-42e38ebe-cac9-41f4-9788-b9f276c1fa81\">\n",
              "      Upload widget is only available when the cell has been executed in the\n",
              "      current browser session. Please rerun this cell to enable.\n",
              "      </output>\n",
              "      <script>// Copyright 2017 Google LLC\n",
              "//\n",
              "// Licensed under the Apache License, Version 2.0 (the \"License\");\n",
              "// you may not use this file except in compliance with the License.\n",
              "// You may obtain a copy of the License at\n",
              "//\n",
              "//      http://www.apache.org/licenses/LICENSE-2.0\n",
              "//\n",
              "// Unless required by applicable law or agreed to in writing, software\n",
              "// distributed under the License is distributed on an \"AS IS\" BASIS,\n",
              "// WITHOUT WARRANTIES OR CONDITIONS OF ANY KIND, either express or implied.\n",
              "// See the License for the specific language governing permissions and\n",
              "// limitations under the License.\n",
              "\n",
              "/**\n",
              " * @fileoverview Helpers for google.colab Python module.\n",
              " */\n",
              "(function(scope) {\n",
              "function span(text, styleAttributes = {}) {\n",
              "  const element = document.createElement('span');\n",
              "  element.textContent = text;\n",
              "  for (const key of Object.keys(styleAttributes)) {\n",
              "    element.style[key] = styleAttributes[key];\n",
              "  }\n",
              "  return element;\n",
              "}\n",
              "\n",
              "// Max number of bytes which will be uploaded at a time.\n",
              "const MAX_PAYLOAD_SIZE = 100 * 1024;\n",
              "\n",
              "function _uploadFiles(inputId, outputId) {\n",
              "  const steps = uploadFilesStep(inputId, outputId);\n",
              "  const outputElement = document.getElementById(outputId);\n",
              "  // Cache steps on the outputElement to make it available for the next call\n",
              "  // to uploadFilesContinue from Python.\n",
              "  outputElement.steps = steps;\n",
              "\n",
              "  return _uploadFilesContinue(outputId);\n",
              "}\n",
              "\n",
              "// This is roughly an async generator (not supported in the browser yet),\n",
              "// where there are multiple asynchronous steps and the Python side is going\n",
              "// to poll for completion of each step.\n",
              "// This uses a Promise to block the python side on completion of each step,\n",
              "// then passes the result of the previous step as the input to the next step.\n",
              "function _uploadFilesContinue(outputId) {\n",
              "  const outputElement = document.getElementById(outputId);\n",
              "  const steps = outputElement.steps;\n",
              "\n",
              "  const next = steps.next(outputElement.lastPromiseValue);\n",
              "  return Promise.resolve(next.value.promise).then((value) => {\n",
              "    // Cache the last promise value to make it available to the next\n",
              "    // step of the generator.\n",
              "    outputElement.lastPromiseValue = value;\n",
              "    return next.value.response;\n",
              "  });\n",
              "}\n",
              "\n",
              "/**\n",
              " * Generator function which is called between each async step of the upload\n",
              " * process.\n",
              " * @param {string} inputId Element ID of the input file picker element.\n",
              " * @param {string} outputId Element ID of the output display.\n",
              " * @return {!Iterable<!Object>} Iterable of next steps.\n",
              " */\n",
              "function* uploadFilesStep(inputId, outputId) {\n",
              "  const inputElement = document.getElementById(inputId);\n",
              "  inputElement.disabled = false;\n",
              "\n",
              "  const outputElement = document.getElementById(outputId);\n",
              "  outputElement.innerHTML = '';\n",
              "\n",
              "  const pickedPromise = new Promise((resolve) => {\n",
              "    inputElement.addEventListener('change', (e) => {\n",
              "      resolve(e.target.files);\n",
              "    });\n",
              "  });\n",
              "\n",
              "  const cancel = document.createElement('button');\n",
              "  inputElement.parentElement.appendChild(cancel);\n",
              "  cancel.textContent = 'Cancel upload';\n",
              "  const cancelPromise = new Promise((resolve) => {\n",
              "    cancel.onclick = () => {\n",
              "      resolve(null);\n",
              "    };\n",
              "  });\n",
              "\n",
              "  // Wait for the user to pick the files.\n",
              "  const files = yield {\n",
              "    promise: Promise.race([pickedPromise, cancelPromise]),\n",
              "    response: {\n",
              "      action: 'starting',\n",
              "    }\n",
              "  };\n",
              "\n",
              "  cancel.remove();\n",
              "\n",
              "  // Disable the input element since further picks are not allowed.\n",
              "  inputElement.disabled = true;\n",
              "\n",
              "  if (!files) {\n",
              "    return {\n",
              "      response: {\n",
              "        action: 'complete',\n",
              "      }\n",
              "    };\n",
              "  }\n",
              "\n",
              "  for (const file of files) {\n",
              "    const li = document.createElement('li');\n",
              "    li.append(span(file.name, {fontWeight: 'bold'}));\n",
              "    li.append(span(\n",
              "        `(${file.type || 'n/a'}) - ${file.size} bytes, ` +\n",
              "        `last modified: ${\n",
              "            file.lastModifiedDate ? file.lastModifiedDate.toLocaleDateString() :\n",
              "                                    'n/a'} - `));\n",
              "    const percent = span('0% done');\n",
              "    li.appendChild(percent);\n",
              "\n",
              "    outputElement.appendChild(li);\n",
              "\n",
              "    const fileDataPromise = new Promise((resolve) => {\n",
              "      const reader = new FileReader();\n",
              "      reader.onload = (e) => {\n",
              "        resolve(e.target.result);\n",
              "      };\n",
              "      reader.readAsArrayBuffer(file);\n",
              "    });\n",
              "    // Wait for the data to be ready.\n",
              "    let fileData = yield {\n",
              "      promise: fileDataPromise,\n",
              "      response: {\n",
              "        action: 'continue',\n",
              "      }\n",
              "    };\n",
              "\n",
              "    // Use a chunked sending to avoid message size limits. See b/62115660.\n",
              "    let position = 0;\n",
              "    do {\n",
              "      const length = Math.min(fileData.byteLength - position, MAX_PAYLOAD_SIZE);\n",
              "      const chunk = new Uint8Array(fileData, position, length);\n",
              "      position += length;\n",
              "\n",
              "      const base64 = btoa(String.fromCharCode.apply(null, chunk));\n",
              "      yield {\n",
              "        response: {\n",
              "          action: 'append',\n",
              "          file: file.name,\n",
              "          data: base64,\n",
              "        },\n",
              "      };\n",
              "\n",
              "      let percentDone = fileData.byteLength === 0 ?\n",
              "          100 :\n",
              "          Math.round((position / fileData.byteLength) * 100);\n",
              "      percent.textContent = `${percentDone}% done`;\n",
              "\n",
              "    } while (position < fileData.byteLength);\n",
              "  }\n",
              "\n",
              "  // All done.\n",
              "  yield {\n",
              "    response: {\n",
              "      action: 'complete',\n",
              "    }\n",
              "  };\n",
              "}\n",
              "\n",
              "scope.google = scope.google || {};\n",
              "scope.google.colab = scope.google.colab || {};\n",
              "scope.google.colab._files = {\n",
              "  _uploadFiles,\n",
              "  _uploadFilesContinue,\n",
              "};\n",
              "})(self);\n",
              "</script> "
            ]
          },
          "metadata": {}
        },
        {
          "output_type": "stream",
          "name": "stdout",
          "text": [
            "Saving train_y.csv to train_y.csv\n",
            "User uploaded file \"train_y.csv\" with length 1290 bytes\n"
          ]
        }
      ]
    },
    {
      "cell_type": "code",
      "source": [
        "diabetes_y = pd.read_csv(\"train_y.csv\")\n"
      ],
      "metadata": {
        "id": "AFFqI_8m7jIm"
      },
      "execution_count": 70,
      "outputs": []
    },
    {
      "cell_type": "code",
      "source": [
        "from google.colab import files\n",
        "\n",
        "uploaded = files.upload()\n",
        "\n",
        "for fn in uploaded.keys():\n",
        "  print('User uploaded file \"{name}\" with length {length} bytes'.format(\n",
        "      name=fn, length=len(uploaded[fn])))"
      ],
      "metadata": {
        "id": "0c8k3VmS7vP0",
        "outputId": "9dbd9821-30bf-4caa-d698-5ec400856ec9",
        "colab": {
          "base_uri": "https://localhost:8080/",
          "height": 90
        }
      },
      "execution_count": 71,
      "outputs": [
        {
          "output_type": "display_data",
          "data": {
            "text/plain": [
              "<IPython.core.display.HTML object>"
            ],
            "text/html": [
              "\n",
              "     <input type=\"file\" id=\"files-c5da7795-f5f0-43f6-8069-b4c0619a94ae\" name=\"files[]\" multiple disabled\n",
              "        style=\"border:none\" />\n",
              "     <output id=\"result-c5da7795-f5f0-43f6-8069-b4c0619a94ae\">\n",
              "      Upload widget is only available when the cell has been executed in the\n",
              "      current browser session. Please rerun this cell to enable.\n",
              "      </output>\n",
              "      <script>// Copyright 2017 Google LLC\n",
              "//\n",
              "// Licensed under the Apache License, Version 2.0 (the \"License\");\n",
              "// you may not use this file except in compliance with the License.\n",
              "// You may obtain a copy of the License at\n",
              "//\n",
              "//      http://www.apache.org/licenses/LICENSE-2.0\n",
              "//\n",
              "// Unless required by applicable law or agreed to in writing, software\n",
              "// distributed under the License is distributed on an \"AS IS\" BASIS,\n",
              "// WITHOUT WARRANTIES OR CONDITIONS OF ANY KIND, either express or implied.\n",
              "// See the License for the specific language governing permissions and\n",
              "// limitations under the License.\n",
              "\n",
              "/**\n",
              " * @fileoverview Helpers for google.colab Python module.\n",
              " */\n",
              "(function(scope) {\n",
              "function span(text, styleAttributes = {}) {\n",
              "  const element = document.createElement('span');\n",
              "  element.textContent = text;\n",
              "  for (const key of Object.keys(styleAttributes)) {\n",
              "    element.style[key] = styleAttributes[key];\n",
              "  }\n",
              "  return element;\n",
              "}\n",
              "\n",
              "// Max number of bytes which will be uploaded at a time.\n",
              "const MAX_PAYLOAD_SIZE = 100 * 1024;\n",
              "\n",
              "function _uploadFiles(inputId, outputId) {\n",
              "  const steps = uploadFilesStep(inputId, outputId);\n",
              "  const outputElement = document.getElementById(outputId);\n",
              "  // Cache steps on the outputElement to make it available for the next call\n",
              "  // to uploadFilesContinue from Python.\n",
              "  outputElement.steps = steps;\n",
              "\n",
              "  return _uploadFilesContinue(outputId);\n",
              "}\n",
              "\n",
              "// This is roughly an async generator (not supported in the browser yet),\n",
              "// where there are multiple asynchronous steps and the Python side is going\n",
              "// to poll for completion of each step.\n",
              "// This uses a Promise to block the python side on completion of each step,\n",
              "// then passes the result of the previous step as the input to the next step.\n",
              "function _uploadFilesContinue(outputId) {\n",
              "  const outputElement = document.getElementById(outputId);\n",
              "  const steps = outputElement.steps;\n",
              "\n",
              "  const next = steps.next(outputElement.lastPromiseValue);\n",
              "  return Promise.resolve(next.value.promise).then((value) => {\n",
              "    // Cache the last promise value to make it available to the next\n",
              "    // step of the generator.\n",
              "    outputElement.lastPromiseValue = value;\n",
              "    return next.value.response;\n",
              "  });\n",
              "}\n",
              "\n",
              "/**\n",
              " * Generator function which is called between each async step of the upload\n",
              " * process.\n",
              " * @param {string} inputId Element ID of the input file picker element.\n",
              " * @param {string} outputId Element ID of the output display.\n",
              " * @return {!Iterable<!Object>} Iterable of next steps.\n",
              " */\n",
              "function* uploadFilesStep(inputId, outputId) {\n",
              "  const inputElement = document.getElementById(inputId);\n",
              "  inputElement.disabled = false;\n",
              "\n",
              "  const outputElement = document.getElementById(outputId);\n",
              "  outputElement.innerHTML = '';\n",
              "\n",
              "  const pickedPromise = new Promise((resolve) => {\n",
              "    inputElement.addEventListener('change', (e) => {\n",
              "      resolve(e.target.files);\n",
              "    });\n",
              "  });\n",
              "\n",
              "  const cancel = document.createElement('button');\n",
              "  inputElement.parentElement.appendChild(cancel);\n",
              "  cancel.textContent = 'Cancel upload';\n",
              "  const cancelPromise = new Promise((resolve) => {\n",
              "    cancel.onclick = () => {\n",
              "      resolve(null);\n",
              "    };\n",
              "  });\n",
              "\n",
              "  // Wait for the user to pick the files.\n",
              "  const files = yield {\n",
              "    promise: Promise.race([pickedPromise, cancelPromise]),\n",
              "    response: {\n",
              "      action: 'starting',\n",
              "    }\n",
              "  };\n",
              "\n",
              "  cancel.remove();\n",
              "\n",
              "  // Disable the input element since further picks are not allowed.\n",
              "  inputElement.disabled = true;\n",
              "\n",
              "  if (!files) {\n",
              "    return {\n",
              "      response: {\n",
              "        action: 'complete',\n",
              "      }\n",
              "    };\n",
              "  }\n",
              "\n",
              "  for (const file of files) {\n",
              "    const li = document.createElement('li');\n",
              "    li.append(span(file.name, {fontWeight: 'bold'}));\n",
              "    li.append(span(\n",
              "        `(${file.type || 'n/a'}) - ${file.size} bytes, ` +\n",
              "        `last modified: ${\n",
              "            file.lastModifiedDate ? file.lastModifiedDate.toLocaleDateString() :\n",
              "                                    'n/a'} - `));\n",
              "    const percent = span('0% done');\n",
              "    li.appendChild(percent);\n",
              "\n",
              "    outputElement.appendChild(li);\n",
              "\n",
              "    const fileDataPromise = new Promise((resolve) => {\n",
              "      const reader = new FileReader();\n",
              "      reader.onload = (e) => {\n",
              "        resolve(e.target.result);\n",
              "      };\n",
              "      reader.readAsArrayBuffer(file);\n",
              "    });\n",
              "    // Wait for the data to be ready.\n",
              "    let fileData = yield {\n",
              "      promise: fileDataPromise,\n",
              "      response: {\n",
              "        action: 'continue',\n",
              "      }\n",
              "    };\n",
              "\n",
              "    // Use a chunked sending to avoid message size limits. See b/62115660.\n",
              "    let position = 0;\n",
              "    do {\n",
              "      const length = Math.min(fileData.byteLength - position, MAX_PAYLOAD_SIZE);\n",
              "      const chunk = new Uint8Array(fileData, position, length);\n",
              "      position += length;\n",
              "\n",
              "      const base64 = btoa(String.fromCharCode.apply(null, chunk));\n",
              "      yield {\n",
              "        response: {\n",
              "          action: 'append',\n",
              "          file: file.name,\n",
              "          data: base64,\n",
              "        },\n",
              "      };\n",
              "\n",
              "      let percentDone = fileData.byteLength === 0 ?\n",
              "          100 :\n",
              "          Math.round((position / fileData.byteLength) * 100);\n",
              "      percent.textContent = `${percentDone}% done`;\n",
              "\n",
              "    } while (position < fileData.byteLength);\n",
              "  }\n",
              "\n",
              "  // All done.\n",
              "  yield {\n",
              "    response: {\n",
              "      action: 'complete',\n",
              "    }\n",
              "  };\n",
              "}\n",
              "\n",
              "scope.google = scope.google || {};\n",
              "scope.google.colab = scope.google.colab || {};\n",
              "scope.google.colab._files = {\n",
              "  _uploadFiles,\n",
              "  _uploadFilesContinue,\n",
              "};\n",
              "})(self);\n",
              "</script> "
            ]
          },
          "metadata": {}
        },
        {
          "output_type": "stream",
          "name": "stdout",
          "text": [
            "Saving test_X_y.csv to test_X_y.csv\n",
            "User uploaded file \"test_X_y.csv\" with length 4319 bytes\n"
          ]
        }
      ]
    },
    {
      "cell_type": "code",
      "source": [
        "age_sex_strat_test_set = pd.read_csv(\"test_X_y.csv\")"
      ],
      "metadata": {
        "id": "vFtvge-n7mUh"
      },
      "execution_count": 72,
      "outputs": []
    },
    {
      "cell_type": "markdown",
      "metadata": {
        "id": "Ram5OBl3uRu2"
      },
      "source": [
        "Let's build our linear regression model. We'll use the `LinearRegression` class from the `sklearn.linear_model` package.\n",
        "\n",
        "**Task 👨🏻‍💻** : Create an instance of the `LinearRegression` class and name it `lin_reg`.\n",
        "\n",
        "*Hint*:\n",
        "- the input is the `diabetes_X_prepared` dataset, the output is the `diabetes_y` dataset"
      ]
    },
    {
      "cell_type": "code",
      "execution_count": 84,
      "metadata": {
        "id": "ycvPp-wauRu2",
        "outputId": "aee296a9-d055-4ac5-e13f-743615f78068",
        "colab": {
          "base_uri": "https://localhost:8080/",
          "height": 206
        }
      },
      "outputs": [
        {
          "output_type": "execute_result",
          "data": {
            "text/plain": [
              "        AGE       BMI        BP        S1        S2        S3        S4  \\\n",
              "0 -0.266365 -0.478219 -0.838821 -0.333170  0.110944 -0.387616 -0.029781   \n",
              "1  0.346686  1.568807 -0.862660 -0.076257 -0.271298 -0.310508  0.001600   \n",
              "2 -0.496259 -0.955859 -0.694342  0.694481  0.776572  0.769006 -0.029781   \n",
              "3 -0.036470 -0.546454  1.039404  1.236853 -0.324021 -1.004481  1.539266   \n",
              "4 -1.185941 -0.228027 -0.694342 -0.961179 -0.989649  0.075033 -0.814304   \n",
              "\n",
              "         S5        S6  FEMALE  MALE  \n",
              "0 -0.773674 -0.766011     1.0   0.0  \n",
              "1  0.919461  0.927706     1.0   0.0  \n",
              "2 -0.665161  0.250219     1.0   0.0  \n",
              "3  2.807046  0.419591     1.0   0.0  \n",
              "4 -0.139293 -1.782242     1.0   0.0  "
            ],
            "text/html": [
              "\n",
              "  <div id=\"df-928daefa-3b0d-47d4-9285-6379004a1738\">\n",
              "    <div class=\"colab-df-container\">\n",
              "      <div>\n",
              "<style scoped>\n",
              "    .dataframe tbody tr th:only-of-type {\n",
              "        vertical-align: middle;\n",
              "    }\n",
              "\n",
              "    .dataframe tbody tr th {\n",
              "        vertical-align: top;\n",
              "    }\n",
              "\n",
              "    .dataframe thead th {\n",
              "        text-align: right;\n",
              "    }\n",
              "</style>\n",
              "<table border=\"1\" class=\"dataframe\">\n",
              "  <thead>\n",
              "    <tr style=\"text-align: right;\">\n",
              "      <th></th>\n",
              "      <th>AGE</th>\n",
              "      <th>BMI</th>\n",
              "      <th>BP</th>\n",
              "      <th>S1</th>\n",
              "      <th>S2</th>\n",
              "      <th>S3</th>\n",
              "      <th>S4</th>\n",
              "      <th>S5</th>\n",
              "      <th>S6</th>\n",
              "      <th>FEMALE</th>\n",
              "      <th>MALE</th>\n",
              "    </tr>\n",
              "  </thead>\n",
              "  <tbody>\n",
              "    <tr>\n",
              "      <th>0</th>\n",
              "      <td>-0.266365</td>\n",
              "      <td>-0.478219</td>\n",
              "      <td>-0.838821</td>\n",
              "      <td>-0.333170</td>\n",
              "      <td>0.110944</td>\n",
              "      <td>-0.387616</td>\n",
              "      <td>-0.029781</td>\n",
              "      <td>-0.773674</td>\n",
              "      <td>-0.766011</td>\n",
              "      <td>1.0</td>\n",
              "      <td>0.0</td>\n",
              "    </tr>\n",
              "    <tr>\n",
              "      <th>1</th>\n",
              "      <td>0.346686</td>\n",
              "      <td>1.568807</td>\n",
              "      <td>-0.862660</td>\n",
              "      <td>-0.076257</td>\n",
              "      <td>-0.271298</td>\n",
              "      <td>-0.310508</td>\n",
              "      <td>0.001600</td>\n",
              "      <td>0.919461</td>\n",
              "      <td>0.927706</td>\n",
              "      <td>1.0</td>\n",
              "      <td>0.0</td>\n",
              "    </tr>\n",
              "    <tr>\n",
              "      <th>2</th>\n",
              "      <td>-0.496259</td>\n",
              "      <td>-0.955859</td>\n",
              "      <td>-0.694342</td>\n",
              "      <td>0.694481</td>\n",
              "      <td>0.776572</td>\n",
              "      <td>0.769006</td>\n",
              "      <td>-0.029781</td>\n",
              "      <td>-0.665161</td>\n",
              "      <td>0.250219</td>\n",
              "      <td>1.0</td>\n",
              "      <td>0.0</td>\n",
              "    </tr>\n",
              "    <tr>\n",
              "      <th>3</th>\n",
              "      <td>-0.036470</td>\n",
              "      <td>-0.546454</td>\n",
              "      <td>1.039404</td>\n",
              "      <td>1.236853</td>\n",
              "      <td>-0.324021</td>\n",
              "      <td>-1.004481</td>\n",
              "      <td>1.539266</td>\n",
              "      <td>2.807046</td>\n",
              "      <td>0.419591</td>\n",
              "      <td>1.0</td>\n",
              "      <td>0.0</td>\n",
              "    </tr>\n",
              "    <tr>\n",
              "      <th>4</th>\n",
              "      <td>-1.185941</td>\n",
              "      <td>-0.228027</td>\n",
              "      <td>-0.694342</td>\n",
              "      <td>-0.961179</td>\n",
              "      <td>-0.989649</td>\n",
              "      <td>0.075033</td>\n",
              "      <td>-0.814304</td>\n",
              "      <td>-0.139293</td>\n",
              "      <td>-1.782242</td>\n",
              "      <td>1.0</td>\n",
              "      <td>0.0</td>\n",
              "    </tr>\n",
              "  </tbody>\n",
              "</table>\n",
              "</div>\n",
              "      <button class=\"colab-df-convert\" onclick=\"convertToInteractive('df-928daefa-3b0d-47d4-9285-6379004a1738')\"\n",
              "              title=\"Convert this dataframe to an interactive table.\"\n",
              "              style=\"display:none;\">\n",
              "        \n",
              "  <svg xmlns=\"http://www.w3.org/2000/svg\" height=\"24px\"viewBox=\"0 0 24 24\"\n",
              "       width=\"24px\">\n",
              "    <path d=\"M0 0h24v24H0V0z\" fill=\"none\"/>\n",
              "    <path d=\"M18.56 5.44l.94 2.06.94-2.06 2.06-.94-2.06-.94-.94-2.06-.94 2.06-2.06.94zm-11 1L8.5 8.5l.94-2.06 2.06-.94-2.06-.94L8.5 2.5l-.94 2.06-2.06.94zm10 10l.94 2.06.94-2.06 2.06-.94-2.06-.94-.94-2.06-.94 2.06-2.06.94z\"/><path d=\"M17.41 7.96l-1.37-1.37c-.4-.4-.92-.59-1.43-.59-.52 0-1.04.2-1.43.59L10.3 9.45l-7.72 7.72c-.78.78-.78 2.05 0 2.83L4 21.41c.39.39.9.59 1.41.59.51 0 1.02-.2 1.41-.59l7.78-7.78 2.81-2.81c.8-.78.8-2.07 0-2.86zM5.41 20L4 18.59l7.72-7.72 1.47 1.35L5.41 20z\"/>\n",
              "  </svg>\n",
              "      </button>\n",
              "      \n",
              "  <style>\n",
              "    .colab-df-container {\n",
              "      display:flex;\n",
              "      flex-wrap:wrap;\n",
              "      gap: 12px;\n",
              "    }\n",
              "\n",
              "    .colab-df-convert {\n",
              "      background-color: #E8F0FE;\n",
              "      border: none;\n",
              "      border-radius: 50%;\n",
              "      cursor: pointer;\n",
              "      display: none;\n",
              "      fill: #1967D2;\n",
              "      height: 32px;\n",
              "      padding: 0 0 0 0;\n",
              "      width: 32px;\n",
              "    }\n",
              "\n",
              "    .colab-df-convert:hover {\n",
              "      background-color: #E2EBFA;\n",
              "      box-shadow: 0px 1px 2px rgba(60, 64, 67, 0.3), 0px 1px 3px 1px rgba(60, 64, 67, 0.15);\n",
              "      fill: #174EA6;\n",
              "    }\n",
              "\n",
              "    [theme=dark] .colab-df-convert {\n",
              "      background-color: #3B4455;\n",
              "      fill: #D2E3FC;\n",
              "    }\n",
              "\n",
              "    [theme=dark] .colab-df-convert:hover {\n",
              "      background-color: #434B5C;\n",
              "      box-shadow: 0px 1px 3px 1px rgba(0, 0, 0, 0.15);\n",
              "      filter: drop-shadow(0px 1px 2px rgba(0, 0, 0, 0.3));\n",
              "      fill: #FFFFFF;\n",
              "    }\n",
              "  </style>\n",
              "\n",
              "      <script>\n",
              "        const buttonEl =\n",
              "          document.querySelector('#df-928daefa-3b0d-47d4-9285-6379004a1738 button.colab-df-convert');\n",
              "        buttonEl.style.display =\n",
              "          google.colab.kernel.accessAllowed ? 'block' : 'none';\n",
              "\n",
              "        async function convertToInteractive(key) {\n",
              "          const element = document.querySelector('#df-928daefa-3b0d-47d4-9285-6379004a1738');\n",
              "          const dataTable =\n",
              "            await google.colab.kernel.invokeFunction('convertToInteractive',\n",
              "                                                     [key], {});\n",
              "          if (!dataTable) return;\n",
              "\n",
              "          const docLinkHtml = 'Like what you see? Visit the ' +\n",
              "            '<a target=\"_blank\" href=https://colab.research.google.com/notebooks/data_table.ipynb>data table notebook</a>'\n",
              "            + ' to learn more about interactive tables.';\n",
              "          element.innerHTML = '';\n",
              "          dataTable['output_type'] = 'display_data';\n",
              "          await google.colab.output.renderOutput(dataTable, element);\n",
              "          const docLink = document.createElement('div');\n",
              "          docLink.innerHTML = docLinkHtml;\n",
              "          element.appendChild(docLink);\n",
              "        }\n",
              "      </script>\n",
              "    </div>\n",
              "  </div>\n",
              "  "
            ]
          },
          "metadata": {},
          "execution_count": 84
        }
      ],
      "source": [
        "from sklearn.linear_model import LinearRegression\n",
        "\n",
        "# create an instance of the LinearRegression class\n",
        "lin_reg = LinearRegression()\n",
        "\n",
        "# fit the model to the data\n",
        "lin_reg.fit(diabetes_X_prepared, diabetes_y)\n",
        "#diabetes_X_prepared.head()\n"
      ]
    },
    {
      "cell_type": "markdown",
      "metadata": {
        "id": "yrInpYS_uRu2"
      },
      "source": [
        "to test how well the model did, we'll calculate the RMSE on the training set"
      ]
    },
    {
      "cell_type": "code",
      "execution_count": 90,
      "metadata": {
        "id": "i_sSegDeuRu2",
        "outputId": "9084eb70-34b5-4113-91ec-6066a9459b3d",
        "colab": {
          "base_uri": "https://localhost:8080/"
        }
      },
      "outputs": [
        {
          "output_type": "stream",
          "name": "stdout",
          "text": [
            "RMSE on training set: 53.63500319865106\n"
          ]
        }
      ],
      "source": [
        "from sklearn.metrics import mean_squared_error\n",
        "import numpy as np\n",
        "\n",
        "# predict on the training set\n",
        "y_pred = lin_reg.predict(diabetes_X_prepared)\n",
        "\n",
        "# calculate RMSE\n",
        "test_lin_rmse = np.sqrt(mean_squared_error(diabetes_y, y_pred))\n",
        "\n",
        "print(\"RMSE on training set:\", test_lin_rmse)\n"
      ]
    },
    {
      "cell_type": "markdown",
      "metadata": {
        "id": "dxC_ZfJWuRu2"
      },
      "source": [
        "> 🚩 : Make a git commit here"
      ]
    },
    {
      "cell_type": "markdown",
      "metadata": {
        "id": "udn0g2AhuRu2"
      },
      "source": [
        "Let's create a polynomial regression model. We'll use the `PolynomialFeatures` class from the `sklearn.preprocessing` package to create a new dataset with the polynomial features.\n",
        "\n",
        "**Task 👨🏻‍💻** : \n",
        "- Create an instance of the `PolynomialFeatures` class and name it `poly_features`. Set the `degree` parameter to `2`.\n",
        "- Create a new linear regression model and name it `poly_reg` and train it using the `poly_features`.\n",
        "\n",
        "*Hint*:\n",
        "- you can do this in 2 steps, or you can build a pipeline that will do both steps in one go."
      ]
    },
    {
      "cell_type": "code",
      "execution_count": 86,
      "metadata": {
        "id": "Tq-L54WTuRu2"
      },
      "outputs": [],
      "source": [
        "\n",
        "# create a pipeline for preprocessing the data\n",
        "preprocessing_pipeline = make_column_transformer(\n",
        "    (PolynomialFeatures(degree=2), slice(0, -1)),\n",
        "    remainder='passthrough'\n",
        ")\n",
        "\n",
        "\n",
        "\n",
        "# create a linear regression model\n",
        "linear_reg = LinearRegression()\n",
        "\n",
        "# create a pipeline that combines the preprocessing and the model\n",
        "model_pipeline = make_pipeline(preprocessing_pipeline, linear_reg)\n",
        "\n",
        "# fit the model to the training data\n",
        "model_pipeline.fit(diabetes_X_prepared, diabetes_y)\n",
        "\n",
        "# make predictions on the training set\n",
        "y_pred = model_pipeline.predict(diabetes_X_prepared)\n",
        "\n"
      ]
    },
    {
      "cell_type": "markdown",
      "metadata": {
        "id": "IDrFnMhCuRu3"
      },
      "source": [
        "to test how well the model did, we'll calculate the RMSE on the training set"
      ]
    },
    {
      "cell_type": "code",
      "execution_count": 89,
      "metadata": {
        "id": "TZjyruAhuRu3",
        "outputId": "db4c287d-aad2-438a-c303-5591aaf29822",
        "colab": {
          "base_uri": "https://localhost:8080/"
        }
      },
      "outputs": [
        {
          "output_type": "stream",
          "name": "stdout",
          "text": [
            "RMSE on training set: 47.135272102995174\n"
          ]
        }
      ],
      "source": [
        "# calculate RMSE\n",
        "test_poly_rmse = np.sqrt(mean_squared_error(diabetes_y, y_pred))\n",
        "\n",
        "print(\"RMSE on training set:\", test_poly_rmse)"
      ]
    },
    {
      "cell_type": "markdown",
      "metadata": {
        "id": "43ge541auRu3"
      },
      "source": [
        "> 🚩 : Make a git commit here"
      ]
    },
    {
      "cell_type": "markdown",
      "metadata": {
        "id": "sYmn3URmuRu3"
      },
      "source": [
        "Given the following features, predict the diabetes progression after 1 year (Y) using the linear regression and polynomial regression models.\n",
        "\n",
        "Features:\n",
        "- Age:50\n",
        "- Sex: female (2)\n",
        "- BMI: 26.2\n",
        "- BP: 97\n",
        "- S1: 186\n",
        "- S2: 105.4\n",
        "- S3: 49\n",
        "- S4: 4\n",
        "- S5: 5.0626\n",
        "- S6: 88\n",
        "\n",
        "**Task 👨🏻‍💻** : Given the above features, predict the diabetes progression after 1 year (Y) using the linear regression and polynomial regression models.\n",
        "\n",
        "*Hint 🦉 :* \n",
        " - you'll need to create a list/array/DataFrame with the above features.\n",
        " - you will need to transform that input using the `full_pipeline` before passing it to the model.\n",
        " - you can use the `predict()` method to make predictions\n",
        "   - linear regression model gives a prediction of 165.07515659\n",
        "   - polynomial regression model gives a prediction of 156.5625\n",
        " - At this point, the model is trained, and the processing pipelines are trained. Make sure you don't re-train the model again with the input.\n",
        "   - in other words, you should only use `transform()` calls not the `fit_transform()` and certainly not the `fit()`."
      ]
    },
    {
      "cell_type": "code",
      "execution_count": 88,
      "metadata": {
        "id": "XAA8skMFuRu3",
        "outputId": "10dfb78d-e64d-40ca-e6b3-c4cd5ae29864",
        "colab": {
          "base_uri": "https://localhost:8080/"
        }
      },
      "outputs": [
        {
          "output_type": "stream",
          "name": "stdout",
          "text": [
            "Linear regression prediction: [[-841.06507572]]\n",
            "Polynomial regression prediction: [[1996709.73577691]]\n"
          ]
        },
        {
          "output_type": "stream",
          "name": "stderr",
          "text": [
            "/usr/local/lib/python3.9/dist-packages/sklearn/base.py:439: UserWarning: X does not have valid feature names, but LinearRegression was fitted with feature names\n",
            "  warnings.warn(\n",
            "/usr/local/lib/python3.9/dist-packages/sklearn/base.py:439: UserWarning: X does not have valid feature names, but PolynomialFeatures was fitted with feature names\n",
            "  warnings.warn(\n"
          ]
        }
      ],
      "source": [
        "import numpy as np\n",
        "\n",
        "# Create a numpy array with the given features\n",
        "features = np.array([[50, 26.2, 97, 186, 105.4, 49, 4, 5.0626, 88,1.0,0.0]])\n",
        "\n",
        "# Make prediction using the linear regression model\n",
        "linear_regression_prediction = lin_reg.predict(features)\n",
        "\n",
        "# Make prediction using the polynomial regression model\n",
        "polynomial_regression_prediction = model_pipeline.predict(features)\n",
        "\n",
        "print(\"Linear regression prediction:\", linear_regression_prediction)\n",
        "print(\"Polynomial regression prediction:\", polynomial_regression_prediction)\n"
      ]
    },
    {
      "cell_type": "markdown",
      "metadata": {
        "id": "5jcb09CYuRu3"
      },
      "source": [
        "> 🚩 : Make a git commit here"
      ]
    },
    {
      "cell_type": "markdown",
      "metadata": {
        "id": "pS17wbBYuRu3"
      },
      "source": [
        "## Evaluate against the test set\n",
        "Let's evaluate the models using the test set.\n",
        "\n",
        "**Task 👨🏻‍💻** : Calculate the RMSE on the test set for the linear regression model **AND** the polynomial regression model.\n",
        "\n",
        "*Hint*:\n",
        "- remember to separate the X and y from the test set\n",
        "- remember to transform the X using the `full_pipeline`\n",
        "- I left some print statements. You don't need to change them. Use their output to answer the questions below."
      ]
    },
    {
      "cell_type": "code",
      "execution_count": 82,
      "metadata": {
        "id": "MkDQsAuvuRu4",
        "outputId": "fad4d200-2ec3-4e21-bcf8-adea18f2d0a5",
        "colab": {
          "base_uri": "https://localhost:8080/"
        }
      },
      "outputs": [
        {
          "output_type": "stream",
          "name": "stdout",
          "text": [
            "Linear regression RMSE: 53.712857927746036\n",
            "Polynomial regression RMSE: 67.7047882987392\n"
          ]
        },
        {
          "output_type": "stream",
          "name": "stderr",
          "text": [
            "/usr/local/lib/python3.9/dist-packages/sklearn/base.py:439: UserWarning: X does not have valid feature names, but LinearRegression was fitted with feature names\n",
            "  warnings.warn(\n",
            "/usr/local/lib/python3.9/dist-packages/sklearn/base.py:439: UserWarning: X does not have valid feature names, but PolynomialFeatures was fitted with feature names\n",
            "  warnings.warn(\n"
          ]
        }
      ],
      "source": [
        "from sklearn.metrics import mean_squared_error\n",
        "import numpy as np\n",
        "\n",
        "# separate X and y from the test set\n",
        "X_test = age_sex_strat_test_set.drop('Y', axis=1)\n",
        "y_test = age_sex_strat_test_set['Y']\n",
        "\n",
        "# transform X_test using the full_pipeline\n",
        "X_test_transformed = full_pipeline.transform(X_test)\n",
        "\n",
        "# calculate RMSE for linear regression model\n",
        "lin_rmse = np.sqrt(mean_squared_error(y_test, lin_reg.predict(X_test_transformed)))\n",
        "print(\"Linear regression RMSE:\", lin_rmse)\n",
        "\n",
        "# calculate RMSE for polynomial regression model\n",
        "poly_rmse = np.sqrt(mean_squared_error(y_test, model_pipeline.predict(X_test_transformed)))\n",
        "print(\"Polynomial regression RMSE:\", poly_rmse)\n"
      ]
    },
    {
      "cell_type": "code",
      "execution_count": 91,
      "metadata": {
        "id": "fpVXeGaGuRu4",
        "outputId": "45bff4ce-6c34-4cd9-aede-9281d319353a",
        "colab": {
          "base_uri": "https://localhost:8080/",
          "height": 252
        }
      },
      "outputs": [
        {
          "output_type": "stream",
          "name": "stdout",
          "text": [
            "-----------------------------------------------------------------\n"
          ]
        },
        {
          "output_type": "error",
          "ename": "NameError",
          "evalue": "ignored",
          "traceback": [
            "\u001b[0;31m---------------------------------------------------------------------------\u001b[0m",
            "\u001b[0;31mNameError\u001b[0m                                 Traceback (most recent call last)",
            "\u001b[0;32m<ipython-input-91-a4b6f506585e>\u001b[0m in \u001b[0;36m<cell line: 3>\u001b[0;34m()\u001b[0m\n\u001b[1;32m      1\u001b[0m \u001b[0;31m# Don't modify the code below this line\u001b[0m\u001b[0;34m\u001b[0m\u001b[0;34m\u001b[0m\u001b[0m\n\u001b[1;32m      2\u001b[0m \u001b[0mprint\u001b[0m\u001b[0;34m(\u001b[0m\u001b[0;34m\"-----------------------------------------------------------------\"\u001b[0m\u001b[0;34m)\u001b[0m\u001b[0;34m\u001b[0m\u001b[0;34m\u001b[0m\u001b[0m\n\u001b[0;32m----> 3\u001b[0;31m \u001b[0mprint\u001b[0m\u001b[0;34m(\u001b[0m\u001b[0;34mf\"Linear Regression RMSE on the training set: {lin_rmse}\"\u001b[0m\u001b[0;34m)\u001b[0m\u001b[0;34m\u001b[0m\u001b[0;34m\u001b[0m\u001b[0m\n\u001b[0m\u001b[1;32m      4\u001b[0m \u001b[0mprint\u001b[0m\u001b[0;34m(\u001b[0m\u001b[0;34mf\"Linear Regression RMSE on the test set: {test_lin_rmse}\"\u001b[0m\u001b[0;34m)\u001b[0m\u001b[0;34m\u001b[0m\u001b[0;34m\u001b[0m\u001b[0m\n\u001b[1;32m      5\u001b[0m \u001b[0mprint\u001b[0m\u001b[0;34m(\u001b[0m\u001b[0;34m\"-----------------------------------------------------------------\"\u001b[0m\u001b[0;34m)\u001b[0m\u001b[0;34m\u001b[0m\u001b[0;34m\u001b[0m\u001b[0m\n",
            "\u001b[0;31mNameError\u001b[0m: name 'lin_rmse' is not defined"
          ]
        }
      ],
      "source": [
        "# Don't modify the code below this line\n",
        "print(\"-----------------------------------------------------------------\")\n",
        "print(f\"Linear Regression RMSE on the training set: {lin_rmse}\")\n",
        "print(f\"Linear Regression RMSE on the test set: {test_lin_rmse}\")\n",
        "print(\"-----------------------------------------------------------------\")\n",
        "print(f\"Polynomial Regression RMSE on the training set: {poly_rmse}\")\n",
        "print(f\"Polynomial Regression RMSE on the test set: {test_poly_rmse}\")\n",
        "print(\"-----------------------------------------------------------------\")"
      ]
    },
    {
      "cell_type": "markdown",
      "metadata": {
        "id": "UBgcPWivuRu4"
      },
      "source": [
        "> 🚩 : Make a git commit here"
      ]
    },
    {
      "cell_type": "markdown",
      "metadata": {
        "id": "mZXxAxYouRu4"
      },
      "source": [
        "**Task 👨🏻‍💻** :Comparing the RMSE values for the linear Regression and polynomial regression models on the training and test sets, which model performed better?\n",
        "\n",
        "Here's the output I received. You should get similar results.\n",
        "\n",
        "| Model                 | RMSE on Training Set | RMSE on Test Set  |\n",
        "| --------------------- | -------------------- | ----------------- |\n",
        "| Linear Regression     | 53.63500319865106    | 53.11536987833757 |\n",
        "| Polynomial Regression | 47.80449635259552    | 54.2584162004519  |"
      ]
    },
    {
      "cell_type": "raw",
      "metadata": {
        "id": "8exTu6b5uRu5"
      },
      "source": [
        "Answer the question in this cell:\n"
      ]
    },
    {
      "cell_type": "markdown",
      "metadata": {
        "id": "aaw_ssLzuRu6"
      },
      "source": [
        "> 🚩 : Make a git commit here"
      ]
    },
    {
      "cell_type": "markdown",
      "metadata": {
        "id": "ecSBpnxauRu6"
      },
      "source": [
        "## Wrap up\n",
        "- **Task 👨🏻‍💻** : Remember to update the self reflection and self evaluations on the `README` file.\n",
        "- **Task 👨🏻‍💻** : Make sure you run the following cell. It converts this Jupyter notebook to a Python script. This allows me to provide feedback on your code.\n"
      ]
    },
    {
      "cell_type": "code",
      "execution_count": 92,
      "metadata": {
        "id": "jjFiIy12uRu7",
        "outputId": "aeaf2d44-81da-4428-a85d-901a55b7dfc8",
        "colab": {
          "base_uri": "https://localhost:8080/"
        }
      },
      "outputs": [
        {
          "output_type": "stream",
          "name": "stdout",
          "text": [
            "[NbConvertApp] WARNING | pattern 'diabetes-analysis.ipynb' matched no files\n",
            "This application is used to convert notebook files (*.ipynb)\n",
            "        to various other formats.\n",
            "\n",
            "        WARNING: THE COMMANDLINE INTERFACE MAY CHANGE IN FUTURE RELEASES.\n",
            "\n",
            "Options\n",
            "=======\n",
            "The options below are convenience aliases to configurable class-options,\n",
            "as listed in the \"Equivalent to\" description-line of the aliases.\n",
            "To see all configurable class-options for some <cmd>, use:\n",
            "    <cmd> --help-all\n",
            "\n",
            "--debug\n",
            "    set log level to logging.DEBUG (maximize logging output)\n",
            "    Equivalent to: [--Application.log_level=10]\n",
            "--show-config\n",
            "    Show the application's configuration (human-readable format)\n",
            "    Equivalent to: [--Application.show_config=True]\n",
            "--show-config-json\n",
            "    Show the application's configuration (json format)\n",
            "    Equivalent to: [--Application.show_config_json=True]\n",
            "--generate-config\n",
            "    generate default config file\n",
            "    Equivalent to: [--JupyterApp.generate_config=True]\n",
            "-y\n",
            "    Answer yes to any questions instead of prompting.\n",
            "    Equivalent to: [--JupyterApp.answer_yes=True]\n",
            "--execute\n",
            "    Execute the notebook prior to export.\n",
            "    Equivalent to: [--ExecutePreprocessor.enabled=True]\n",
            "--allow-errors\n",
            "    Continue notebook execution even if one of the cells throws an error and include the error message in the cell output (the default behaviour is to abort conversion). This flag is only relevant if '--execute' was specified, too.\n",
            "    Equivalent to: [--ExecutePreprocessor.allow_errors=True]\n",
            "--stdin\n",
            "    read a single notebook file from stdin. Write the resulting notebook with default basename 'notebook.*'\n",
            "    Equivalent to: [--NbConvertApp.from_stdin=True]\n",
            "--stdout\n",
            "    Write notebook output to stdout instead of files.\n",
            "    Equivalent to: [--NbConvertApp.writer_class=StdoutWriter]\n",
            "--inplace\n",
            "    Run nbconvert in place, overwriting the existing notebook (only\n",
            "            relevant when converting to notebook format)\n",
            "    Equivalent to: [--NbConvertApp.use_output_suffix=False --NbConvertApp.export_format=notebook --FilesWriter.build_directory=]\n",
            "--clear-output\n",
            "    Clear output of current file and save in place,\n",
            "            overwriting the existing notebook.\n",
            "    Equivalent to: [--NbConvertApp.use_output_suffix=False --NbConvertApp.export_format=notebook --FilesWriter.build_directory= --ClearOutputPreprocessor.enabled=True]\n",
            "--no-prompt\n",
            "    Exclude input and output prompts from converted document.\n",
            "    Equivalent to: [--TemplateExporter.exclude_input_prompt=True --TemplateExporter.exclude_output_prompt=True]\n",
            "--no-input\n",
            "    Exclude input cells and output prompts from converted document.\n",
            "            This mode is ideal for generating code-free reports.\n",
            "    Equivalent to: [--TemplateExporter.exclude_output_prompt=True --TemplateExporter.exclude_input=True --TemplateExporter.exclude_input_prompt=True]\n",
            "--allow-chromium-download\n",
            "    Whether to allow downloading chromium if no suitable version is found on the system.\n",
            "    Equivalent to: [--WebPDFExporter.allow_chromium_download=True]\n",
            "--disable-chromium-sandbox\n",
            "    Disable chromium security sandbox when converting to PDF..\n",
            "    Equivalent to: [--WebPDFExporter.disable_sandbox=True]\n",
            "--show-input\n",
            "    Shows code input. This flag is only useful for dejavu users.\n",
            "    Equivalent to: [--TemplateExporter.exclude_input=False]\n",
            "--embed-images\n",
            "    Embed the images as base64 dataurls in the output. This flag is only useful for the HTML/WebPDF/Slides exports.\n",
            "    Equivalent to: [--HTMLExporter.embed_images=True]\n",
            "--sanitize-html\n",
            "    Whether the HTML in Markdown cells and cell outputs should be sanitized..\n",
            "    Equivalent to: [--HTMLExporter.sanitize_html=True]\n",
            "--log-level=<Enum>\n",
            "    Set the log level by value or name.\n",
            "    Choices: any of [0, 10, 20, 30, 40, 50, 'DEBUG', 'INFO', 'WARN', 'ERROR', 'CRITICAL']\n",
            "    Default: 30\n",
            "    Equivalent to: [--Application.log_level]\n",
            "--config=<Unicode>\n",
            "    Full path of a config file.\n",
            "    Default: ''\n",
            "    Equivalent to: [--JupyterApp.config_file]\n",
            "--to=<Unicode>\n",
            "    The export format to be used, either one of the built-in formats\n",
            "            ['asciidoc', 'custom', 'html', 'latex', 'markdown', 'notebook', 'pdf', 'python', 'rst', 'script', 'slides', 'webpdf']\n",
            "            or a dotted object name that represents the import path for an\n",
            "            ``Exporter`` class\n",
            "    Default: ''\n",
            "    Equivalent to: [--NbConvertApp.export_format]\n",
            "--template=<Unicode>\n",
            "    Name of the template to use\n",
            "    Default: ''\n",
            "    Equivalent to: [--TemplateExporter.template_name]\n",
            "--template-file=<Unicode>\n",
            "    Name of the template file to use\n",
            "    Default: None\n",
            "    Equivalent to: [--TemplateExporter.template_file]\n",
            "--theme=<Unicode>\n",
            "    Template specific theme(e.g. the name of a JupyterLab CSS theme distributed\n",
            "    as prebuilt extension for the lab template)\n",
            "    Default: 'light'\n",
            "    Equivalent to: [--HTMLExporter.theme]\n",
            "--sanitize_html=<Bool>\n",
            "    Whether the HTML in Markdown cells and cell outputs should be sanitized.This\n",
            "    should be set to True by nbviewer or similar tools.\n",
            "    Default: False\n",
            "    Equivalent to: [--HTMLExporter.sanitize_html]\n",
            "--writer=<DottedObjectName>\n",
            "    Writer class used to write the\n",
            "                                        results of the conversion\n",
            "    Default: 'FilesWriter'\n",
            "    Equivalent to: [--NbConvertApp.writer_class]\n",
            "--post=<DottedOrNone>\n",
            "    PostProcessor class used to write the\n",
            "                                        results of the conversion\n",
            "    Default: ''\n",
            "    Equivalent to: [--NbConvertApp.postprocessor_class]\n",
            "--output=<Unicode>\n",
            "    overwrite base name use for output files.\n",
            "                can only be used when converting one notebook at a time.\n",
            "    Default: ''\n",
            "    Equivalent to: [--NbConvertApp.output_base]\n",
            "--output-dir=<Unicode>\n",
            "    Directory to write output(s) to. Defaults\n",
            "                                  to output to the directory of each notebook. To recover\n",
            "                                  previous default behaviour (outputting to the current\n",
            "                                  working directory) use . as the flag value.\n",
            "    Default: ''\n",
            "    Equivalent to: [--FilesWriter.build_directory]\n",
            "--reveal-prefix=<Unicode>\n",
            "    The URL prefix for reveal.js (version 3.x).\n",
            "            This defaults to the reveal CDN, but can be any url pointing to a copy\n",
            "            of reveal.js.\n",
            "            For speaker notes to work, this must be a relative path to a local\n",
            "            copy of reveal.js: e.g., \"reveal.js\".\n",
            "            If a relative path is given, it must be a subdirectory of the\n",
            "            current directory (from which the server is run).\n",
            "            See the usage documentation\n",
            "            (https://nbconvert.readthedocs.io/en/latest/usage.html#reveal-js-html-slideshow)\n",
            "            for more details.\n",
            "    Default: ''\n",
            "    Equivalent to: [--SlidesExporter.reveal_url_prefix]\n",
            "--nbformat=<Enum>\n",
            "    The nbformat version to write.\n",
            "            Use this to downgrade notebooks.\n",
            "    Choices: any of [1, 2, 3, 4]\n",
            "    Default: 4\n",
            "    Equivalent to: [--NotebookExporter.nbformat_version]\n",
            "\n",
            "Examples\n",
            "--------\n",
            "\n",
            "    The simplest way to use nbconvert is\n",
            "\n",
            "            > jupyter nbconvert mynotebook.ipynb --to html\n",
            "\n",
            "            Options include ['asciidoc', 'custom', 'html', 'latex', 'markdown', 'notebook', 'pdf', 'python', 'rst', 'script', 'slides', 'webpdf'].\n",
            "\n",
            "            > jupyter nbconvert --to latex mynotebook.ipynb\n",
            "\n",
            "            Both HTML and LaTeX support multiple output templates. LaTeX includes\n",
            "            'base', 'article' and 'report'.  HTML includes 'basic', 'lab' and\n",
            "            'classic'. You can specify the flavor of the format used.\n",
            "\n",
            "            > jupyter nbconvert --to html --template lab mynotebook.ipynb\n",
            "\n",
            "            You can also pipe the output to stdout, rather than a file\n",
            "\n",
            "            > jupyter nbconvert mynotebook.ipynb --stdout\n",
            "\n",
            "            PDF is generated via latex\n",
            "\n",
            "            > jupyter nbconvert mynotebook.ipynb --to pdf\n",
            "\n",
            "            You can get (and serve) a Reveal.js-powered slideshow\n",
            "\n",
            "            > jupyter nbconvert myslides.ipynb --to slides --post serve\n",
            "\n",
            "            Multiple notebooks can be given at the command line in a couple of\n",
            "            different ways:\n",
            "\n",
            "            > jupyter nbconvert notebook*.ipynb\n",
            "            > jupyter nbconvert notebook1.ipynb notebook2.ipynb\n",
            "\n",
            "            or you can specify the notebooks list in a config file, containing::\n",
            "\n",
            "                c.NbConvertApp.notebooks = [\"my_notebook.ipynb\"]\n",
            "\n",
            "            > jupyter nbconvert --config mycfg.py\n",
            "\n",
            "To see all available configurables, use `--help-all`.\n",
            "\n"
          ]
        }
      ],
      "source": [
        "!jupyter nbconvert --to python diabetes-analysis.ipynb"
      ]
    },
    {
      "cell_type": "markdown",
      "metadata": {
        "id": "FJSjQvj5uRu7"
      },
      "source": [
        "> 🚩 : Make a git commit here"
      ]
    }
  ],
  "metadata": {
    "kernelspec": {
      "display_name": "Python 3.10.6 ('diabetes-analysis-DFCHu6Z8')",
      "language": "python",
      "name": "python3"
    },
    "language_info": {
      "codemirror_mode": {
        "name": "ipython",
        "version": 3
      },
      "file_extension": ".py",
      "mimetype": "text/x-python",
      "name": "python",
      "nbconvert_exporter": "python",
      "pygments_lexer": "ipython3",
      "version": "3.10.6"
    },
    "nav_menu": {
      "height": "279px",
      "width": "309px"
    },
    "toc": {
      "nav_menu": {},
      "number_sections": true,
      "sideBar": true,
      "skip_h1_title": false,
      "toc_cell": false,
      "toc_position": {},
      "toc_section_display": "block",
      "toc_window_display": false
    },
    "vscode": {
      "interpreter": {
        "hash": "2d09845d00feb48d72d3f344c531f7074b03bf2ece09d63e18f0843057d67e34"
      }
    },
    "colab": {
      "provenance": []
    }
  },
  "nbformat": 4,
  "nbformat_minor": 0
}